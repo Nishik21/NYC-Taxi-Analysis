{
 "cells": [
  {
   "cell_type": "markdown",
   "metadata": {},
   "source": [
    "## NYC Taxi Analysis\n",
    "\n",
    "## Introduction\n",
    "\n",
    "- NYC Taxi & Limousine Commission offers public data about all trips completed by taxis in New York City\n",
    "- The entire dataset is quite big as it has rides from starting from 2009 till present day - more than a billion trips and counting\n",
    "- For my analysis, I focused on one month (2015-06) of data\n",
    "\n",
    "## Research Question\n",
    "\n",
    "- I sought in my analysis if there are areas in NYC where people travelling from pay more tips while keeping in mind below:\n",
    "    * Such areas may not exist at all\n",
    "    * Data only has latitude, longitude of pickup & drop points, so how should an aread be defined?\n",
    "    * How much is 'more' tip?\n",
    "    * What are some extreme cases\n",
    "    * May need to consider more dimenisons like time, no. of passengers etc."
   ]
  },
  {
   "cell_type": "code",
   "execution_count": 4,
   "metadata": {
    "collapsed": true
   },
   "outputs": [],
   "source": [
    "import pandas as pd\n",
    "import numpy as np\n",
    "\n",
    "import matplotlib.pyplot as plt\n",
    "%matplotlib inline\n",
    "\n",
    "import seaborn as sns\n",
    "\n",
    "from datetime import datetime"
   ]
  },
  {
   "cell_type": "markdown",
   "metadata": {},
   "source": [
    "## Load Data"
   ]
  },
  {
   "cell_type": "code",
   "execution_count": 2,
   "metadata": {
    "collapsed": false
   },
   "outputs": [],
   "source": [
    "data = pd.read_csv('Downloads/yellow_tripdata_2015-06.csv')"
   ]
  },
  {
   "cell_type": "code",
   "execution_count": 3,
   "metadata": {
    "collapsed": false
   },
   "outputs": [
    {
     "data": {
      "text/plain": [
       "(12324935, 19)"
      ]
     },
     "execution_count": 3,
     "metadata": {},
     "output_type": "execute_result"
    }
   ],
   "source": [
    "data.shape"
   ]
  },
  {
   "cell_type": "code",
   "execution_count": 4,
   "metadata": {
    "collapsed": false
   },
   "outputs": [
    {
     "data": {
      "text/plain": [
       "VendorID                   int64\n",
       "tpep_pickup_datetime      object\n",
       "tpep_dropoff_datetime     object\n",
       "passenger_count            int64\n",
       "trip_distance            float64\n",
       "pickup_longitude         float64\n",
       "pickup_latitude          float64\n",
       "RateCodeID                 int64\n",
       "store_and_fwd_flag        object\n",
       "dropoff_longitude        float64\n",
       "dropoff_latitude         float64\n",
       "payment_type               int64\n",
       "fare_amount              float64\n",
       "extra                    float64\n",
       "mta_tax                  float64\n",
       "tip_amount               float64\n",
       "tolls_amount             float64\n",
       "improvement_surcharge    float64\n",
       "total_amount             float64\n",
       "dtype: object"
      ]
     },
     "execution_count": 4,
     "metadata": {},
     "output_type": "execute_result"
    }
   ],
   "source": [
    "data.dtypes"
   ]
  },
  {
   "cell_type": "code",
   "execution_count": 5,
   "metadata": {
    "collapsed": false
   },
   "outputs": [
    {
     "data": {
      "text/html": [
       "<div>\n",
       "<table border=\"1\" class=\"dataframe\">\n",
       "  <thead>\n",
       "    <tr style=\"text-align: right;\">\n",
       "      <th></th>\n",
       "      <th>VendorID</th>\n",
       "      <th>tpep_pickup_datetime</th>\n",
       "      <th>tpep_dropoff_datetime</th>\n",
       "      <th>passenger_count</th>\n",
       "      <th>trip_distance</th>\n",
       "      <th>pickup_longitude</th>\n",
       "      <th>pickup_latitude</th>\n",
       "      <th>RateCodeID</th>\n",
       "      <th>store_and_fwd_flag</th>\n",
       "      <th>dropoff_longitude</th>\n",
       "      <th>dropoff_latitude</th>\n",
       "      <th>payment_type</th>\n",
       "      <th>fare_amount</th>\n",
       "      <th>extra</th>\n",
       "      <th>mta_tax</th>\n",
       "      <th>tip_amount</th>\n",
       "      <th>tolls_amount</th>\n",
       "      <th>improvement_surcharge</th>\n",
       "      <th>total_amount</th>\n",
       "    </tr>\n",
       "  </thead>\n",
       "  <tbody>\n",
       "    <tr>\n",
       "      <th>0</th>\n",
       "      <td>2</td>\n",
       "      <td>2015-06-02 11:19:29</td>\n",
       "      <td>2015-06-02 11:47:52</td>\n",
       "      <td>1</td>\n",
       "      <td>1.63</td>\n",
       "      <td>-73.954430</td>\n",
       "      <td>40.764141</td>\n",
       "      <td>1</td>\n",
       "      <td>N</td>\n",
       "      <td>-73.974754</td>\n",
       "      <td>40.754093</td>\n",
       "      <td>2</td>\n",
       "      <td>17.0</td>\n",
       "      <td>0.0</td>\n",
       "      <td>0.5</td>\n",
       "      <td>0.00</td>\n",
       "      <td>0.0</td>\n",
       "      <td>0.3</td>\n",
       "      <td>17.80</td>\n",
       "    </tr>\n",
       "    <tr>\n",
       "      <th>1</th>\n",
       "      <td>2</td>\n",
       "      <td>2015-06-02 11:19:30</td>\n",
       "      <td>2015-06-02 11:27:56</td>\n",
       "      <td>1</td>\n",
       "      <td>0.46</td>\n",
       "      <td>-73.971443</td>\n",
       "      <td>40.758942</td>\n",
       "      <td>1</td>\n",
       "      <td>N</td>\n",
       "      <td>-73.978539</td>\n",
       "      <td>40.761909</td>\n",
       "      <td>1</td>\n",
       "      <td>6.5</td>\n",
       "      <td>0.0</td>\n",
       "      <td>0.5</td>\n",
       "      <td>1.00</td>\n",
       "      <td>0.0</td>\n",
       "      <td>0.3</td>\n",
       "      <td>8.30</td>\n",
       "    </tr>\n",
       "    <tr>\n",
       "      <th>2</th>\n",
       "      <td>2</td>\n",
       "      <td>2015-06-02 11:19:31</td>\n",
       "      <td>2015-06-02 11:30:30</td>\n",
       "      <td>1</td>\n",
       "      <td>0.87</td>\n",
       "      <td>-73.978111</td>\n",
       "      <td>40.738434</td>\n",
       "      <td>1</td>\n",
       "      <td>N</td>\n",
       "      <td>-73.990273</td>\n",
       "      <td>40.745438</td>\n",
       "      <td>1</td>\n",
       "      <td>8.0</td>\n",
       "      <td>0.0</td>\n",
       "      <td>0.5</td>\n",
       "      <td>2.20</td>\n",
       "      <td>0.0</td>\n",
       "      <td>0.3</td>\n",
       "      <td>11.00</td>\n",
       "    </tr>\n",
       "    <tr>\n",
       "      <th>3</th>\n",
       "      <td>2</td>\n",
       "      <td>2015-06-02 11:19:31</td>\n",
       "      <td>2015-06-02 11:39:02</td>\n",
       "      <td>1</td>\n",
       "      <td>2.13</td>\n",
       "      <td>-73.945892</td>\n",
       "      <td>40.773529</td>\n",
       "      <td>1</td>\n",
       "      <td>N</td>\n",
       "      <td>-73.971527</td>\n",
       "      <td>40.760330</td>\n",
       "      <td>1</td>\n",
       "      <td>13.5</td>\n",
       "      <td>0.0</td>\n",
       "      <td>0.5</td>\n",
       "      <td>2.86</td>\n",
       "      <td>0.0</td>\n",
       "      <td>0.3</td>\n",
       "      <td>17.16</td>\n",
       "    </tr>\n",
       "    <tr>\n",
       "      <th>4</th>\n",
       "      <td>1</td>\n",
       "      <td>2015-06-02 11:19:32</td>\n",
       "      <td>2015-06-02 11:32:49</td>\n",
       "      <td>1</td>\n",
       "      <td>1.40</td>\n",
       "      <td>-73.979088</td>\n",
       "      <td>40.776772</td>\n",
       "      <td>1</td>\n",
       "      <td>N</td>\n",
       "      <td>-73.982162</td>\n",
       "      <td>40.758999</td>\n",
       "      <td>2</td>\n",
       "      <td>9.5</td>\n",
       "      <td>0.0</td>\n",
       "      <td>0.5</td>\n",
       "      <td>0.00</td>\n",
       "      <td>0.0</td>\n",
       "      <td>0.3</td>\n",
       "      <td>10.30</td>\n",
       "    </tr>\n",
       "  </tbody>\n",
       "</table>\n",
       "</div>"
      ],
      "text/plain": [
       "   VendorID tpep_pickup_datetime tpep_dropoff_datetime  passenger_count  \\\n",
       "0         2  2015-06-02 11:19:29   2015-06-02 11:47:52                1   \n",
       "1         2  2015-06-02 11:19:30   2015-06-02 11:27:56                1   \n",
       "2         2  2015-06-02 11:19:31   2015-06-02 11:30:30                1   \n",
       "3         2  2015-06-02 11:19:31   2015-06-02 11:39:02                1   \n",
       "4         1  2015-06-02 11:19:32   2015-06-02 11:32:49                1   \n",
       "\n",
       "   trip_distance  pickup_longitude  pickup_latitude  RateCodeID  \\\n",
       "0           1.63        -73.954430        40.764141           1   \n",
       "1           0.46        -73.971443        40.758942           1   \n",
       "2           0.87        -73.978111        40.738434           1   \n",
       "3           2.13        -73.945892        40.773529           1   \n",
       "4           1.40        -73.979088        40.776772           1   \n",
       "\n",
       "  store_and_fwd_flag  dropoff_longitude  dropoff_latitude  payment_type  \\\n",
       "0                  N         -73.974754         40.754093             2   \n",
       "1                  N         -73.978539         40.761909             1   \n",
       "2                  N         -73.990273         40.745438             1   \n",
       "3                  N         -73.971527         40.760330             1   \n",
       "4                  N         -73.982162         40.758999             2   \n",
       "\n",
       "   fare_amount  extra  mta_tax  tip_amount  tolls_amount  \\\n",
       "0         17.0    0.0      0.5        0.00           0.0   \n",
       "1          6.5    0.0      0.5        1.00           0.0   \n",
       "2          8.0    0.0      0.5        2.20           0.0   \n",
       "3         13.5    0.0      0.5        2.86           0.0   \n",
       "4          9.5    0.0      0.5        0.00           0.0   \n",
       "\n",
       "   improvement_surcharge  total_amount  \n",
       "0                    0.3         17.80  \n",
       "1                    0.3          8.30  \n",
       "2                    0.3         11.00  \n",
       "3                    0.3         17.16  \n",
       "4                    0.3         10.30  "
      ]
     },
     "execution_count": 5,
     "metadata": {},
     "output_type": "execute_result"
    }
   ],
   "source": [
    "data.head()"
   ]
  },
  {
   "cell_type": "code",
   "execution_count": 8,
   "metadata": {
    "collapsed": false
   },
   "outputs": [],
   "source": [
    "data['pickup_day'] = data['tpep_pickup_datetime'].map(lambda x: datetime.strptime(x, \"%Y-%m-%d %H:%M:%S\" ).day)"
   ]
  },
  {
   "cell_type": "code",
   "execution_count": 10,
   "metadata": {
    "collapsed": false
   },
   "outputs": [
    {
     "data": {
      "text/plain": [
       "1     400833\n",
       "2     419994\n",
       "3     425776\n",
       "4     444543\n",
       "5     451185\n",
       "6     449804\n",
       "7     402188\n",
       "8     391087\n",
       "9     409188\n",
       "10    424356\n",
       "11    439869\n",
       "12    443026\n",
       "13    428004\n",
       "14    382037\n",
       "15    374858\n",
       "16    400518\n",
       "17    425743\n",
       "18    429386\n",
       "19    436303\n",
       "20    413866\n",
       "21    366158\n",
       "22    374849\n",
       "23    406139\n",
       "24    411370\n",
       "25    419739\n",
       "26    425774\n",
       "27    445861\n",
       "28    348433\n",
       "29    359808\n",
       "30    374240\n",
       "Name: pickup_day, dtype: int64"
      ]
     },
     "execution_count": 10,
     "metadata": {},
     "output_type": "execute_result"
    }
   ],
   "source": [
    "data.pickup_day.value_counts().sort_index()"
   ]
  },
  {
   "cell_type": "markdown",
   "metadata": {},
   "source": [
    "## Data Down-Sampling\n",
    "\n",
    "As I dug into the data, I relaized quickly that the scale of data (even for a month) is indeed 'big data' for python and single machine computations. The file for June, 2015 is about 2 GB and contains more than 12 Million rows. Even simple operations & data transformations were quite slow on this scale of data on my 8 GB RAM. So I needed to scale things down.\n",
    "\n",
    "I had originally wanted to examine data for a weekly cycle to be able to see weekend vs. weekday effect. Ultimately, though, I found it necessary to constrain my analysis to just a single day. I quickly examined distribution of trips acorss entire month and observed it was an average 400K trips every day. So I  selected 3 June, 2015 randomly for further analysis.\n",
    "\n",
    "Though we do loose information, but also as we are mainly interseted to see the effect of area on tip amount, it should be okay to down-sample to 1 day. "
   ]
  },
  {
   "cell_type": "code",
   "execution_count": 13,
   "metadata": {
    "collapsed": false
   },
   "outputs": [],
   "source": [
    "data = data.loc[data.pickup_day == 3]"
   ]
  },
  {
   "cell_type": "code",
   "execution_count": 14,
   "metadata": {
    "collapsed": false
   },
   "outputs": [
    {
     "data": {
      "text/plain": [
       "(425776, 20)"
      ]
     },
     "execution_count": 14,
     "metadata": {},
     "output_type": "execute_result"
    }
   ],
   "source": [
    "data.shape"
   ]
  },
  {
   "cell_type": "code",
   "execution_count": 32,
   "metadata": {
    "collapsed": false
   },
   "outputs": [
    {
     "data": {
      "text/html": [
       "<div>\n",
       "<table border=\"1\" class=\"dataframe\">\n",
       "  <thead>\n",
       "    <tr style=\"text-align: right;\">\n",
       "      <th></th>\n",
       "      <th>VendorID</th>\n",
       "      <th>tpep_pickup_datetime</th>\n",
       "      <th>tpep_dropoff_datetime</th>\n",
       "      <th>passenger_count</th>\n",
       "      <th>trip_distance</th>\n",
       "      <th>pickup_longitude</th>\n",
       "      <th>pickup_latitude</th>\n",
       "      <th>RateCodeID</th>\n",
       "      <th>store_and_fwd_flag</th>\n",
       "      <th>dropoff_longitude</th>\n",
       "      <th>...</th>\n",
       "      <th>payment_type</th>\n",
       "      <th>fare_amount</th>\n",
       "      <th>extra</th>\n",
       "      <th>mta_tax</th>\n",
       "      <th>tip_amount</th>\n",
       "      <th>tolls_amount</th>\n",
       "      <th>improvement_surcharge</th>\n",
       "      <th>total_amount</th>\n",
       "      <th>pickup_day</th>\n",
       "      <th>pickup_hour</th>\n",
       "    </tr>\n",
       "  </thead>\n",
       "  <tbody>\n",
       "    <tr>\n",
       "      <th>1145196</th>\n",
       "      <td>2</td>\n",
       "      <td>2015-06-03 00:00:00</td>\n",
       "      <td>2015-06-03 00:00:00</td>\n",
       "      <td>3</td>\n",
       "      <td>1.51</td>\n",
       "      <td>-73.991966</td>\n",
       "      <td>40.725712</td>\n",
       "      <td>1</td>\n",
       "      <td>N</td>\n",
       "      <td>-74.003143</td>\n",
       "      <td>...</td>\n",
       "      <td>1</td>\n",
       "      <td>9.0</td>\n",
       "      <td>0.0</td>\n",
       "      <td>0.5</td>\n",
       "      <td>1.47</td>\n",
       "      <td>0.00</td>\n",
       "      <td>0.3</td>\n",
       "      <td>11.27</td>\n",
       "      <td>3</td>\n",
       "      <td>0</td>\n",
       "    </tr>\n",
       "    <tr>\n",
       "      <th>1145197</th>\n",
       "      <td>1</td>\n",
       "      <td>2015-06-03 00:00:01</td>\n",
       "      <td>2015-06-03 00:00:17</td>\n",
       "      <td>2</td>\n",
       "      <td>0.00</td>\n",
       "      <td>0.000000</td>\n",
       "      <td>0.000000</td>\n",
       "      <td>2</td>\n",
       "      <td>N</td>\n",
       "      <td>0.000000</td>\n",
       "      <td>...</td>\n",
       "      <td>1</td>\n",
       "      <td>52.0</td>\n",
       "      <td>0.0</td>\n",
       "      <td>0.5</td>\n",
       "      <td>6.00</td>\n",
       "      <td>5.54</td>\n",
       "      <td>0.3</td>\n",
       "      <td>64.34</td>\n",
       "      <td>3</td>\n",
       "      <td>0</td>\n",
       "    </tr>\n",
       "    <tr>\n",
       "      <th>1145198</th>\n",
       "      <td>2</td>\n",
       "      <td>2015-06-03 00:00:01</td>\n",
       "      <td>2015-06-03 00:06:43</td>\n",
       "      <td>2</td>\n",
       "      <td>1.82</td>\n",
       "      <td>-73.953682</td>\n",
       "      <td>40.775360</td>\n",
       "      <td>1</td>\n",
       "      <td>N</td>\n",
       "      <td>-73.979843</td>\n",
       "      <td>...</td>\n",
       "      <td>1</td>\n",
       "      <td>7.5</td>\n",
       "      <td>0.5</td>\n",
       "      <td>0.5</td>\n",
       "      <td>1.00</td>\n",
       "      <td>0.00</td>\n",
       "      <td>0.3</td>\n",
       "      <td>9.80</td>\n",
       "      <td>3</td>\n",
       "      <td>0</td>\n",
       "    </tr>\n",
       "    <tr>\n",
       "      <th>1145199</th>\n",
       "      <td>2</td>\n",
       "      <td>2015-06-03 00:00:02</td>\n",
       "      <td>2015-06-03 00:03:37</td>\n",
       "      <td>1</td>\n",
       "      <td>0.79</td>\n",
       "      <td>-73.971230</td>\n",
       "      <td>40.755219</td>\n",
       "      <td>1</td>\n",
       "      <td>N</td>\n",
       "      <td>-73.979050</td>\n",
       "      <td>...</td>\n",
       "      <td>2</td>\n",
       "      <td>4.5</td>\n",
       "      <td>0.5</td>\n",
       "      <td>0.5</td>\n",
       "      <td>0.00</td>\n",
       "      <td>0.00</td>\n",
       "      <td>0.3</td>\n",
       "      <td>5.80</td>\n",
       "      <td>3</td>\n",
       "      <td>0</td>\n",
       "    </tr>\n",
       "    <tr>\n",
       "      <th>1145200</th>\n",
       "      <td>2</td>\n",
       "      <td>2015-06-03 00:00:03</td>\n",
       "      <td>2015-06-03 00:18:00</td>\n",
       "      <td>1</td>\n",
       "      <td>5.28</td>\n",
       "      <td>-73.994865</td>\n",
       "      <td>40.760593</td>\n",
       "      <td>1</td>\n",
       "      <td>N</td>\n",
       "      <td>-73.934364</td>\n",
       "      <td>...</td>\n",
       "      <td>1</td>\n",
       "      <td>18.0</td>\n",
       "      <td>0.5</td>\n",
       "      <td>0.5</td>\n",
       "      <td>3.86</td>\n",
       "      <td>0.00</td>\n",
       "      <td>0.3</td>\n",
       "      <td>23.16</td>\n",
       "      <td>3</td>\n",
       "      <td>0</td>\n",
       "    </tr>\n",
       "  </tbody>\n",
       "</table>\n",
       "<p>5 rows × 21 columns</p>\n",
       "</div>"
      ],
      "text/plain": [
       "         VendorID tpep_pickup_datetime tpep_dropoff_datetime  passenger_count  \\\n",
       "1145196         2  2015-06-03 00:00:00   2015-06-03 00:00:00                3   \n",
       "1145197         1  2015-06-03 00:00:01   2015-06-03 00:00:17                2   \n",
       "1145198         2  2015-06-03 00:00:01   2015-06-03 00:06:43                2   \n",
       "1145199         2  2015-06-03 00:00:02   2015-06-03 00:03:37                1   \n",
       "1145200         2  2015-06-03 00:00:03   2015-06-03 00:18:00                1   \n",
       "\n",
       "         trip_distance  pickup_longitude  pickup_latitude  RateCodeID  \\\n",
       "1145196           1.51        -73.991966        40.725712           1   \n",
       "1145197           0.00          0.000000         0.000000           2   \n",
       "1145198           1.82        -73.953682        40.775360           1   \n",
       "1145199           0.79        -73.971230        40.755219           1   \n",
       "1145200           5.28        -73.994865        40.760593           1   \n",
       "\n",
       "        store_and_fwd_flag  dropoff_longitude     ...       payment_type  \\\n",
       "1145196                  N         -74.003143     ...                  1   \n",
       "1145197                  N           0.000000     ...                  1   \n",
       "1145198                  N         -73.979843     ...                  1   \n",
       "1145199                  N         -73.979050     ...                  2   \n",
       "1145200                  N         -73.934364     ...                  1   \n",
       "\n",
       "         fare_amount  extra  mta_tax  tip_amount  tolls_amount  \\\n",
       "1145196          9.0    0.0      0.5        1.47          0.00   \n",
       "1145197         52.0    0.0      0.5        6.00          5.54   \n",
       "1145198          7.5    0.5      0.5        1.00          0.00   \n",
       "1145199          4.5    0.5      0.5        0.00          0.00   \n",
       "1145200         18.0    0.5      0.5        3.86          0.00   \n",
       "\n",
       "         improvement_surcharge  total_amount  pickup_day  pickup_hour  \n",
       "1145196                    0.3         11.27           3            0  \n",
       "1145197                    0.3         64.34           3            0  \n",
       "1145198                    0.3          9.80           3            0  \n",
       "1145199                    0.3          5.80           3            0  \n",
       "1145200                    0.3         23.16           3            0  \n",
       "\n",
       "[5 rows x 21 columns]"
      ]
     },
     "execution_count": 32,
     "metadata": {},
     "output_type": "execute_result"
    }
   ],
   "source": [
    "data.head()"
   ]
  },
  {
   "cell_type": "code",
   "execution_count": 16,
   "metadata": {
    "collapsed": false
   },
   "outputs": [
    {
     "data": {
      "text/html": [
       "<div>\n",
       "<table border=\"1\" class=\"dataframe\">\n",
       "  <thead>\n",
       "    <tr style=\"text-align: right;\">\n",
       "      <th></th>\n",
       "      <th>VendorID</th>\n",
       "      <th>passenger_count</th>\n",
       "      <th>trip_distance</th>\n",
       "      <th>pickup_longitude</th>\n",
       "      <th>pickup_latitude</th>\n",
       "      <th>RateCodeID</th>\n",
       "      <th>dropoff_longitude</th>\n",
       "      <th>dropoff_latitude</th>\n",
       "      <th>payment_type</th>\n",
       "      <th>fare_amount</th>\n",
       "      <th>extra</th>\n",
       "      <th>mta_tax</th>\n",
       "      <th>tip_amount</th>\n",
       "      <th>tolls_amount</th>\n",
       "      <th>improvement_surcharge</th>\n",
       "      <th>total_amount</th>\n",
       "      <th>pickup_day</th>\n",
       "    </tr>\n",
       "  </thead>\n",
       "  <tbody>\n",
       "    <tr>\n",
       "      <th>count</th>\n",
       "      <td>425776.000000</td>\n",
       "      <td>425776.000000</td>\n",
       "      <td>425776.000000</td>\n",
       "      <td>425776.000000</td>\n",
       "      <td>425776.000000</td>\n",
       "      <td>425776.000000</td>\n",
       "      <td>425776.000000</td>\n",
       "      <td>425776.000000</td>\n",
       "      <td>425776.000000</td>\n",
       "      <td>425776.000000</td>\n",
       "      <td>425776.000000</td>\n",
       "      <td>425776.000000</td>\n",
       "      <td>425776.000000</td>\n",
       "      <td>425776.000000</td>\n",
       "      <td>425776.000000</td>\n",
       "      <td>425776.000000</td>\n",
       "      <td>425776.0</td>\n",
       "    </tr>\n",
       "    <tr>\n",
       "      <th>mean</th>\n",
       "      <td>1.523155</td>\n",
       "      <td>1.647989</td>\n",
       "      <td>2.926466</td>\n",
       "      <td>-72.909211</td>\n",
       "      <td>40.165476</td>\n",
       "      <td>1.037264</td>\n",
       "      <td>-72.936029</td>\n",
       "      <td>40.181498</td>\n",
       "      <td>1.358815</td>\n",
       "      <td>13.292383</td>\n",
       "      <td>0.358525</td>\n",
       "      <td>0.497900</td>\n",
       "      <td>1.823521</td>\n",
       "      <td>0.320647</td>\n",
       "      <td>0.299746</td>\n",
       "      <td>16.592899</td>\n",
       "      <td>3.0</td>\n",
       "    </tr>\n",
       "    <tr>\n",
       "      <th>std</th>\n",
       "      <td>0.499464</td>\n",
       "      <td>1.324534</td>\n",
       "      <td>3.690656</td>\n",
       "      <td>8.809160</td>\n",
       "      <td>4.853057</td>\n",
       "      <td>0.503443</td>\n",
       "      <td>8.700040</td>\n",
       "      <td>4.840542</td>\n",
       "      <td>0.494082</td>\n",
       "      <td>10.951677</td>\n",
       "      <td>0.388530</td>\n",
       "      <td>0.034783</td>\n",
       "      <td>2.576556</td>\n",
       "      <td>1.686782</td>\n",
       "      <td>0.011692</td>\n",
       "      <td>13.500400</td>\n",
       "      <td>0.0</td>\n",
       "    </tr>\n",
       "    <tr>\n",
       "      <th>min</th>\n",
       "      <td>1.000000</td>\n",
       "      <td>0.000000</td>\n",
       "      <td>0.000000</td>\n",
       "      <td>-87.860580</td>\n",
       "      <td>0.000000</td>\n",
       "      <td>1.000000</td>\n",
       "      <td>-84.839378</td>\n",
       "      <td>0.000000</td>\n",
       "      <td>1.000000</td>\n",
       "      <td>-91.000000</td>\n",
       "      <td>-1.000000</td>\n",
       "      <td>-0.500000</td>\n",
       "      <td>-1.000000</td>\n",
       "      <td>0.000000</td>\n",
       "      <td>-0.300000</td>\n",
       "      <td>-91.300000</td>\n",
       "      <td>3.0</td>\n",
       "    </tr>\n",
       "    <tr>\n",
       "      <th>25%</th>\n",
       "      <td>1.000000</td>\n",
       "      <td>1.000000</td>\n",
       "      <td>1.000000</td>\n",
       "      <td>-73.991524</td>\n",
       "      <td>40.738007</td>\n",
       "      <td>1.000000</td>\n",
       "      <td>-73.990967</td>\n",
       "      <td>40.736649</td>\n",
       "      <td>1.000000</td>\n",
       "      <td>7.000000</td>\n",
       "      <td>0.000000</td>\n",
       "      <td>0.500000</td>\n",
       "      <td>0.000000</td>\n",
       "      <td>0.000000</td>\n",
       "      <td>0.300000</td>\n",
       "      <td>8.800000</td>\n",
       "      <td>3.0</td>\n",
       "    </tr>\n",
       "    <tr>\n",
       "      <th>50%</th>\n",
       "      <td>2.000000</td>\n",
       "      <td>1.000000</td>\n",
       "      <td>1.700000</td>\n",
       "      <td>-73.980721</td>\n",
       "      <td>40.755169</td>\n",
       "      <td>1.000000</td>\n",
       "      <td>-73.979042</td>\n",
       "      <td>40.755070</td>\n",
       "      <td>1.000000</td>\n",
       "      <td>10.000000</td>\n",
       "      <td>0.500000</td>\n",
       "      <td>0.500000</td>\n",
       "      <td>1.320000</td>\n",
       "      <td>0.000000</td>\n",
       "      <td>0.300000</td>\n",
       "      <td>12.360000</td>\n",
       "      <td>3.0</td>\n",
       "    </tr>\n",
       "    <tr>\n",
       "      <th>75%</th>\n",
       "      <td>2.000000</td>\n",
       "      <td>2.000000</td>\n",
       "      <td>3.100000</td>\n",
       "      <td>-73.965805</td>\n",
       "      <td>40.768978</td>\n",
       "      <td>1.000000</td>\n",
       "      <td>-73.962601</td>\n",
       "      <td>40.769699</td>\n",
       "      <td>2.000000</td>\n",
       "      <td>15.500000</td>\n",
       "      <td>0.500000</td>\n",
       "      <td>0.500000</td>\n",
       "      <td>2.460000</td>\n",
       "      <td>0.000000</td>\n",
       "      <td>0.300000</td>\n",
       "      <td>18.500000</td>\n",
       "      <td>3.0</td>\n",
       "    </tr>\n",
       "    <tr>\n",
       "      <th>max</th>\n",
       "      <td>2.000000</td>\n",
       "      <td>9.000000</td>\n",
       "      <td>580.200000</td>\n",
       "      <td>0.000000</td>\n",
       "      <td>52.170792</td>\n",
       "      <td>99.000000</td>\n",
       "      <td>0.000000</td>\n",
       "      <td>480.250000</td>\n",
       "      <td>5.000000</td>\n",
       "      <td>940.000000</td>\n",
       "      <td>1.500000</td>\n",
       "      <td>0.500000</td>\n",
       "      <td>200.000000</td>\n",
       "      <td>595.630000</td>\n",
       "      <td>0.300000</td>\n",
       "      <td>980.300000</td>\n",
       "      <td>3.0</td>\n",
       "    </tr>\n",
       "  </tbody>\n",
       "</table>\n",
       "</div>"
      ],
      "text/plain": [
       "            VendorID  passenger_count  trip_distance  pickup_longitude  \\\n",
       "count  425776.000000    425776.000000  425776.000000     425776.000000   \n",
       "mean        1.523155         1.647989       2.926466        -72.909211   \n",
       "std         0.499464         1.324534       3.690656          8.809160   \n",
       "min         1.000000         0.000000       0.000000        -87.860580   \n",
       "25%         1.000000         1.000000       1.000000        -73.991524   \n",
       "50%         2.000000         1.000000       1.700000        -73.980721   \n",
       "75%         2.000000         2.000000       3.100000        -73.965805   \n",
       "max         2.000000         9.000000     580.200000          0.000000   \n",
       "\n",
       "       pickup_latitude     RateCodeID  dropoff_longitude  dropoff_latitude  \\\n",
       "count    425776.000000  425776.000000      425776.000000     425776.000000   \n",
       "mean         40.165476       1.037264         -72.936029         40.181498   \n",
       "std           4.853057       0.503443           8.700040          4.840542   \n",
       "min           0.000000       1.000000         -84.839378          0.000000   \n",
       "25%          40.738007       1.000000         -73.990967         40.736649   \n",
       "50%          40.755169       1.000000         -73.979042         40.755070   \n",
       "75%          40.768978       1.000000         -73.962601         40.769699   \n",
       "max          52.170792      99.000000           0.000000        480.250000   \n",
       "\n",
       "        payment_type    fare_amount          extra        mta_tax  \\\n",
       "count  425776.000000  425776.000000  425776.000000  425776.000000   \n",
       "mean        1.358815      13.292383       0.358525       0.497900   \n",
       "std         0.494082      10.951677       0.388530       0.034783   \n",
       "min         1.000000     -91.000000      -1.000000      -0.500000   \n",
       "25%         1.000000       7.000000       0.000000       0.500000   \n",
       "50%         1.000000      10.000000       0.500000       0.500000   \n",
       "75%         2.000000      15.500000       0.500000       0.500000   \n",
       "max         5.000000     940.000000       1.500000       0.500000   \n",
       "\n",
       "          tip_amount   tolls_amount  improvement_surcharge   total_amount  \\\n",
       "count  425776.000000  425776.000000          425776.000000  425776.000000   \n",
       "mean        1.823521       0.320647               0.299746      16.592899   \n",
       "std         2.576556       1.686782               0.011692      13.500400   \n",
       "min        -1.000000       0.000000              -0.300000     -91.300000   \n",
       "25%         0.000000       0.000000               0.300000       8.800000   \n",
       "50%         1.320000       0.000000               0.300000      12.360000   \n",
       "75%         2.460000       0.000000               0.300000      18.500000   \n",
       "max       200.000000     595.630000               0.300000     980.300000   \n",
       "\n",
       "       pickup_day  \n",
       "count    425776.0  \n",
       "mean          3.0  \n",
       "std           0.0  \n",
       "min           3.0  \n",
       "25%           3.0  \n",
       "50%           3.0  \n",
       "75%           3.0  \n",
       "max           3.0  "
      ]
     },
     "execution_count": 16,
     "metadata": {},
     "output_type": "execute_result"
    }
   ],
   "source": [
    "data.describe()"
   ]
  },
  {
   "cell_type": "markdown",
   "metadata": {},
   "source": [
    "## Data Cleaning\n",
    "\n",
    "A simple data.describe() showed me that though there are no missing values, but there are some incorrect values that needs to be dropped or corrected somehow. As they were only handful, I decided to drop them indeed.\n",
    "\n",
    "- 0 latitude & longitude for pickup and/or dropoff\n",
    "- 0 passenger count\n",
    "- 0 trip distance\n",
    "- 0 or -ve fare amount"
   ]
  },
  {
   "cell_type": "code",
   "execution_count": 77,
   "metadata": {
    "collapsed": false
   },
   "outputs": [],
   "source": [
    "# drop rows with 0 values for pickup or drop off lat/long\n",
    "data = data[(data.pickup_latitude != 0) & \n",
    "            (data.pickup_longitude != 0) & \n",
    "            (data.dropoff_latitude !=0) & \n",
    "            (data.dropoff_longitude !=0)]\n",
    "\n",
    "# drop rows with 0 passenger count\n",
    "\n",
    "data = data[data.passenger_count >0]\n",
    "\n",
    "# drop rows with 0 trip distance \n",
    "\n",
    "data = data[data.trip_distance >0]\n",
    "\n",
    "# drop rows with either 0 or -ve fare amount\n",
    "\n",
    "data = data[data.fare_amount >0]"
   ]
  },
  {
   "cell_type": "code",
   "execution_count": 78,
   "metadata": {
    "collapsed": false
   },
   "outputs": [
    {
     "data": {
      "text/plain": [
       "(417223, 22)"
      ]
     },
     "execution_count": 78,
     "metadata": {},
     "output_type": "execute_result"
    }
   ],
   "source": [
    "data.shape"
   ]
  },
  {
   "cell_type": "code",
   "execution_count": 80,
   "metadata": {
    "collapsed": false
   },
   "outputs": [
    {
     "data": {
      "text/html": [
       "<div>\n",
       "<table border=\"1\" class=\"dataframe\">\n",
       "  <thead>\n",
       "    <tr style=\"text-align: right;\">\n",
       "      <th></th>\n",
       "      <th>VendorID</th>\n",
       "      <th>passenger_count</th>\n",
       "      <th>trip_distance</th>\n",
       "      <th>pickup_longitude</th>\n",
       "      <th>pickup_latitude</th>\n",
       "      <th>RateCodeID</th>\n",
       "      <th>dropoff_longitude</th>\n",
       "      <th>dropoff_latitude</th>\n",
       "      <th>payment_type</th>\n",
       "      <th>fare_amount</th>\n",
       "      <th>extra</th>\n",
       "      <th>mta_tax</th>\n",
       "      <th>tip_amount</th>\n",
       "      <th>tolls_amount</th>\n",
       "      <th>improvement_surcharge</th>\n",
       "      <th>total_amount</th>\n",
       "      <th>pickup_day</th>\n",
       "      <th>pickup_hour</th>\n",
       "    </tr>\n",
       "  </thead>\n",
       "  <tbody>\n",
       "    <tr>\n",
       "      <th>count</th>\n",
       "      <td>417223.000000</td>\n",
       "      <td>417223.000000</td>\n",
       "      <td>417223.000000</td>\n",
       "      <td>417223.000000</td>\n",
       "      <td>417223.000000</td>\n",
       "      <td>417223.000000</td>\n",
       "      <td>417223.000000</td>\n",
       "      <td>417223.000000</td>\n",
       "      <td>417223.000000</td>\n",
       "      <td>417223.000000</td>\n",
       "      <td>417223.000000</td>\n",
       "      <td>417223.000000</td>\n",
       "      <td>417223.000000</td>\n",
       "      <td>417223.000000</td>\n",
       "      <td>417223.000000</td>\n",
       "      <td>417223.000000</td>\n",
       "      <td>417223.0</td>\n",
       "      <td>417223.000000</td>\n",
       "    </tr>\n",
       "    <tr>\n",
       "      <th>mean</th>\n",
       "      <td>1.527766</td>\n",
       "      <td>1.653003</td>\n",
       "      <td>2.944773</td>\n",
       "      <td>-73.973618</td>\n",
       "      <td>40.751854</td>\n",
       "      <td>1.029751</td>\n",
       "      <td>-73.973844</td>\n",
       "      <td>40.753254</td>\n",
       "      <td>1.355393</td>\n",
       "      <td>13.266274</td>\n",
       "      <td>0.359787</td>\n",
       "      <td>0.498802</td>\n",
       "      <td>1.820428</td>\n",
       "      <td>0.319515</td>\n",
       "      <td>0.299981</td>\n",
       "      <td>16.564970</td>\n",
       "      <td>3.0</td>\n",
       "      <td>13.980933</td>\n",
       "    </tr>\n",
       "    <tr>\n",
       "      <th>std</th>\n",
       "      <td>0.499229</td>\n",
       "      <td>1.329507</td>\n",
       "      <td>3.696218</td>\n",
       "      <td>0.049039</td>\n",
       "      <td>0.043311</td>\n",
       "      <td>0.344791</td>\n",
       "      <td>0.042338</td>\n",
       "      <td>0.684222</td>\n",
       "      <td>0.489941</td>\n",
       "      <td>10.644777</td>\n",
       "      <td>0.388362</td>\n",
       "      <td>0.024449</td>\n",
       "      <td>2.530949</td>\n",
       "      <td>1.687780</td>\n",
       "      <td>0.002368</td>\n",
       "      <td>13.206919</td>\n",
       "      <td>0.0</td>\n",
       "      <td>6.178966</td>\n",
       "    </tr>\n",
       "    <tr>\n",
       "      <th>min</th>\n",
       "      <td>1.000000</td>\n",
       "      <td>1.000000</td>\n",
       "      <td>0.010000</td>\n",
       "      <td>-87.860580</td>\n",
       "      <td>27.869371</td>\n",
       "      <td>1.000000</td>\n",
       "      <td>-84.839378</td>\n",
       "      <td>4.111312</td>\n",
       "      <td>1.000000</td>\n",
       "      <td>0.010000</td>\n",
       "      <td>0.000000</td>\n",
       "      <td>0.000000</td>\n",
       "      <td>0.000000</td>\n",
       "      <td>0.000000</td>\n",
       "      <td>0.000000</td>\n",
       "      <td>0.310000</td>\n",
       "      <td>3.0</td>\n",
       "      <td>0.000000</td>\n",
       "    </tr>\n",
       "    <tr>\n",
       "      <th>25%</th>\n",
       "      <td>1.000000</td>\n",
       "      <td>1.000000</td>\n",
       "      <td>1.010000</td>\n",
       "      <td>-73.991653</td>\n",
       "      <td>40.738956</td>\n",
       "      <td>1.000000</td>\n",
       "      <td>-73.991104</td>\n",
       "      <td>40.737778</td>\n",
       "      <td>1.000000</td>\n",
       "      <td>7.000000</td>\n",
       "      <td>0.000000</td>\n",
       "      <td>0.500000</td>\n",
       "      <td>0.000000</td>\n",
       "      <td>0.000000</td>\n",
       "      <td>0.300000</td>\n",
       "      <td>8.800000</td>\n",
       "      <td>3.0</td>\n",
       "      <td>9.000000</td>\n",
       "    </tr>\n",
       "    <tr>\n",
       "      <th>50%</th>\n",
       "      <td>2.000000</td>\n",
       "      <td>1.000000</td>\n",
       "      <td>1.700000</td>\n",
       "      <td>-73.981049</td>\n",
       "      <td>40.755581</td>\n",
       "      <td>1.000000</td>\n",
       "      <td>-73.979332</td>\n",
       "      <td>40.755466</td>\n",
       "      <td>1.000000</td>\n",
       "      <td>10.000000</td>\n",
       "      <td>0.500000</td>\n",
       "      <td>0.500000</td>\n",
       "      <td>1.350000</td>\n",
       "      <td>0.000000</td>\n",
       "      <td>0.300000</td>\n",
       "      <td>12.360000</td>\n",
       "      <td>3.0</td>\n",
       "      <td>14.000000</td>\n",
       "    </tr>\n",
       "    <tr>\n",
       "      <th>75%</th>\n",
       "      <td>2.000000</td>\n",
       "      <td>2.000000</td>\n",
       "      <td>3.100000</td>\n",
       "      <td>-73.966743</td>\n",
       "      <td>40.769184</td>\n",
       "      <td>1.000000</td>\n",
       "      <td>-73.963646</td>\n",
       "      <td>40.770020</td>\n",
       "      <td>2.000000</td>\n",
       "      <td>15.500000</td>\n",
       "      <td>0.500000</td>\n",
       "      <td>0.500000</td>\n",
       "      <td>2.460000</td>\n",
       "      <td>0.000000</td>\n",
       "      <td>0.300000</td>\n",
       "      <td>18.500000</td>\n",
       "      <td>3.0</td>\n",
       "      <td>19.000000</td>\n",
       "    </tr>\n",
       "    <tr>\n",
       "      <th>max</th>\n",
       "      <td>2.000000</td>\n",
       "      <td>7.000000</td>\n",
       "      <td>580.200000</td>\n",
       "      <td>-73.422028</td>\n",
       "      <td>52.170792</td>\n",
       "      <td>99.000000</td>\n",
       "      <td>-69.196922</td>\n",
       "      <td>480.250000</td>\n",
       "      <td>5.000000</td>\n",
       "      <td>555.500000</td>\n",
       "      <td>1.500000</td>\n",
       "      <td>0.500000</td>\n",
       "      <td>200.000000</td>\n",
       "      <td>595.630000</td>\n",
       "      <td>0.300000</td>\n",
       "      <td>666.960000</td>\n",
       "      <td>3.0</td>\n",
       "      <td>23.000000</td>\n",
       "    </tr>\n",
       "  </tbody>\n",
       "</table>\n",
       "</div>"
      ],
      "text/plain": [
       "            VendorID  passenger_count  trip_distance  pickup_longitude  \\\n",
       "count  417223.000000    417223.000000  417223.000000     417223.000000   \n",
       "mean        1.527766         1.653003       2.944773        -73.973618   \n",
       "std         0.499229         1.329507       3.696218          0.049039   \n",
       "min         1.000000         1.000000       0.010000        -87.860580   \n",
       "25%         1.000000         1.000000       1.010000        -73.991653   \n",
       "50%         2.000000         1.000000       1.700000        -73.981049   \n",
       "75%         2.000000         2.000000       3.100000        -73.966743   \n",
       "max         2.000000         7.000000     580.200000        -73.422028   \n",
       "\n",
       "       pickup_latitude     RateCodeID  dropoff_longitude  dropoff_latitude  \\\n",
       "count    417223.000000  417223.000000      417223.000000     417223.000000   \n",
       "mean         40.751854       1.029751         -73.973844         40.753254   \n",
       "std           0.043311       0.344791           0.042338          0.684222   \n",
       "min          27.869371       1.000000         -84.839378          4.111312   \n",
       "25%          40.738956       1.000000         -73.991104         40.737778   \n",
       "50%          40.755581       1.000000         -73.979332         40.755466   \n",
       "75%          40.769184       1.000000         -73.963646         40.770020   \n",
       "max          52.170792      99.000000         -69.196922        480.250000   \n",
       "\n",
       "        payment_type    fare_amount          extra        mta_tax  \\\n",
       "count  417223.000000  417223.000000  417223.000000  417223.000000   \n",
       "mean        1.355393      13.266274       0.359787       0.498802   \n",
       "std         0.489941      10.644777       0.388362       0.024449   \n",
       "min         1.000000       0.010000       0.000000       0.000000   \n",
       "25%         1.000000       7.000000       0.000000       0.500000   \n",
       "50%         1.000000      10.000000       0.500000       0.500000   \n",
       "75%         2.000000      15.500000       0.500000       0.500000   \n",
       "max         5.000000     555.500000       1.500000       0.500000   \n",
       "\n",
       "          tip_amount   tolls_amount  improvement_surcharge   total_amount  \\\n",
       "count  417223.000000  417223.000000          417223.000000  417223.000000   \n",
       "mean        1.820428       0.319515               0.299981      16.564970   \n",
       "std         2.530949       1.687780               0.002368      13.206919   \n",
       "min         0.000000       0.000000               0.000000       0.310000   \n",
       "25%         0.000000       0.000000               0.300000       8.800000   \n",
       "50%         1.350000       0.000000               0.300000      12.360000   \n",
       "75%         2.460000       0.000000               0.300000      18.500000   \n",
       "max       200.000000     595.630000               0.300000     666.960000   \n",
       "\n",
       "       pickup_day    pickup_hour  \n",
       "count    417223.0  417223.000000  \n",
       "mean          3.0      13.980933  \n",
       "std           0.0       6.178966  \n",
       "min           3.0       0.000000  \n",
       "25%           3.0       9.000000  \n",
       "50%           3.0      14.000000  \n",
       "75%           3.0      19.000000  \n",
       "max           3.0      23.000000  "
      ]
     },
     "execution_count": 80,
     "metadata": {},
     "output_type": "execute_result"
    }
   ],
   "source": [
    "data.describe()"
   ]
  },
  {
   "cell_type": "markdown",
   "metadata": {},
   "source": [
    "## Feature Engineering\n",
    "\n",
    "Before jumping into analysis, I decided to engineer some features that made intuitive sense to have effect on tip amount\n",
    "\n",
    "- Hour of pickup and time segment\n",
    "- trip time\n",
    "- great circle distance between pickup and dropoff based on lat, long information. This is particularly interesting as I can imagine that people would tip less if lat, long distance is much smaller than trip distance, as it probably means driver took a longer route"
   ]
  },
  {
   "cell_type": "markdown",
   "metadata": {},
   "source": [
    "## Hour and time segment"
   ]
  },
  {
   "cell_type": "code",
   "execution_count": null,
   "metadata": {
    "collapsed": true
   },
   "outputs": [],
   "source": [
    "hour = lambda x: datetime.strptime(x, \"%Y-%m-%d %H:%M:%S\").hour"
   ]
  },
  {
   "cell_type": "code",
   "execution_count": 82,
   "metadata": {
    "collapsed": false
   },
   "outputs": [],
   "source": [
    "data['pickup_hour'] = data['tpep_pickup_datetime'].map(hour)"
   ]
  },
  {
   "cell_type": "code",
   "execution_count": 83,
   "metadata": {
    "collapsed": true
   },
   "outputs": [],
   "source": [
    "# sleep: 12-5, 6-9: breakfast, 10-14: lunch, 14-17: dinner prep, 17-21: dinner, 21-23: deserts!\n",
    "times_of_day = [-1,5,9,14,17,21,23]\n",
    "labels = ['sleep','breakfast','lunch','dinner prep','dinner','desserts']"
   ]
  },
  {
   "cell_type": "code",
   "execution_count": 84,
   "metadata": {
    "collapsed": false
   },
   "outputs": [],
   "source": [
    "data['hour_seg'] = pd.cut(data.pickup_hour,times_of_day,labels=labels)"
   ]
  },
  {
   "cell_type": "code",
   "execution_count": 85,
   "metadata": {
    "collapsed": false
   },
   "outputs": [
    {
     "data": {
      "text/plain": [
       "hour_seg     pickup_hour\n",
       "sleep        0              12397\n",
       "             1               6994\n",
       "             2               4470\n",
       "             3               2731\n",
       "             4               2638\n",
       "             5               4200\n",
       "breakfast    6              11412\n",
       "             7              20655\n",
       "             8              23901\n",
       "             9              21793\n",
       "lunch        10             19444\n",
       "             11             19850\n",
       "             12             20251\n",
       "             13             19653\n",
       "             14             20430\n",
       "dinner prep  15             19224\n",
       "             16             15411\n",
       "             17             19296\n",
       "dinner       18             24524\n",
       "             19             26902\n",
       "             20             26678\n",
       "             21             27235\n",
       "desserts     22             25340\n",
       "             23             21794\n",
       "Name: VendorID, dtype: int64"
      ]
     },
     "execution_count": 85,
     "metadata": {},
     "output_type": "execute_result"
    }
   ],
   "source": [
    "data.groupby(['hour_seg','pickup_hour']).VendorID.count()"
   ]
  },
  {
   "cell_type": "markdown",
   "metadata": {},
   "source": [
    "## Trip time"
   ]
  },
  {
   "cell_type": "code",
   "execution_count": 120,
   "metadata": {
    "collapsed": true
   },
   "outputs": [],
   "source": [
    "def compute_date_diff(x, y):\n",
    "    # convert x into date, y into date, compute date diff\n",
    "    date_x = datetime.strptime(x, \"%Y-%m-%d %H:%M:%S\" )\n",
    "    date_y = datetime.strptime(y, \"%Y-%m-%d %H:%M:%S\" )\n",
    "    return float((date_y - date_x).seconds)/60"
   ]
  },
  {
   "cell_type": "code",
   "execution_count": 127,
   "metadata": {
    "collapsed": false
   },
   "outputs": [],
   "source": [
    "data['trip_time'] = data[['tpep_pickup_datetime','tpep_dropoff_datetime']].apply(lambda x: compute_date_diff(*x),axis=1)"
   ]
  },
  {
   "cell_type": "code",
   "execution_count": 128,
   "metadata": {
    "collapsed": false
   },
   "outputs": [
    {
     "data": {
      "text/html": [
       "<div>\n",
       "<table border=\"1\" class=\"dataframe\">\n",
       "  <thead>\n",
       "    <tr style=\"text-align: right;\">\n",
       "      <th></th>\n",
       "      <th>tpep_pickup_datetime</th>\n",
       "      <th>tpep_dropoff_datetime</th>\n",
       "      <th>trip_time</th>\n",
       "    </tr>\n",
       "  </thead>\n",
       "  <tbody>\n",
       "    <tr>\n",
       "      <th>1145196</th>\n",
       "      <td>2015-06-03 00:00:00</td>\n",
       "      <td>2015-06-03 00:00:00</td>\n",
       "      <td>0.000000</td>\n",
       "    </tr>\n",
       "    <tr>\n",
       "      <th>1145198</th>\n",
       "      <td>2015-06-03 00:00:01</td>\n",
       "      <td>2015-06-03 00:06:43</td>\n",
       "      <td>6.700000</td>\n",
       "    </tr>\n",
       "    <tr>\n",
       "      <th>1145199</th>\n",
       "      <td>2015-06-03 00:00:02</td>\n",
       "      <td>2015-06-03 00:03:37</td>\n",
       "      <td>3.583333</td>\n",
       "    </tr>\n",
       "    <tr>\n",
       "      <th>1145200</th>\n",
       "      <td>2015-06-03 00:00:03</td>\n",
       "      <td>2015-06-03 00:18:00</td>\n",
       "      <td>17.950000</td>\n",
       "    </tr>\n",
       "    <tr>\n",
       "      <th>1145201</th>\n",
       "      <td>2015-06-03 00:00:05</td>\n",
       "      <td>2015-06-03 00:18:06</td>\n",
       "      <td>18.016667</td>\n",
       "    </tr>\n",
       "  </tbody>\n",
       "</table>\n",
       "</div>"
      ],
      "text/plain": [
       "        tpep_pickup_datetime tpep_dropoff_datetime  trip_time\n",
       "1145196  2015-06-03 00:00:00   2015-06-03 00:00:00   0.000000\n",
       "1145198  2015-06-03 00:00:01   2015-06-03 00:06:43   6.700000\n",
       "1145199  2015-06-03 00:00:02   2015-06-03 00:03:37   3.583333\n",
       "1145200  2015-06-03 00:00:03   2015-06-03 00:18:00  17.950000\n",
       "1145201  2015-06-03 00:00:05   2015-06-03 00:18:06  18.016667"
      ]
     },
     "execution_count": 128,
     "metadata": {},
     "output_type": "execute_result"
    }
   ],
   "source": [
    "data[['tpep_pickup_datetime','tpep_dropoff_datetime','trip_time']].head()"
   ]
  },
  {
   "cell_type": "code",
   "execution_count": 132,
   "metadata": {
    "collapsed": false
   },
   "outputs": [],
   "source": [
    "# drop rows where trip time is 0\n",
    "\n",
    "data = data[data.trip_time >0]"
   ]
  },
  {
   "cell_type": "code",
   "execution_count": 133,
   "metadata": {
    "collapsed": false
   },
   "outputs": [
    {
     "data": {
      "text/plain": [
       "(417213, 23)"
      ]
     },
     "execution_count": 133,
     "metadata": {},
     "output_type": "execute_result"
    }
   ],
   "source": [
    "data.shape"
   ]
  },
  {
   "cell_type": "markdown",
   "metadata": {
    "collapsed": true
   },
   "source": [
    "## Great circle distance between pick-up & drop-off based on lat, lang. \n",
    "\n",
    "It would be interesting to see how much they differ from trip distance. Can imagine that if trip distance is much higher, people would be less likely to pay any tip"
   ]
  },
  {
   "cell_type": "code",
   "execution_count": 137,
   "metadata": {
    "collapsed": false
   },
   "outputs": [],
   "source": [
    "from haversine import haversine"
   ]
  },
  {
   "cell_type": "code",
   "execution_count": null,
   "metadata": {
    "collapsed": true
   },
   "outputs": [],
   "source": [
    "haversine((),())"
   ]
  },
  {
   "cell_type": "code",
   "execution_count": 139,
   "metadata": {
    "collapsed": false
   },
   "outputs": [
    {
     "data": {
      "text/html": [
       "<div>\n",
       "<table border=\"1\" class=\"dataframe\">\n",
       "  <thead>\n",
       "    <tr style=\"text-align: right;\">\n",
       "      <th></th>\n",
       "      <th>pickup_longitude</th>\n",
       "      <th>pickup_latitude</th>\n",
       "      <th>dropoff_longitude</th>\n",
       "      <th>dropoff_latitude</th>\n",
       "      <th>trip_distance</th>\n",
       "      <th>trip_time</th>\n",
       "    </tr>\n",
       "  </thead>\n",
       "  <tbody>\n",
       "    <tr>\n",
       "      <th>1145198</th>\n",
       "      <td>-73.953682</td>\n",
       "      <td>40.775360</td>\n",
       "      <td>-73.979843</td>\n",
       "      <td>40.783970</td>\n",
       "      <td>1.82</td>\n",
       "      <td>6.700000</td>\n",
       "    </tr>\n",
       "    <tr>\n",
       "      <th>1145199</th>\n",
       "      <td>-73.971230</td>\n",
       "      <td>40.755219</td>\n",
       "      <td>-73.979050</td>\n",
       "      <td>40.762749</td>\n",
       "      <td>0.79</td>\n",
       "      <td>3.583333</td>\n",
       "    </tr>\n",
       "    <tr>\n",
       "      <th>1145200</th>\n",
       "      <td>-73.994865</td>\n",
       "      <td>40.760593</td>\n",
       "      <td>-73.934364</td>\n",
       "      <td>40.794670</td>\n",
       "      <td>5.28</td>\n",
       "      <td>17.950000</td>\n",
       "    </tr>\n",
       "    <tr>\n",
       "      <th>1145201</th>\n",
       "      <td>-73.995049</td>\n",
       "      <td>40.725502</td>\n",
       "      <td>-73.962852</td>\n",
       "      <td>40.772133</td>\n",
       "      <td>4.00</td>\n",
       "      <td>18.016667</td>\n",
       "    </tr>\n",
       "    <tr>\n",
       "      <th>1145202</th>\n",
       "      <td>-73.985748</td>\n",
       "      <td>40.759399</td>\n",
       "      <td>-73.983932</td>\n",
       "      <td>40.724739</td>\n",
       "      <td>3.33</td>\n",
       "      <td>18.750000</td>\n",
       "    </tr>\n",
       "  </tbody>\n",
       "</table>\n",
       "</div>"
      ],
      "text/plain": [
       "         pickup_longitude  pickup_latitude  dropoff_longitude  \\\n",
       "1145198        -73.953682        40.775360         -73.979843   \n",
       "1145199        -73.971230        40.755219         -73.979050   \n",
       "1145200        -73.994865        40.760593         -73.934364   \n",
       "1145201        -73.995049        40.725502         -73.962852   \n",
       "1145202        -73.985748        40.759399         -73.983932   \n",
       "\n",
       "         dropoff_latitude  trip_distance  trip_time  \n",
       "1145198         40.783970           1.82   6.700000  \n",
       "1145199         40.762749           0.79   3.583333  \n",
       "1145200         40.794670           5.28  17.950000  \n",
       "1145201         40.772133           4.00  18.016667  \n",
       "1145202         40.724739           3.33  18.750000  "
      ]
     },
     "execution_count": 139,
     "metadata": {},
     "output_type": "execute_result"
    }
   ],
   "source": [
    "data[['pickup_longitude','pickup_latitude','dropoff_longitude','dropoff_latitude','trip_distance','trip_time']].head()"
   ]
  },
  {
   "cell_type": "code",
   "execution_count": 153,
   "metadata": {
    "collapsed": true
   },
   "outputs": [],
   "source": [
    "def compute_distance(x_lat,x_long,y_lat,y_long):\n",
    "    return haversine((x_lat,x_long),(y_lat,y_long))"
   ]
  },
  {
   "cell_type": "code",
   "execution_count": 154,
   "metadata": {
    "collapsed": true
   },
   "outputs": [],
   "source": [
    "data['lat_long_distance'] = data[['pickup_latitude','pickup_longitude','dropoff_latitude','dropoff_longitude']].apply(lambda x: compute_distance(*x),axis=1)"
   ]
  },
  {
   "cell_type": "code",
   "execution_count": 156,
   "metadata": {
    "collapsed": false
   },
   "outputs": [
    {
     "data": {
      "text/html": [
       "<div>\n",
       "<table border=\"1\" class=\"dataframe\">\n",
       "  <thead>\n",
       "    <tr style=\"text-align: right;\">\n",
       "      <th></th>\n",
       "      <th>lat_long_distance</th>\n",
       "      <th>trip_distance</th>\n",
       "    </tr>\n",
       "  </thead>\n",
       "  <tbody>\n",
       "    <tr>\n",
       "      <th>1145198</th>\n",
       "      <td>2.401817</td>\n",
       "      <td>1.82</td>\n",
       "    </tr>\n",
       "    <tr>\n",
       "      <th>1145199</th>\n",
       "      <td>1.065335</td>\n",
       "      <td>0.79</td>\n",
       "    </tr>\n",
       "    <tr>\n",
       "      <th>1145200</th>\n",
       "      <td>6.349012</td>\n",
       "      <td>5.28</td>\n",
       "    </tr>\n",
       "    <tr>\n",
       "      <th>1145201</th>\n",
       "      <td>5.851600</td>\n",
       "      <td>4.00</td>\n",
       "    </tr>\n",
       "    <tr>\n",
       "      <th>1145202</th>\n",
       "      <td>3.857089</td>\n",
       "      <td>3.33</td>\n",
       "    </tr>\n",
       "  </tbody>\n",
       "</table>\n",
       "</div>"
      ],
      "text/plain": [
       "         lat_long_distance  trip_distance\n",
       "1145198           2.401817           1.82\n",
       "1145199           1.065335           0.79\n",
       "1145200           6.349012           5.28\n",
       "1145201           5.851600           4.00\n",
       "1145202           3.857089           3.33"
      ]
     },
     "execution_count": 156,
     "metadata": {},
     "output_type": "execute_result"
    }
   ],
   "source": [
    "data[['lat_long_distance','trip_distance']].head()"
   ]
  },
  {
   "cell_type": "code",
   "execution_count": 170,
   "metadata": {
    "collapsed": false
   },
   "outputs": [
    {
     "data": {
      "text/html": [
       "<div>\n",
       "<table border=\"1\" class=\"dataframe\">\n",
       "  <thead>\n",
       "    <tr style=\"text-align: right;\">\n",
       "      <th></th>\n",
       "      <th>lat_long_distance</th>\n",
       "      <th>trip_distance</th>\n",
       "      <th>tip_amount</th>\n",
       "    </tr>\n",
       "  </thead>\n",
       "  <tbody>\n",
       "    <tr>\n",
       "      <th>1160173</th>\n",
       "      <td>0.000000</td>\n",
       "      <td>11.60</td>\n",
       "      <td>7.36</td>\n",
       "    </tr>\n",
       "    <tr>\n",
       "      <th>1160297</th>\n",
       "      <td>0.045527</td>\n",
       "      <td>20.64</td>\n",
       "      <td>0.00</td>\n",
       "    </tr>\n",
       "    <tr>\n",
       "      <th>1160301</th>\n",
       "      <td>0.006477</td>\n",
       "      <td>18.40</td>\n",
       "      <td>0.00</td>\n",
       "    </tr>\n",
       "    <tr>\n",
       "      <th>1160360</th>\n",
       "      <td>0.000848</td>\n",
       "      <td>18.40</td>\n",
       "      <td>0.00</td>\n",
       "    </tr>\n",
       "    <tr>\n",
       "      <th>1160724</th>\n",
       "      <td>0.001425</td>\n",
       "      <td>18.40</td>\n",
       "      <td>17.00</td>\n",
       "    </tr>\n",
       "  </tbody>\n",
       "</table>\n",
       "</div>"
      ],
      "text/plain": [
       "         lat_long_distance  trip_distance  tip_amount\n",
       "1160173           0.000000          11.60        7.36\n",
       "1160297           0.045527          20.64        0.00\n",
       "1160301           0.006477          18.40        0.00\n",
       "1160360           0.000848          18.40        0.00\n",
       "1160724           0.001425          18.40       17.00"
      ]
     },
     "execution_count": 170,
     "metadata": {},
     "output_type": "execute_result"
    }
   ],
   "source": [
    "data.loc[(data.trip_distance - data.lat_long_distance)>10,['lat_long_distance','trip_distance','tip_amount']].head()"
   ]
  },
  {
   "cell_type": "markdown",
   "metadata": {},
   "source": [
    "## Defining Neighborhood\n",
    "\n",
    "I decided to use some publicly available data about coordinates of various neighborhoods & boroughs in New York city. http://catalog.opendata.city/dataset/pediacities-nyc-neighborhoods. The file was available as a json object, which I had to first process to extract required information. There were 266 neigborhoods in 5 boroughs. Again for efficiency, I decided to work with boroughs rather than more granular neighborhoods.\n",
    "\n",
    "Next I used python 'shapely' library to plot these 5 boroughs as Polygons and applied a function to every pickup & dropoff location to see which of the 5 polygons contain it. Otherwise it was marked as 'Outside NYC\". This step took insanely long time. Almost 2 hours."
   ]
  },
  {
   "cell_type": "code",
   "execution_count": 176,
   "metadata": {
    "collapsed": false
   },
   "outputs": [],
   "source": [
    "import json"
   ]
  },
  {
   "cell_type": "code",
   "execution_count": 221,
   "metadata": {
    "collapsed": false
   },
   "outputs": [],
   "source": [
    "ny_neigh = pd.read_json('ny-neigh.txt')"
   ]
  },
  {
   "cell_type": "code",
   "execution_count": 222,
   "metadata": {
    "collapsed": false
   },
   "outputs": [
    {
     "data": {
      "text/plain": [
       "(310, 2)"
      ]
     },
     "execution_count": 222,
     "metadata": {},
     "output_type": "execute_result"
    }
   ],
   "source": [
    "ny_neigh.shape"
   ]
  },
  {
   "cell_type": "code",
   "execution_count": 241,
   "metadata": {
    "collapsed": false
   },
   "outputs": [
    {
     "data": {
      "text/plain": [
       "{u'geometry': {u'coordinates': [[[-73.84859700000018, 40.871670000000115],\n",
       "    [-73.84582253683678, 40.870239076236174],\n",
       "    [-73.85455918463374, 40.85995383576425],\n",
       "    [-73.85466543306826, 40.859585694988056],\n",
       "    [-73.85638870335896, 40.85759363530448],\n",
       "    [-73.86888180915341, 40.857223150158326],\n",
       "    [-73.86831755272824, 40.85786206225831],\n",
       "    [-73.86955371467232, 40.85778409560018],\n",
       "    [-73.87102485762065, 40.857309948816905],\n",
       "    [-73.87048054998716, 40.865413584098484],\n",
       "    [-73.87055489856489, 40.86970279858986],\n",
       "    [-73.86721594442561, 40.86968966363671],\n",
       "    [-73.85745, 40.86953300000018],\n",
       "    [-73.85555000000011, 40.871813000000145],\n",
       "    [-73.85359796757658, 40.8732883686742],\n",
       "    [-73.84859700000018, 40.871670000000115]]],\n",
       "  u'type': u'Polygon'},\n",
       " u'properties': {u'@id': u'http://nyc.pediacities.com/Resource/Neighborhood/Allerton',\n",
       "  u'borough': u'Bronx',\n",
       "  u'boroughCode': u'2',\n",
       "  u'neighborhood': u'Allerton'},\n",
       " u'type': u'Feature'}"
      ]
     },
     "execution_count": 241,
     "metadata": {},
     "output_type": "execute_result"
    }
   ],
   "source": [
    "ny_neigh.features[0]"
   ]
  },
  {
   "cell_type": "code",
   "execution_count": 244,
   "metadata": {
    "collapsed": false
   },
   "outputs": [],
   "source": [
    "ny_neigh['neighborhood'] = ny_neigh.features.map(lambda x: x['properties']['neighborhood'])\n",
    "ny_neigh['borough'] = ny_neigh.features.map(lambda x: x['properties']['borough'])\n",
    "ny_neigh['boroughCode'] = ny_neigh.features.map(lambda x: x['properties']['boroughCode'])\n",
    "ny_neigh['coordinates'] = ny_neigh.features.map(lambda x: x['geometry']['coordinates'][0])"
   ]
  },
  {
   "cell_type": "code",
   "execution_count": 245,
   "metadata": {
    "collapsed": false
   },
   "outputs": [
    {
     "data": {
      "text/html": [
       "<div>\n",
       "<table border=\"1\" class=\"dataframe\">\n",
       "  <thead>\n",
       "    <tr style=\"text-align: right;\">\n",
       "      <th></th>\n",
       "      <th>features</th>\n",
       "      <th>type</th>\n",
       "      <th>neighborhood</th>\n",
       "      <th>borough</th>\n",
       "      <th>boroughCode</th>\n",
       "      <th>coordinates</th>\n",
       "    </tr>\n",
       "  </thead>\n",
       "  <tbody>\n",
       "    <tr>\n",
       "      <th>0</th>\n",
       "      <td>{u'geometry': {u'type': u'Polygon', u'coordina...</td>\n",
       "      <td>FeatureCollection</td>\n",
       "      <td>Allerton</td>\n",
       "      <td>Bronx</td>\n",
       "      <td>2</td>\n",
       "      <td>[[-73.848597, 40.87167], [-73.8458225368, 40.8...</td>\n",
       "    </tr>\n",
       "    <tr>\n",
       "      <th>1</th>\n",
       "      <td>{u'geometry': {u'type': u'Polygon', u'coordina...</td>\n",
       "      <td>FeatureCollection</td>\n",
       "      <td>Alley Pond Park</td>\n",
       "      <td>Queens</td>\n",
       "      <td>4</td>\n",
       "      <td>[[-73.743332682, 40.7388830993], [-73.74371398...</td>\n",
       "    </tr>\n",
       "    <tr>\n",
       "      <th>2</th>\n",
       "      <td>{u'geometry': {u'type': u'Polygon', u'coordina...</td>\n",
       "      <td>FeatureCollection</td>\n",
       "      <td>Arden Heights</td>\n",
       "      <td>Staten Island</td>\n",
       "      <td>5</td>\n",
       "      <td>[[-74.169827, 40.561078], [-74.1698225726, 40....</td>\n",
       "    </tr>\n",
       "    <tr>\n",
       "      <th>3</th>\n",
       "      <td>{u'geometry': {u'type': u'Polygon', u'coordina...</td>\n",
       "      <td>FeatureCollection</td>\n",
       "      <td>Arlington</td>\n",
       "      <td>Staten Island</td>\n",
       "      <td>5</td>\n",
       "      <td>[[-74.1597481587, 40.6414165258], [-74.1599787...</td>\n",
       "    </tr>\n",
       "    <tr>\n",
       "      <th>4</th>\n",
       "      <td>{u'geometry': {u'type': u'Polygon', u'coordina...</td>\n",
       "      <td>FeatureCollection</td>\n",
       "      <td>Arrochar</td>\n",
       "      <td>Staten Island</td>\n",
       "      <td>5</td>\n",
       "      <td>[[-74.0607798935, 40.5931880047], [-74.0607917...</td>\n",
       "    </tr>\n",
       "  </tbody>\n",
       "</table>\n",
       "</div>"
      ],
      "text/plain": [
       "                                            features               type  \\\n",
       "0  {u'geometry': {u'type': u'Polygon', u'coordina...  FeatureCollection   \n",
       "1  {u'geometry': {u'type': u'Polygon', u'coordina...  FeatureCollection   \n",
       "2  {u'geometry': {u'type': u'Polygon', u'coordina...  FeatureCollection   \n",
       "3  {u'geometry': {u'type': u'Polygon', u'coordina...  FeatureCollection   \n",
       "4  {u'geometry': {u'type': u'Polygon', u'coordina...  FeatureCollection   \n",
       "\n",
       "      neighborhood        borough boroughCode  \\\n",
       "0         Allerton          Bronx           2   \n",
       "1  Alley Pond Park         Queens           4   \n",
       "2    Arden Heights  Staten Island           5   \n",
       "3        Arlington  Staten Island           5   \n",
       "4         Arrochar  Staten Island           5   \n",
       "\n",
       "                                         coordinates  \n",
       "0  [[-73.848597, 40.87167], [-73.8458225368, 40.8...  \n",
       "1  [[-73.743332682, 40.7388830993], [-73.74371398...  \n",
       "2  [[-74.169827, 40.561078], [-74.1698225726, 40....  \n",
       "3  [[-74.1597481587, 40.6414165258], [-74.1599787...  \n",
       "4  [[-74.0607798935, 40.5931880047], [-74.0607917...  "
      ]
     },
     "execution_count": 245,
     "metadata": {},
     "output_type": "execute_result"
    }
   ],
   "source": [
    "ny_neigh.head()"
   ]
  },
  {
   "cell_type": "code",
   "execution_count": 262,
   "metadata": {
    "collapsed": false
   },
   "outputs": [
    {
     "data": {
      "text/plain": [
       "Bronx            75\n",
       "Queens           73\n",
       "Brooklyn         71\n",
       "Staten Island    54\n",
       "Manhattan        37\n",
       "Name: borough, dtype: int64"
      ]
     },
     "execution_count": 262,
     "metadata": {},
     "output_type": "execute_result"
    }
   ],
   "source": [
    "ny_neigh.borough.value_counts()"
   ]
  },
  {
   "cell_type": "code",
   "execution_count": 289,
   "metadata": {
    "collapsed": false
   },
   "outputs": [],
   "source": [
    "ny_borough = ny_neigh[['borough','coordinates']].groupby('borough').aggregate(lambda x: list(x))"
   ]
  },
  {
   "cell_type": "code",
   "execution_count": 299,
   "metadata": {
    "collapsed": false
   },
   "outputs": [],
   "source": [
    "ny_borough['coordinates'] = ny_borough.coordinates.apply(lambda x: [item for y in x for item in y])"
   ]
  },
  {
   "cell_type": "code",
   "execution_count": 300,
   "metadata": {
    "collapsed": false
   },
   "outputs": [
    {
     "data": {
      "text/html": [
       "<div>\n",
       "<table border=\"1\" class=\"dataframe\">\n",
       "  <thead>\n",
       "    <tr style=\"text-align: right;\">\n",
       "      <th></th>\n",
       "      <th>coordinates</th>\n",
       "    </tr>\n",
       "    <tr>\n",
       "      <th>borough</th>\n",
       "      <th></th>\n",
       "    </tr>\n",
       "  </thead>\n",
       "  <tbody>\n",
       "    <tr>\n",
       "      <th>Bronx</th>\n",
       "      <td>[[-73.848597, 40.87167], [-73.8458225368, 40.8...</td>\n",
       "    </tr>\n",
       "    <tr>\n",
       "      <th>Brooklyn</th>\n",
       "      <td>[[-73.99381, 40.60195], [-73.9996196272, 40.59...</td>\n",
       "    </tr>\n",
       "    <tr>\n",
       "      <th>Manhattan</th>\n",
       "      <td>[[-74.013754, 40.71369], [-74.014262, 40.71092...</td>\n",
       "    </tr>\n",
       "    <tr>\n",
       "      <th>Queens</th>\n",
       "      <td>[[-73.743332682, 40.7388830993], [-73.74371398...</td>\n",
       "    </tr>\n",
       "    <tr>\n",
       "      <th>Staten Island</th>\n",
       "      <td>[[-74.169827, 40.561078], [-74.1698225726, 40....</td>\n",
       "    </tr>\n",
       "  </tbody>\n",
       "</table>\n",
       "</div>"
      ],
      "text/plain": [
       "                                                     coordinates\n",
       "borough                                                         \n",
       "Bronx          [[-73.848597, 40.87167], [-73.8458225368, 40.8...\n",
       "Brooklyn       [[-73.99381, 40.60195], [-73.9996196272, 40.59...\n",
       "Manhattan      [[-74.013754, 40.71369], [-74.014262, 40.71092...\n",
       "Queens         [[-73.743332682, 40.7388830993], [-73.74371398...\n",
       "Staten Island  [[-74.169827, 40.561078], [-74.1698225726, 40...."
      ]
     },
     "execution_count": 300,
     "metadata": {},
     "output_type": "execute_result"
    }
   ],
   "source": [
    "ny_borough.head()"
   ]
  },
  {
   "cell_type": "code",
   "execution_count": 304,
   "metadata": {
    "collapsed": false
   },
   "outputs": [],
   "source": [
    "ny_borough.reset_index(inplace=True)"
   ]
  },
  {
   "cell_type": "code",
   "execution_count": 305,
   "metadata": {
    "collapsed": false
   },
   "outputs": [
    {
     "data": {
      "text/html": [
       "<div>\n",
       "<table border=\"1\" class=\"dataframe\">\n",
       "  <thead>\n",
       "    <tr style=\"text-align: right;\">\n",
       "      <th></th>\n",
       "      <th>borough</th>\n",
       "      <th>coordinates</th>\n",
       "    </tr>\n",
       "  </thead>\n",
       "  <tbody>\n",
       "    <tr>\n",
       "      <th>0</th>\n",
       "      <td>Bronx</td>\n",
       "      <td>[[-73.848597, 40.87167], [-73.8458225368, 40.8...</td>\n",
       "    </tr>\n",
       "    <tr>\n",
       "      <th>1</th>\n",
       "      <td>Brooklyn</td>\n",
       "      <td>[[-73.99381, 40.60195], [-73.9996196272, 40.59...</td>\n",
       "    </tr>\n",
       "    <tr>\n",
       "      <th>2</th>\n",
       "      <td>Manhattan</td>\n",
       "      <td>[[-74.013754, 40.71369], [-74.014262, 40.71092...</td>\n",
       "    </tr>\n",
       "    <tr>\n",
       "      <th>3</th>\n",
       "      <td>Queens</td>\n",
       "      <td>[[-73.743332682, 40.7388830993], [-73.74371398...</td>\n",
       "    </tr>\n",
       "    <tr>\n",
       "      <th>4</th>\n",
       "      <td>Staten Island</td>\n",
       "      <td>[[-74.169827, 40.561078], [-74.1698225726, 40....</td>\n",
       "    </tr>\n",
       "  </tbody>\n",
       "</table>\n",
       "</div>"
      ],
      "text/plain": [
       "         borough                                        coordinates\n",
       "0          Bronx  [[-73.848597, 40.87167], [-73.8458225368, 40.8...\n",
       "1       Brooklyn  [[-73.99381, 40.60195], [-73.9996196272, 40.59...\n",
       "2      Manhattan  [[-74.013754, 40.71369], [-74.014262, 40.71092...\n",
       "3         Queens  [[-73.743332682, 40.7388830993], [-73.74371398...\n",
       "4  Staten Island  [[-74.169827, 40.561078], [-74.1698225726, 40...."
      ]
     },
     "execution_count": 305,
     "metadata": {},
     "output_type": "execute_result"
    }
   ],
   "source": [
    "ny_borough.head()"
   ]
  },
  {
   "cell_type": "code",
   "execution_count": 247,
   "metadata": {
    "collapsed": false
   },
   "outputs": [],
   "source": [
    "from shapely.geometry import Polygon,Point"
   ]
  },
  {
   "cell_type": "code",
   "execution_count": 318,
   "metadata": {
    "collapsed": false
   },
   "outputs": [],
   "source": [
    "Bronx = Polygon(ny_borough.loc[ny_borough.borough == 'Bronx','coordinates'].values.tolist()[0])\n",
    "Brooklyn = Polygon(ny_borough.loc[ny_borough.borough == 'Brooklyn','coordinates'].values.tolist()[0])\n",
    "Manhattan = Polygon(ny_borough.loc[ny_borough.borough == 'Manhattan','coordinates'].values.tolist()[0])\n",
    "Queens = Polygon(ny_borough.loc[ny_borough.borough == 'Queens','coordinates'].values.tolist()[0])\n",
    "Staten_Island = Polygon(ny_borough.loc[ny_borough.borough == 'Staten Island','coordinates'].values.tolist()[0])"
   ]
  },
  {
   "cell_type": "code",
   "execution_count": 285,
   "metadata": {
    "collapsed": false
   },
   "outputs": [],
   "source": [
    "Bronx = Polygon(ny_borough.coordinates[ny_borough.borough == 'Bronx'])"
   ]
  },
  {
   "cell_type": "code",
   "execution_count": 324,
   "metadata": {
    "collapsed": false
   },
   "outputs": [
    {
     "name": "stderr",
     "output_type": "stream",
     "text": [
      "Self-intersection at or near point -74.072694826648302 40.615748435017252\n"
     ]
    },
    {
     "data": {
      "image/svg+xml": [
       "<svg xmlns=\"http://www.w3.org/2000/svg\" xmlns:xlink=\"http://www.w3.org/1999/xlink\" width=\"100.0\" height=\"100.0\" viewBox=\"-74.2637258869 40.4879994639 0.219632141099 0.169026207216\" preserveAspectRatio=\"xMinYMin meet\"><g transform=\"matrix(1,0,0,-1,0,81.145025135)\"><path fill-rule=\"evenodd\" fill=\"#ff3333\" stroke=\"#555555\" stroke-width=\"0.00439264282198\" opacity=\"0.6\" d=\"M -74.169827,40.561078 L -74.1698225726,40.5610573275 L -74.16707,40.548205 L -74.1669229886,40.5479418619 L -74.16689,40.547847 L -74.166854983,40.5478201376 L -74.16683,40.547779 L -74.166233,40.547343 L -74.165296,40.544273 L -74.169924,40.542225 L -74.1772822778,40.540629564 L -74.177331,40.540619 L -74.177403,40.542479 L -74.176498,40.544487 L -74.180721,40.546673 L -74.17959,40.548066 L -74.178814,40.54966 L -74.17933,40.549888 L -74.18209,40.551104 L -74.183181,40.555201 L -74.18464,40.553807 L -74.185508,40.55424 L -74.185657,40.554096 L -74.186093,40.554549 L -74.188265,40.553275 L -74.18781,40.552821 L -74.187074,40.552424 L -74.1885761783,40.5507141156 L -74.1893180262,40.5511334962 L -74.1905683942,40.552002318 L -74.1924169382,40.5537544772 L -74.19769,40.558887 L -74.194076,40.562079 L -74.1931474455,40.5626443468 L -74.1925921368,40.5627327887 L -74.1924068711,40.5642722309 L -74.1907942166,40.5643916672 L -74.1903352247,40.563048806 L -74.1894625902,40.5636400325 L -74.185254,40.564549 L -74.1843713379,40.5651629306 L -74.1843114805,40.5665265145 L -74.1828459672,40.5666511045 L -74.1826339803,40.5655555175 L -74.181581,40.565313 L -74.177945,40.563983 L -74.176594,40.563241 L -74.174888,40.562826 L -74.171463,40.561375 L -74.169827,40.561078 L -74.1597481587,40.6414165258 L -74.159978757,40.6414464808 L -74.1603665567,40.6415795388 L -74.1611124252,40.6418354537 L -74.161178971,40.6420066123 L -74.1613480397,40.6435009887 L -74.1614598592,40.6442914296 L -74.1614603601,40.6442949698 L -74.1579875954,40.643861789 L -74.157433492,40.6433028578 L -74.1575530521,40.6432482918 L -74.1579158941,40.6430826945 L -74.158134516,40.6426325307 L -74.1582754372,40.6425633838 L -74.1584034767,40.6425416039 L -74.1584849584,40.6425384669 L -74.1585504377,40.6424975013 L -74.158576106,40.6424293511 L -74.1586612596,40.6423051055 L -74.1587437815,40.6420038398 L -74.1588109375,40.6417586347 L -74.1592002453,40.641650404 L -74.1594560244,40.6414483333 L -74.1597481587,40.6414165258 L -74.0607798935,40.5931880047 L -74.0607917645,40.5931779485 L -74.0621527443,40.5920250405 L -74.0630401857,40.5910903209 L -74.0650333236,40.5889909989 L -74.0644819546,40.5883988301 L -74.0643600372,40.5882678912 L -74.0645232995,40.5883539222 L -74.0647783303,40.5884883107 L -74.0671987557,40.586751679 L -74.0672227682,40.5867344503 L -74.0694160919,40.5846512953 L -74.0704848376,40.5850794429 L -74.08024,40.590067 L -74.08241,40.593207 L -74.083752,40.595491 L -74.085875,40.59589 L -74.0855929054,40.5965843267 L -74.085513,40.596781 L -74.0853695531,40.5969148702 L -74.084943518,40.5973124626 L -74.084809,40.597438 L -74.0847421828,40.597462256 L -74.08171,40.598563 L -74.077164,40.59839 L -74.0749,40.597614 L -74.073872,40.597637 L -74.073623,40.59721 L -74.064638,40.600183 L -74.062076,40.596841 L -74.061829,40.596306 L -74.062397,40.59585 L -74.062829,40.595236 L -74.0607798935,40.5931880047 L -74.1326135331,40.5634533624 L -74.13311,40.562868 L -74.133407,40.56213 L -74.134808,40.560799 L -74.129607,40.557485 L -74.1282029497,40.5565898001 L -74.128117,40.556535 L -74.136089,40.550424 L -74.13738,40.551473 L -74.138803,40.550597 L -74.139479,40.551069 L -74.1415,40.549589 L -74.142638,40.55074 L -74.143518,40.550155 L -74.144021,40.551024 L -74.14476,40.550512 L -74.14483,40.551045 L -74.145599,40.552081 L -74.145558,40.553195 L -74.146551,40.556235 L -74.14422,40.558336 L -74.14374,40.557984 L -74.143047,40.558461 L -74.143859,40.559161 L -74.142588,40.559894 L -74.14313,40.560508 L -74.1483061243,40.5649191596 L -74.1468736715,40.566426075 L -74.14252,40.563893 L -74.1396299858,40.5662060284 L -74.1389289858,40.5672640142 L -74.1346169858,40.5652470142 L -74.1347679858,40.5645140142 L -74.1326135331,40.5634533624 L -74.16848,40.621562 L -74.16922,40.621306 L -74.173684,40.620528 L -74.174689,40.619983 L -74.1748214834,40.6198759623 L -74.17495,40.6198 L -74.1751786263,40.6195874146 L -74.175647,40.619209 L -74.1758641494,40.6189386387 L -74.17604,40.618776 L -74.178373,40.615815 L -74.18031,40.612185 L -74.18202,40.609753 L -74.182929,40.608148 L -74.18382,40.605294 L -74.18543,40.603378 L -74.18403909,40.6026868578 L -74.1848445242,40.6021585415 L -74.186247,40.60192 L -74.190373,40.602385 L -74.194357,40.601115 L -74.1951,40.601857 L -74.195834,40.602301 L -74.19606,40.601269 L -74.196487,40.601236 L -74.19704,40.599983 L -74.1983397952,40.6006570229 L -74.1987595821,40.6017119752 L -74.1994600856,40.6027061221 L -74.2001486676,40.6036833501 L -74.2001546826,40.6036879886 L -74.2013852747,40.6046369662 L -74.2015672669,40.6049280565 L -74.2022184985,40.6059696796 L -74.2025036311,40.6070672851 L -74.2028162837,40.608270828 L -74.2024212251,40.6110388173 L -74.2023017901,40.611875642 L -74.2023746237,40.6125985947 L -74.2024437445,40.6132846939 L -74.2003835234,40.6164280386 L -74.2003834843,40.6164280982 L -74.2003835031,40.6164281531 L -74.2005080265,40.6167906747 L -74.2005898645,40.6170289274 L -74.200590949,40.617029225 L -74.2008280439,40.617094288 L -74.2009142324,40.6177988224 L -74.200898987,40.6179153852 L -74.2008747874,40.6181004109 L -74.2005415633,40.6179976395 L -74.2003520386,40.6183421986 L -74.2008399145,40.6188043026 L -74.2006807141,40.6191684543 L -74.2010699747,40.6203815408 L -74.2005058813,40.6202996721 L -74.2004280019,40.620495411 L -74.2008733158,40.6205911557 L -74.2012584731,40.6215548309 L -74.2013261123,40.6215773005 L -74.2014324,40.621612609 L -74.2013603064,40.6217777565 L -74.201230892,40.622074211 L -74.2012753426,40.6226882763 L -74.2015171162,40.6226970239 L -74.2015455333,40.622698052 L -74.201632011,40.6231215655 L -74.2016140546,40.6232653064 L -74.2015849444,40.6234983337 L -74.2013440891,40.6235525686 L -74.2013973307,40.623736121 L -74.2010766279,40.6240783466 L -74.2010608003,40.62589518 L -74.2011825235,40.6261102157 L -74.2014167067,40.6260705139 L -74.2009862557,40.6293441481 L -74.2008047968,40.6293325714 L -74.200754839,40.6295946341 L -74.2004768172,40.6296570775 L -74.2004257379,40.629821166 L -74.2004081277,40.6302501007 L -74.2007872998,40.6303462745 L -74.2004031164,40.6302923623 L -74.2001846216,40.6313286695 L -74.2004038037,40.6314458207 L -74.2001726541,40.6313610805 L -74.198500805,40.6327979113 L -74.198391892,40.6330359178 L -74.1983435826,40.6331414877 L -74.1982590571,40.63316907 L -74.1979593894,40.6332668574 L -74.1975910921,40.6330812846 L -74.1972867529,40.6332919311 L -74.1971496071,40.6339285168 L -74.196739285,40.634053442 L -74.1964696516,40.6341355337 L -74.1960290469,40.6349958488 L -74.1956552996,40.635002767 L -74.18173,40.627922 L -74.178845,40.626106 L -74.177624,40.625774 L -74.173366,40.623677 L -74.16848,40.621562 L -74.14721,40.608259 L -74.147502,40.606313 L -74.147066,40.605504 L -74.148281,40.60567 L -74.14829,40.604951 L -74.147894,40.604878 L -74.14757,40.604597 L -74.147237,40.603727 L -74.14645,40.602996 L -74.146173,40.602143 L -74.1462,40.601135 L -74.146613,40.599666 L -74.1461527118,40.5974310024 L -74.1461929114,40.5969970409 L -74.1462414006,40.5967056949 L -74.146581,40.59627 L -74.146376676,40.5961510113 L -74.141873,40.596054 L -74.140761,40.597553 L -74.138836,40.597311 L -74.137873,40.597556 L -74.13608,40.597254 L -74.133775,40.596333 L -74.1386959858,40.5889620284 L -74.1458335228,40.5885076917 L -74.1458454982,40.5885072418 L -74.145834,40.588564 L -74.145667,40.589966 L -74.155246,40.595479 L -74.159652,40.596467 L -74.159715,40.596113 L -74.160174,40.59617 L -74.160355,40.595342 L -74.1619,40.595299 L -74.161999,40.594342 L -74.162604,40.593157 L -74.1636,40.593374 L -74.166141,40.59369 L -74.167776,40.59421 L -74.1683098829,40.5944443048 L -74.1679134635,40.596296513 L -74.168451027,40.5964745481 L -74.1673816337,40.6019722447 L -74.1716826927,40.6025110478 L -74.1726735001,40.6029084231 L -74.174850387,40.6022108074 L -74.1780796727,40.5997169097 L -74.18403909,40.6026868578 L -74.18543,40.603378 L -74.18382,40.605294 L -74.182929,40.608148 L -74.18202,40.609753 L -74.18031,40.612185 L -74.178373,40.615815 L -74.17604,40.618776 L -74.1758641494,40.6189386387 L -74.175647,40.619209 L -74.1751786263,40.6195874146 L -74.17495,40.6198 L -74.1748214834,40.6198759623 L -74.174689,40.619983 L -74.173684,40.620528 L -74.16922,40.621306 L -74.16848,40.621562 L -74.161154,40.618092 L -74.160501,40.617416 L -74.157965,40.615653 L -74.150506,40.609906 L -74.14721,40.608259 L -74.110015,40.620688 L -74.1077220337,40.6196767012 L -74.1058,40.618829 L -74.103511,40.616414 L -74.10209,40.6146 L -74.0996232245,40.6126354497 L -74.09935,40.612419 L -74.0990679664,40.6120150449 L -74.09818,40.610742 L -74.097658,40.610503 L -74.10535,40.610215 L -74.10667,40.610418 L -74.109783,40.610254 L -74.10998,40.610456 L -74.11125,40.610759 L -74.11438,40.611193 L -74.1167562833,40.6108137178 L -74.11676,40.61087 L -74.1196716506,40.6103483917 L -74.119837,40.610322 L -74.1199089609,40.6103058202 L -74.12743,40.608615 L -74.136437,40.607791 L -74.143992,40.607741 L -74.145868,40.607921 L -74.14721,40.608259 L -74.14697,40.610151 L -74.14602,40.610344 L -74.13604,40.612262 L -74.13072,40.612558 L -74.131258,40.617578 L -74.132076,40.622702 L -74.13192,40.624546 L -74.13131,40.626328 L -74.122162,40.627477 L -74.121257,40.627823 L -74.120129,40.626536 L -74.11846,40.625269 L -74.11331,40.623042 L -74.111534,40.621603 L -74.1112385183,40.6214250107 L -74.1105746491,40.6210251158 L -74.110015,40.620688 L -74.217537232,40.5550733701 L -74.217209,40.554715 L -74.21784,40.554432 L -74.21777,40.553245 L -74.221315,40.550253 L -74.220544,40.548324 L -74.22188,40.54628 L -74.223956,40.540778 L -74.224397,40.537318 L -74.224583,40.537017 L -74.22414,40.532292 L -74.224846,40.5324 L -74.225693,40.529911 L -74.226939,40.528117 L -74.227336,40.527828 L -74.2275808265,40.5277757225 L -74.227853,40.527631 L -74.228563,40.527566 L -74.2425640496,40.5284108307 L -74.24251029,40.5284459358 L -74.2424670202,40.5288470691 L -74.2424554103,40.5289546995 L -74.242407595,40.5290410434 L -74.2421880176,40.5294375517 L -74.2422200681,40.5296531636 L -74.2422452814,40.5298227795 L -74.2420890918,40.5300806931 L -74.2415073332,40.5310413428 L -74.2415105155,40.5310573059 L -74.2417192407,40.5316097277 L -74.2416678421,40.5319233194 L -74.2418106162,40.5325626754 L -74.2421252612,40.5325742059 L -74.2421779966,40.5325761385 L -74.2422361262,40.5330296083 L -74.2422820034,40.5333874965 L -74.2419645887,40.5336337184 L -74.2420457029,40.5343463771 L -74.242366102,40.5347342326 L -74.2425802425,40.5347675411 L -74.2428577617,40.5353534403 L -74.2436634809,40.5360747203 L -74.2441249599,40.5361962957 L -74.2439765511,40.5364604986 L -74.2441478254,40.5368814099 L -74.2445875391,40.5369329271 L -74.2449369311,40.5366638769 L -74.2453365118,40.5369059944 L -74.2452613391,40.5371522131 L -74.244800696,40.5374091454 L -74.2444425967,40.538066766 L -74.2452710077,40.5392418702 L -74.245602057,40.5409495946 L -74.2459928479,40.5412789322 L -74.2464861482,40.5422133927 L -74.2476777804,40.5431254033 L -74.2479224471,40.5430491193 L -74.2480346374,40.5430932404 L -74.2477057397,40.5435243265 L -74.2476196216,40.5435093614 L -74.2461842238,40.5456336259 L -74.2455777823,40.5461133834 L -74.2436380714,40.5476661952 L -74.2436020273,40.5476378111 L -74.2433664877,40.5478085075 L -74.2434020856,40.5478355114 L -74.2433634655,40.5478651352 L -74.2432987868,40.5478283445 L -74.2433406331,40.547798715 L -74.2433503331,40.5478036175 L -74.2435844765,40.5476239909 L -74.2429358593,40.5471132192 L -74.2426830629,40.5470564473 L -74.2422031846,40.5469486783 L -74.2421505511,40.5469694437 L -74.2403918281,40.5476633102 L -74.238371913,40.5491415668 L -74.2378803758,40.5497831395 L -74.2376196347,40.5501234686 L -74.2364162345,40.5505086268 L -74.2361746244,40.5514270619 L -74.2365211027,40.552020816 L -74.2364155973,40.5523280663 L -74.234898658,40.5530052167 L -74.2344844389,40.5529116567 L -74.2341390405,40.5527722769 L -74.2335646261,40.5524693623 L -74.2333240008,40.5525091436 L -74.2322911293,40.553363698 L -74.2322719124,40.5534059184 L -74.2319333144,40.5541498301 L -74.230710362,40.5555575943 L -74.2305551439,40.5555637414 L -74.2302495215,40.5553867462 L -74.2296804086,40.5555208843 L -74.2293195419,40.555491587 L -74.229347411,40.5557103532 L -74.2293525383,40.5557506006 L -74.2290516219,40.5561070821 L -74.2288159888,40.5562551429 L -74.2283321437,40.5563903543 L -74.2281615499,40.5563765169 L -74.2279601131,40.5562810428 L -74.2275048459,40.5560652619 L -74.2274368273,40.5560385335 L -74.2270633243,40.5561171444 L -74.2264049454,40.5562557128 L -74.2261635642,40.5562211068 L -74.2239033413,40.5558970655 L -74.223864215,40.5560976941 L -74.2234426511,40.5560465699 L -74.2234721093,40.5559458696 L -74.2237191044,40.5559811003 L -74.2237574121,40.5559810257 L -74.2237743838,40.5559647604 L -74.2237860671,40.555880268 L -74.2231612894,40.5557871427 L -74.222972197,40.5555033736 L -74.222574868,40.5554062098 L -74.2224222599,40.5554793677 L -74.222370771,40.5554871546 L -74.2217986389,40.5554170708 L -74.2216967576,40.5555030705 L -74.2216539688,40.5555892037 L -74.2216029862,40.5556362104 L -74.2215884454,40.5556462027 L -74.2215700661,40.555648983 L -74.2215445018,40.5556342092 L -74.221498767,40.5555920558 L -74.2214937731,40.5555620371 L -74.2214526082,40.5555290755 L -74.2214546937,40.5554820906 L -74.2214624302,40.5554513272 L -74.2214544644,40.5554129035 L -74.2214319533,40.5553787795 L -74.2214005495,40.5553643205 L -74.2213467762,40.5553584448 L -74.221298646,40.5553662247 L -74.2212550425,40.555387664 L -74.2212137506,40.5554313054 L -74.2212071394,40.5554637761 L -74.2211832282,40.5556833439 L -74.221159767,40.5557004728 L -74.2210446225,40.5557041284 L -74.2209790453,40.5559118001 L -74.2209432973,40.555938348 L -74.2208671509,40.5559402023 L -74.2208204732,40.5559320319 L -74.2205534015,40.5558852842 L -74.2204553708,40.5557753652 L -74.2202971181,40.5555979211 L -74.220219437,40.5554733615 L -74.2201845618,40.5554255949 L -74.2201062717,40.5549288134 L -74.2197435693,40.5546126721 L -74.219080609,40.5548470022 L -74.2190900513,40.5549280655 L -74.2191283505,40.5549747098 L -74.219173398,40.5550714331 L -74.219234585,40.5551181697 L -74.219258245,40.5551561951 L -74.2191975355,40.5553978861 L -74.219209782,40.5554555836 L -74.2192951088,40.5554892638 L -74.219310155,40.5555121823 L -74.2193205266,40.5556137482 L -74.2193370128,40.555691367 L -74.2192863964,40.5557953824 L -74.2192171637,40.5557969699 L -74.2191823263,40.5557526532 L -74.2191813622,40.5556562017 L -74.2191890544,40.5555655531 L -74.2191693923,40.5555173636 L -74.2191363295,40.5555314802 L -74.2190920209,40.5555287107 L -74.2190754689,40.5555071405 L -74.2190706852,40.5554420157 L -74.219067872,40.5553525389 L -74.2189901475,40.5550470793 L -74.2189583263,40.5548575839 L -74.2189139092,40.5547776561 L -74.2187807749,40.5546722893 L -74.2185932578,40.5546742102 L -74.2185327233,40.5547388841 L -74.2185650173,40.5548200424 L -74.2185363815,40.5549328815 L -74.2188190597,40.555874719 L -74.2187539992,40.5558934698 L -74.2188020252,40.5559554655 L -74.2187503688,40.5560277405 L -74.2186704433,40.5560504123 L -74.2184151987,40.5557276262 L -74.218269992,40.5556905497 L -74.2181736019,40.5556005232 L -74.2181215646,40.5555104137 L -74.2181285555,40.5554652718 L -74.2180714638,40.5552929288 L -74.2179149889,40.5550950435 L -74.2177534239,40.5550052848 L -74.217537232,40.5550733701 L -74.1905792485,40.5769201373 L -74.1917325939,40.5768391377 L -74.1963427027,40.5789544247 L -74.2036447212,40.5799516649 L -74.2059416522,40.5791967218 L -74.2059726589,40.5799360673 L -74.2059925508,40.5804103839 L -74.2057240329,40.5809656889 L -74.2056744778,40.5809824621 L -74.2054173706,40.5810694865 L -74.2050813699,40.5815994688 L -74.2050825491,40.581699513 L -74.2050885447,40.5822081911 L -74.2048114265,40.5826387239 L -74.204709119,40.5827976694 L -74.2047390119,40.5831759019 L -74.2044007643,40.5837129458 L -74.2046339021,40.5843232388 L -74.204364339,40.5846341494 L -74.2044147166,40.5855236753 L -74.2041194026,40.5858955411 L -74.2042749428,40.5861100541 L -74.20426533,40.587320535 L -74.2045806569,40.5882176037 L -74.2043800967,40.5883901582 L -74.2042727035,40.5884825553 L -74.2041220097,40.5888814744 L -74.2042245346,40.5890116086 L -74.2043230214,40.5891366175 L -74.2045742207,40.5887191398 L -74.2047052985,40.5887723708 L -74.204435484,40.5892183983 L -74.2046460894,40.5892857455 L -74.2044089255,40.5897067638 L -74.2042030061,40.5896429717 L -74.2038588661,40.5902495254 L -74.2036997434,40.5901999065 L -74.2038603938,40.5898420466 L -74.2038855046,40.5897861107 L -74.2026586697,40.5907221463 L -74.2023776363,40.5906447128 L -74.2020140553,40.5908957996 L -74.2024677596,40.5908388249 L -74.2027668107,40.5909931176 L -74.2030525491,40.5911405418 L -74.202963402,40.5912309228 L -74.2026859413,40.5910782383 L -74.2024549506,40.5909511259 L -74.2020273392,40.5909990793 L -74.2021237817,40.591253327 L -74.2018409291,40.5916364834 L -74.2020034981,40.5917807648 L -74.2020715608,40.5917249158 L -74.2023164577,40.5915239651 L -74.2016673361,40.5921503899 L -74.200925405,40.5928663793 L -74.2004712682,40.5928117521 L -74.1997406097,40.5935646692 L -74.1993621228,40.5940940828 L -74.1994834488,40.5943209363 L -74.1987323255,40.5950117983 L -74.1985613714,40.595552781 L -74.1979500285,40.5964703548 L -74.1975135772,40.596798986 L -74.197513078,40.5968263684 L -74.1975043573,40.5973047369 L -74.1974967093,40.5977242596 L -74.1974208683,40.5978577244 L -74.1973061971,40.5980595222 L -74.1974358786,40.5983854203 L -74.1983397952,40.6006570229 L -74.19704,40.599983 L -74.196487,40.601236 L -74.19606,40.601269 L -74.195834,40.602301 L -74.1951,40.601857 L -74.194357,40.601115 L -74.190373,40.602385 L -74.186247,40.60192 L -74.1848445242,40.6021585415 L -74.18403909,40.6026868578 L -74.1780796727,40.5997169097 L -74.180270779,40.5981623918 L -74.1784949235,40.5968797749 L -74.1822289739,40.5936788742 L -74.1829208571,40.5932803131 L -74.1841388916,40.5920813902 L -74.1844801184,40.5913600309 L -74.1853697248,40.5909084348 L -74.1863454406,40.5895490154 L -74.1852163249,40.5889326342 L -74.1861403465,40.587940324 L -74.1870077951,40.5884108563 L -74.1901070926,40.5856358028 L -74.1915758223,40.586625764 L -74.1923419433,40.5858909715 L -74.1905792485,40.5769201373 L -74.069244,40.619412 L -74.070954,40.620431 L -74.074979,40.617349 L -74.078056,40.615351 L -74.078756,40.615925 L -74.081103,40.617789 L -74.08721,40.613307 L -74.087429,40.614419 L -74.08778,40.614943 L -74.08783,40.615318 L -74.086571,40.61717 L -74.0864175802,40.6175902639 L -74.086187457,40.6182206422 L -74.08608,40.618515 L -74.0859980775,40.6191459388 L -74.085899,40.619909 L -74.0853303767,40.622770929 L -74.077413,40.625288 L -74.075031,40.625603 L -74.07524,40.626006 L -74.073976,40.626114 L -74.074152,40.626816 L -74.0727663962,40.6269681568 L -74.0722550096,40.6246087502 L -74.0718308076,40.623963285 L -74.0712773171,40.6231210944 L -74.071061794,40.6227931545 L -74.0707199404,40.6225774818 L -74.0700869744,40.6216077226 L -74.07007993,40.6215606411 L -74.0700647196,40.6215100118 L -74.0700273506,40.6214540639 L -74.0699830075,40.6214176669 L -74.0699573568,40.6214176825 L -74.0699037459,40.6214390367 L -74.0698803921,40.621405291 L -74.0698815483,40.6213955183 L -74.0699060243,40.6213883955 L -74.0698978247,40.6213510866 L -74.0698780033,40.6213510987 L -74.0698581498,40.621319129 L -74.0698397058,40.621323208 L -74.0697706521,40.6212685419 L -74.0697837365,40.6212471745 L -74.0697554309,40.6212081399 L -74.0694626579,40.621087493 L -74.069213325,40.6209025647 L -74.0672864302,40.6195138711 L -74.069244,40.619412 L -74.0813229186,40.606588434 L -74.079995081,40.606503139 L -74.0783391569,40.6068768474 L -74.077538,40.606886 L -74.076443,40.606774 L -74.0733386104,40.6060978968 L -74.0665028883,40.6033363768 L -74.064638,40.600183 L -74.073623,40.59721 L -74.073872,40.597637 L -74.0749,40.597614 L -74.077164,40.59839 L -74.08171,40.598563 L -74.0847421828,40.597462256 L -74.084809,40.597438 L -74.084943518,40.5973124626 L -74.0853695531,40.5969148702 L -74.085513,40.596781 L -74.0855929054,40.5965843267 L -74.085875,40.59589 L -74.090292,40.596196 L -74.093364,40.597033 L -74.09272,40.597464 L -74.09178,40.598719 L -74.091779,40.599239 L -74.092837,40.601089 L -74.092609,40.60323 L -74.09268,40.605912 L -74.0924,40.607072 L -74.090109,40.609403 L -74.084368,40.607173 L -74.0839369384,40.607053287 L -74.083466,40.606874 L -74.0831631644,40.6068383969 L -74.082546,40.606667 L -74.0813229186,40.606588434 L -74.0760159698,40.5782449123 L -74.076399319,40.5779948551 L -74.0764083471,40.5779754509 L -74.0763047043,40.5779200967 L -74.0762901524,40.5779076363 L -74.0762974452,40.5778986251 L -74.076314673,40.5778986136 L -74.0764646712,40.5779671 L -74.076492834,40.577960836 L -74.0764928658,40.5779608461 L -74.0765835627,40.5778492479 L -74.0767227387,40.5777305454 L -74.0768822997,40.5776367899 L -74.076915529,40.5775795 L -74.0767375387,40.5773725596 L -74.0767483737,40.5773669592 L -74.0768978738,40.5775163083 L -74.0769388153,40.5775343456 L -74.0769388405,40.5775343377 L -74.0773747602,40.5772821594 L -74.0777590129,40.5769432772 L -74.0783016916,40.5764647187 L -74.0787741289,40.5760108222 L -74.0792632476,40.5756712922 L -74.0786795362,40.5750819886 L -74.0787518532,40.5750421256 L -74.0793364054,40.575627204 L -74.0793364309,40.5756271962 L -74.0793367518,40.5756270119 L -74.0805028915,40.5749804587 L -74.0808027129,40.5747228785 L -74.0808028167,40.5747228145 L -74.080802837,40.574722802 L -74.080933035,40.574833 L -74.085106035,40.578288 L -74.087152035,40.579358 L -74.088974,40.577145 L -74.091123035,40.578323 L -74.091492,40.578007 L -74.0934430409,40.5790489967 L -74.0952119941,40.5770450032 L -74.0989090712,40.5789773222 L -74.1003447184,40.5797276807 L -74.1079738119,40.5837151083 L -74.1079738332,40.5837151194 L -74.104549035,40.5865 L -74.102079,40.588741 L -74.1018638453,40.5889997314 L -74.100883,40.590179 L -74.1009310554,40.5910331461 L -74.076031,40.578301 L -74.0760159698,40.5782449123 L -74.1421458622,40.5391439211 L -74.1423035128,40.5390699753 L -74.1423383158,40.5389491904 L -74.1419049784,40.538640977 L -74.1417658779,40.538542041 L -74.1422651301,40.5381403537 L -74.1422492839,40.5381296834 L -74.1422082493,40.5381646204 L -74.1422132232,40.5381675291 L -74.1418676229,40.5384440907 L -74.1418378939,40.5384216204 L -74.1422005257,40.5381264417 L -74.1422066521,40.5381319727 L -74.1422299229,40.5381144539 L -74.1421194629,40.5380336209 L -74.1420789364,40.5380039643 L -74.1421251229,40.5379666968 L -74.1421671802,40.5379327611 L -74.1421475253,40.5379165805 L -74.1421393774,40.5379214852 L -74.1412186534,40.5372539984 L -74.141197705,40.5372540242 L -74.1410673688,40.5373656436 L -74.1410415792,40.5373468855 L -74.1412982547,40.5371381779 L -74.1413207359,40.5371535207 L -74.1412374249,40.5372156176 L -74.1412411305,40.5372346917 L -74.1421757694,40.5378945991 L -74.1421624078,40.5379021496 L -74.1421857484,40.5379177783 L -74.1423896369,40.537753261 L -74.1421518048,40.5375570182 L -74.141784057,40.5372535779 L -74.1415828769,40.537087578 L -74.1417341057,40.5370395114 L -74.1424688988,40.537139403 L -74.1430516261,40.5372398739 L -74.1437012002,40.5372114827 L -74.1440141962,40.5369401963 L -74.1441828337,40.5367940314 L -74.1445550732,40.5359469313 L -74.1447406981,40.5358010442 L -74.145031588,40.5358268894 L -74.1453632465,40.5358563569 L -74.1460200828,40.5355535282 L -74.1459966962,40.5353903928 L -74.1462551293,40.5355386847 L -74.1470152518,40.5353244724 L -74.148667299,40.5345120697 L -74.1492173326,40.5342415878 L -74.1497771749,40.5338878698 L -74.1497584649,40.5334243028 L -74.1506955362,40.5325458389 L -74.1511202569,40.5327413825 L -74.15125574,40.5326692385 L -74.151261746,40.5326660403 L -74.157043,40.535967 L -74.1575810415,40.5363596737 L -74.1578177056,40.5365323961 L -74.15793,40.536618 L -74.165296,40.544273 L -74.166233,40.547343 L -74.16683,40.547779 L -74.166854983,40.5478201376 L -74.16689,40.547847 L -74.1669229886,40.5479418619 L -74.16707,40.548205 L -74.1698225726,40.5610573275 L -74.169827,40.561078 L -74.1698225332,40.5610573199 L -74.167099,40.548448 L -74.166154,40.548605 L -74.161168,40.549191 L -74.157235,40.550218 L -74.156752,40.549077 L -74.15408,40.55045 L -74.15395,40.550143 L -74.151607,40.551113 L -74.150839,40.549963 L -74.150431,40.548195 L -74.148011,40.544114 L -74.147465,40.543497 L -74.144348,40.541173 L -74.1435910789,40.5405099711 L -74.1422284602,40.5393163784 L -74.1421458622,40.5391439211 L -74.1167562833,40.6108137178 L -74.116563,40.609404 L -74.115791,40.606862 L -74.11538,40.603984 L -74.114871,40.602137 L -74.11684,40.601895 L -74.11664,40.599062 L -74.117816,40.599026 L -74.117817,40.598386 L -74.119428,40.59836 L -74.119576,40.601817 L -74.120596,40.60181 L -74.120772,40.600672 L -74.1226719858,40.5993610284 L -74.1246839863,40.5982982839 L -74.1248035805,40.5982351139 L -74.1249589858,40.5981530284 L -74.1254819858,40.5980790284 L -74.12983,40.598671 L -74.13092,40.598856 L -74.13099,40.599503 L -74.132507,40.599632 L -74.137234,40.603249 L -74.14046,40.60307 L -74.142028,40.603372 L -74.147066,40.605504 L -74.147502,40.606313 L -74.14721,40.608259 L -74.145868,40.607921 L -74.143992,40.607741 L -74.136437,40.607791 L -74.12743,40.608615 L -74.1199089609,40.6103058202 L -74.119837,40.610322 L -74.1196716506,40.6103483917 L -74.11676,40.61087 L -74.1167562833,40.6108137178 L -74.0607798935,40.5931880047 L -74.062829,40.595236 L -74.062397,40.59585 L -74.061829,40.596306 L -74.062076,40.596841 L -74.064638,40.600183 L -74.059556,40.601925 L -74.057496,40.602363 L -74.060379,40.606277 L -74.057787,40.60745 L -74.0568491973,40.6080387336 L -74.0564956594,40.6072476483 L -74.0564069329,40.607188738 L -74.0560104141,40.6067805661 L -74.0555212612,40.6064828926 L -74.05543198,40.606482491 L -74.0553793243,40.6064942235 L -74.055287197,40.6065388901 L -74.0551600112,40.6067304914 L -74.0549886784,40.6066606969 L -74.0549991648,40.6066457448 L -74.0550337314,40.6066598266 L -74.055051941,40.6066338605 L -74.0550195434,40.606620663 L -74.0550559101,40.6065688057 L -74.0551040353,40.6065884107 L -74.055182181,40.6064745668 L -74.0551525106,40.6063290459 L -74.055059741,40.6062654205 L -74.0544074128,40.6060812177 L -74.0538106981,40.6059127189 L -74.0536072974,40.6052388094 L -74.0540203996,40.6049347209 L -74.0536960799,40.6041481038 L -74.0535396448,40.6036335576 L -74.0530470746,40.6016225657 L -74.0530333074,40.6014664707 L -74.0530361268,40.6014011636 L -74.0530475416,40.601336403 L -74.0530674365,40.6012728445 L -74.0530956099,40.6012111314 L -74.0531875762,40.6011284129 L -74.0533185734,40.6010105882 L -74.0533839676,40.6008952138 L -74.0533861196,40.6008604923 L -74.0534070584,40.600522661 L -74.0530071798,40.6001604176 L -74.0524031963,40.5998694989 L -74.0522541191,40.5998511674 L -74.0522298303,40.5998238836 L -74.0522282695,40.5997761023 L -74.0522453173,40.5997480142 L -74.0522909929,40.5997204405 L -74.0523249485,40.5997149053 L -74.0523724578,40.5997187824 L -74.0524917895,40.5997368431 L -74.052606605,40.5998145754 L -74.0527941649,40.5998734647 L -74.052893221,40.5998633174 L -74.0543411862,40.5988191753 L -74.0543115048,40.5987775058 L -74.0543364457,40.5987604455 L -74.0544742233,40.5987555395 L -74.057193699,40.5963950788 L -74.0583730687,40.5952372855 L -74.0597269058,40.5939082167 L -74.0597473476,40.5938486116 L -74.059641206,40.5937093884 L -74.0596625577,40.5937031757 L -74.0597666069,40.5938352575 L -74.0605535364,40.5933797554 L -74.0607798935,40.5931880047 L -74.1905792485,40.5769201373 L -74.1923419433,40.5858909715 L -74.1915758223,40.586625764 L -74.1901070926,40.5856358028 L -74.1870077951,40.5884108563 L -74.1861403465,40.587940324 L -74.1852163249,40.5889326342 L -74.1863454406,40.5895490154 L -74.1853697248,40.5909084348 L -74.1844801184,40.5913600309 L -74.1841388916,40.5920813902 L -74.1829208571,40.5932803131 L -74.1822289739,40.5936788742 L -74.1784949235,40.5968797749 L -74.180270779,40.5981623918 L -74.1780796727,40.5997169097 L -74.174850387,40.6022108074 L -74.1726735001,40.6029084231 L -74.1716826927,40.6025110478 L -74.1673816337,40.6019722447 L -74.168451027,40.5964745481 L -74.1679134635,40.596296513 L -74.1683098829,40.5944443048 L -74.167776,40.594209 L -74.166141,40.59369 L -74.1636,40.59337 L -74.163440027,40.5929800834 L -74.163676605,40.5924883568 L -74.1659451808,40.5908550058 L -74.1677466807,40.5891737046 L -74.1681034234,40.58923222 L -74.1680310463,40.5895118535 L -74.1684284025,40.5895849839 L -74.1685816859,40.5890915588 L -74.1690559913,40.5891815074 L -74.1692854954,40.5884957538 L -74.1683394294,40.588314208 L -74.16839981,40.5881100058 L -74.1682566092,40.5880828324 L -74.1685220271,40.5872817248 L -74.1688744895,40.5874390379 L -74.1690005859,40.5872501386 L -74.1698338593,40.5874102321 L -74.1703490795,40.5856864355 L -74.1688721038,40.5854185985 L -74.1697792036,40.5774381877 L -74.169835,40.570879 L -74.169605,40.56665 L -74.167977,40.567201 L -74.16645,40.567495 L -74.165214,40.568565 L -74.1618269858,40.5695440284 L -74.158269,40.569681 L -74.1563169858,40.5708190284 L -74.1560359858,40.5707420284 L -74.1556759858,40.5701440284 L -74.1553739858,40.5701820284 L -74.1552729858,40.5704340284 L -74.1549699858,40.5705880284 L -74.1541831126,40.5701977587 L -74.1538577606,40.5701411758 L -74.1536001685,40.5701484319 L -74.1535507991,40.5701782995 L -74.153433099,40.5702495059 L -74.153386,40.570278 L -74.153386,40.570893 L -74.1527019858,40.5705270284 L -74.1523489858,40.5706310284 L -74.1523059858,40.5708290284 L -74.1526869858,40.5711640284 L -74.1522479858,40.5714380284 L -74.1519529858,40.5714440284 L -74.1517509858,40.5709830284 L -74.1515569858,40.5709220284 L -74.1513769858,40.5710150284 L -74.151225,40.571644 L -74.151045,40.571644 L -74.15081,40.571216 L -74.1492809858,40.5717830284 L -74.1486969858,40.5716840284 L -74.1481349858,40.5721460284 L -74.1468979984,40.5722412576 L -74.1472639858,40.5714030284 L -74.152956,40.566776 L -74.154767,40.565419 L -74.155851,40.563774 L -74.1570292863,40.5626945316 L -74.157103,40.562627 L -74.16153,40.561269 L -74.163779,40.560317 L -74.164941,40.560112 L -74.169827,40.561078 L -74.171463,40.561375 L -74.174888,40.562826 L -74.176594,40.563241 L -74.177945,40.563983 L -74.181581,40.565313 L -74.1826339803,40.5655555175 L -74.1828459672,40.5666511045 L -74.1843114805,40.5665265145 L -74.1843713379,40.5651629306 L -74.185254,40.564549 L -74.1894625902,40.5636400325 L -74.1903352247,40.563048806 L -74.1907942166,40.5643916672 L -74.1924068711,40.5642722309 L -74.1925921368,40.5627327887 L -74.1931474455,40.5626443468 L -74.194076,40.562079 L -74.19769,40.558887 L -74.19938,40.560408 L -74.199907,40.560854 L -74.20089,40.56001 L -74.2019375504,40.5595072701 L -74.2047802339,40.5589229315 L -74.205696,40.558516 L -74.206133306,40.5582028737 L -74.207872703,40.5581111526 L -74.210456838,40.5575751338 L -74.2112869657,40.55721884 L -74.2115850431,40.5571689761 L -74.2118224833,40.5572470764 L -74.2123665644,40.5579453391 L -74.2119676717,40.5584424688 L -74.2117562046,40.5591247573 L -74.2119702917,40.5592977376 L -74.2118804232,40.5595969379 L -74.2111689954,40.5604862909 L -74.2111768186,40.56052032 L -74.2112400552,40.5607953853 L -74.2113400528,40.5612303531 L -74.2113060552,40.5613558847 L -74.2110960036,40.5621314718 L -74.2113799786,40.5634922053 L -74.210962774,40.5642904502 L -74.2106234374,40.5655202002 L -74.2095412586,40.5675145849 L -74.2095346723,40.5679280487 L -74.2093217527,40.5680253008 L -74.2092416855,40.5684098589 L -74.2088666111,40.5689097939 L -74.2089263633,40.5696242985 L -74.2080170538,40.5705179574 L -74.208168511,40.5707194234 L -74.2078355902,40.5726100015 L -74.2072629821,40.5741130278 L -74.2070780041,40.5742663402 L -74.2072265021,40.5744867964 L -74.2070702437,40.5747430253 L -74.2072418702,40.5751531158 L -74.2072843141,40.5752545329 L -74.2071764224,40.5754070266 L -74.2068120563,40.5759220202 L -74.2068865559,40.5762172711 L -74.2069593911,40.5762490196 L -74.2070891718,40.5763055903 L -74.2069273996,40.5765439904 L -74.2068794894,40.5765590053 L -74.2065804053,40.5766527373 L -74.2065312543,40.5769016374 L -74.2065986148,40.5769692182 L -74.206737768,40.5771088266 L -74.2068082796,40.5771795688 L -74.2066985823,40.5772608512 L -74.206323442,40.577538819 L -74.2059173251,40.5786166476 L -74.2059416522,40.5791967218 L -74.2036447212,40.5799516649 L -74.1963427027,40.5789544247 L -74.1917325939,40.5768391377 L -74.1905792485,40.5769201373 L -74.146119831,40.6249309171 L -74.144025,40.624992 L -74.14579,40.611932 L -74.14602,40.610344 L -74.14697,40.610151 L -74.14721,40.608259 L -74.150506,40.609906 L -74.157965,40.615653 L -74.160501,40.617416 L -74.161154,40.618092 L -74.16848,40.621562 L -74.167934,40.622401 L -74.1676,40.623125 L -74.166559,40.627367 L -74.163733,40.626874 L -74.1605,40.62653 L -74.1578004134,40.6261723175 L -74.1524225415,40.6255362445 L -74.1461272769,40.6249307 L -74.146119831,40.6249309171 L -74.1003447184,40.5797276807 L -74.10167,40.578623 L -74.1056458712,40.5745588202 L -74.1056775363,40.5745273765 L -74.105833,40.574373 L -74.1148263419,40.5791812624 L -74.1142353419,40.5797382624 L -74.112987,40.580819 L -74.111276,40.581792 L -74.109248,40.582679 L -74.1079738332,40.5837151194 L -74.1079738119,40.5837151083 L -74.1003447184,40.5797276807 L -74.1483061243,40.5649191596 L -74.14313,40.560508 L -74.142588,40.559894 L -74.143859,40.559161 L -74.143047,40.558461 L -74.14374,40.557984 L -74.14422,40.558336 L -74.146551,40.556235 L -74.145558,40.553195 L -74.145599,40.552081 L -74.14483,40.551045 L -74.14476,40.550512 L -74.144021,40.551024 L -74.143518,40.550155 L -74.142638,40.55074 L -74.1415,40.549589 L -74.139479,40.551069 L -74.138803,40.550597 L -74.13738,40.551473 L -74.136089,40.550424 L -74.137371,40.549578 L -74.138641,40.548475 L -74.137448,40.547306 L -74.1372714627,40.5472126803 L -74.1358195392,40.5464451763 L -74.1364115312,40.54625235 L -74.1364906305,40.5460732245 L -74.1364591218,40.5459750075 L -74.1365161344,40.5459147481 L -74.1368062212,40.5459704975 L -74.1369712915,40.5459749879 L -74.1370644606,40.5459574965 L -74.1370089477,40.545894656 L -74.1370234291,40.5458849644 L -74.1370962781,40.5459522187 L -74.1371325901,40.5459309744 L -74.1370631664,40.545864008 L -74.1371798713,40.5457928647 L -74.1371561954,40.5457731073 L -74.1371427044,40.5457740978 L -74.1362608528,40.5449632974 L -74.1361344826,40.5450394688 L -74.1361154072,40.5450198457 L -74.136383798,40.5448546715 L -74.1364028732,40.5448742951 L -74.1362843324,40.5449470406 L -74.1371703182,40.5457567489 L -74.1371728197,40.5457658697 L -74.1371928752,40.5457842947 L -74.1375083351,40.5455775572 L -74.1374894199,40.5455590958 L -74.137479586,40.5455649178 L -74.1367337016,40.544803742 L -74.1366118711,40.5448620755 L -74.1365890707,40.5448454861 L -74.1368734863,40.5446825939 L -74.1368909529,40.5446994427 L -74.1367488876,40.5447825845 L -74.1374243462,40.545466248 L -74.1374333593,40.54546124 L -74.137415588,40.5454426235 L -74.137471661,40.5454114741 L -74.1374878629,40.5454284456 L -74.1375028996,40.5454200933 L -74.1375299444,40.5454484236 L -74.1374472348,40.5454943697 L -74.1375029314,40.545552715 L -74.1375002251,40.5455542163 L -74.1375179943,40.545571798 L -74.1375287785,40.5455654721 L -74.1378845693,40.5458940185 L -74.1379496605,40.5460003376 L -74.1384106089,40.5456064142 L -74.1386859904,40.5454362775 L -74.1388695134,40.5451301976 L -74.1386948825,40.5449910703 L -74.1387431509,40.5449454245 L -74.1387215873,40.5449292869 L -74.1387078443,40.5449284565 L -74.1381040419,40.5444989906 L -74.1380414392,40.5445477528 L -74.1376243075,40.5442535664 L -74.1377562076,40.5441449288 L -74.137779757,40.5441628385 L -74.1376791549,40.5442449588 L -74.1376791831,40.5442586257 L -74.1380469477,40.5445041843 L -74.1381006405,40.5444586519 L -74.1387350968,40.5449050992 L -74.1387348404,40.5449178201 L -74.138755347,40.5449339584 L -74.1390196508,40.544715561 L -74.1379899016,40.5439900438 L -74.1378937755,40.5440704511 L -74.1378679852,40.5440525441 L -74.138043469,40.543904563 L -74.1380658962,40.5439199102 L -74.1380100183,40.5439712269 L -74.1390330718,40.5447049103 L -74.1395393792,40.5442951409 L -74.13943253,40.5442172175 L -74.1394143619,40.5442316344 L -74.1394209125,40.5442361066 L -74.1391083881,40.544472958 L -74.139151085,40.5445052116 L -74.1391454135,40.5445095811 L -74.1391002975,40.5444791914 L -74.1390326599,40.5444280973 L -74.1390413466,40.5444214054 L -74.1390933493,40.5444606889 L -74.1394206934,40.5442059435 L -74.139287673,40.5441165894 L -74.1389745423,40.5443761018 L -74.1389074305,40.5443289755 L -74.138918176,40.5443200699 L -74.1389598383,40.5443493237 L -74.1389719319,40.5443488962 L -74.1391567588,40.5441981105 L -74.1391556516,40.5441858404 L -74.1392139823,40.5441346628 L -74.1392224982,40.5441405561 L -74.1392459199,40.5441215187 L -74.1391955356,40.5440854651 L -74.1392203286,40.5440667007 L -74.1390826686,40.5439682249 L -74.1390591909,40.543985337 L -74.1390666914,40.5439911568 L -74.1388390036,40.5441735201 L -74.1388390213,40.5441820619 L -74.1388973367,40.5442255538 L -74.1388757039,40.5442435579 L -74.1387281245,40.5441300225 L -74.13874595,40.5441155495 L -74.1388074728,40.5441632574 L -74.1388283941,40.5441592412 L -74.1390416558,40.5439747122 L -74.1390505864,40.5439800483 L -74.1390775066,40.5439601532 L -74.1388346059,40.5437913594 L -74.1388032572,40.5438126838 L -74.1388101932,40.5438232084 L -74.1385375338,40.5440414886 L -74.1385386755,40.5440517369 L -74.1385981105,40.5440960818 L -74.1385858116,40.5441046385 L -74.1384153584,40.5439784273 L -74.138423178,40.5439698765 L -74.1384960696,40.5440236018 L -74.1385117434,40.5440235829 L -74.1387854116,40.5438014819 L -74.138797133,40.5438027123 L -74.1388232546,40.5437840549 L -74.1385399627,40.5435879287 L -74.1385207724,40.5436039925 L -74.1385234728,40.5436145321 L -74.138461153,40.5436642763 L -74.1384480912,40.5436786524 L -74.1384487664,40.5436861465 L -74.1384743101,40.5437051467 L -74.1384618395,40.5437152879 L -74.1383777302,40.5436504722 L -74.1383564589,40.5436522068 L -74.1382066727,40.5437736784 L -74.1382055862,40.5437890544 L -74.1382930544,40.5438538662 L -74.1382796446,40.5438666946 L -74.1381506862,40.5437720368 L -74.1383653129,40.5436017997 L -74.138418018,40.543641027 L -74.1384392933,40.5436418556 L -74.1384560524,40.5436238991 L -74.1384659577,40.5436291046 L -74.1385264974,40.5435785423 L -74.1385074375,40.5435657536 L -74.1384414873,40.5436196447 L -74.138411212,40.5435983276 L -74.1384827478,40.543539303 L -74.1384467163,40.5435155517 L -74.1383749174,40.5435765189 L -74.1383415129,40.5435518288 L -74.1385228284,40.5434015518 L -74.1385559776,40.5434241565 L -74.1384597197,40.543506286 L -74.1384928087,40.5435307496 L -74.1385900531,40.5434503404 L -74.1386203303,40.5434725121 L -74.1385331454,40.5435443673 L -74.139569717,40.5442722748 L -74.13972939,40.5441409495 L -74.1398369779,40.5440524623 L -74.1389463277,40.5434073987 L -74.1389104139,40.5434322646 L -74.138706324,40.5432914108 L -74.1389063654,40.5431317776 L -74.1389303782,40.54315004 L -74.1387714023,40.5432913322 L -74.1388606108,40.5433656939 L -74.1390367192,40.5432269939 L -74.139060733,40.5432452563 L -74.1389444738,40.5433394629 L -74.138995921,40.5433733694 L -74.1389835561,40.5433844114 L -74.1396764048,40.5438889959 L -74.139864965,40.5437368233 L -74.1398889741,40.5437524719 L -74.1397035069,40.5439087772 L -74.1398643931,40.544026844 L -74.1400411597,40.5438839996 L -74.139992956,40.5438458259 L -74.1400128384,40.5438304268 L -74.1403107801,40.5440504021 L -74.1403590482,40.5440166176 L -74.1403857307,40.544033185 L -74.1404176534,40.5440027252 L -74.1403954454,40.5439890167 L -74.1404605466,40.5439320174 L -74.1403086581,40.5438253118 L -74.1403294519,40.5438078381 L -74.1403284869,40.5438020873 L -74.1403143312,40.5437939557 L -74.1402968135,40.543793168 L -74.1402481747,40.5438342865 L -74.1402349118,40.5438261083 L -74.1402849149,40.5437852598 L -74.140284581,40.5437716251 L -74.1393499484,40.5430960851 L -74.1392418163,40.5431819621 L -74.1392199349,40.5431660851 L -74.1394081008,40.5430165851 L -74.1394335678,40.5430360676 L -74.1393844547,40.543076869 L -74.1393850803,40.5430887819 L -74.1402264153,40.5436960628 L -74.1402957195,40.5436404572 L -74.1402093757,40.5435790623 L -74.140213844,40.5435747865 L -74.1401263822,40.5435133934 L -74.1401298076,40.5435106627 L -74.1402873454,40.5433850711 L -74.1394575344,40.5427856021 L -74.1393871176,40.5428437707 L -74.139361328,40.542825864 L -74.1395368155,40.5426821509 L -74.1395637247,40.5427000561 L -74.1394787721,40.5427684926 L -74.1403063426,40.5433671101 L -74.1406271557,40.5431130297 L -74.1404794168,40.543005889 L -74.1397558489,40.5424811557 L -74.1396586049,40.5425607111 L -74.1396316907,40.5425410976 L -74.1398585989,40.5423571751 L -74.1398855084,40.5423759351 L -74.1397748478,40.5424640488 L -74.1405012271,40.5429894008 L -74.1406461487,40.5430942149 L -74.140845203,40.542938845 L -74.1410444264,40.5430869856 L -74.141090699,40.5430520554 L -74.1409666137,40.5429632648 L -74.1409842195,40.5429489976 L -74.1411054211,40.5430417206 L -74.1412567341,40.5431501469 L -74.1413242679,40.5430941338 L -74.1412880792,40.5430695963 L -74.1412833163,40.5430736958 L -74.1403850059,40.5424207714 L -74.1404377831,40.542382175 L -74.1404068533,40.5423608555 L -74.1402867337,40.542455789 L -74.1401651004,40.5423662184 L -74.1403352823,40.5422282093 L -74.1403587419,40.5422454849 L -74.1402072361,40.5423652243 L -74.1402863024,40.5424221265 L -74.140406563,40.5423270826 L -74.1404811921,40.542382038 L -74.1404271921,40.5424246629 L -74.1413046198,40.5430548918 L -74.1412971877,40.5430612887 L -74.141333875,40.5430861653 L -74.1414107356,40.5430224151 L -74.1410789212,40.5427911719 L -74.141161479,40.5427186737 L -74.1410666361,40.5426540467 L -74.141084368,40.5426389137 L -74.1411787955,40.5427034665 L -74.1411869318,40.5426963217 L -74.1412951185,40.5427687708 L -74.1413265311,40.5427470475 L -74.1411237595,40.5426046137 L -74.141143113,40.5425876589 L -74.1412494937,40.5426603409 L -74.1413354719,40.5425887925 L -74.1413155442,40.5425745061 L -74.1412861938,40.5425991303 L -74.1412195802,40.5425555532 L -74.141250112,40.5425314985 L -74.1405689769,40.5420525687 L -74.1405408622,40.5420582179 L -74.1404637826,40.5421274425 L -74.1404126173,40.542090628 L -74.1404051035,40.5420605364 L -74.140262904,40.5419615115 L -74.1402951165,40.5419342304 L -74.1404750372,40.5420597878 L -74.1404958101,40.5420608553 L -74.1405561318,40.5420109846 L -74.1406799809,40.541908593 L -74.1407035303,40.5419248177 L -74.1405947234,40.5420165076 L -74.1406341728,40.5420422672 L -74.1406191991,40.5420560216 L -74.1413432014,40.5425641394 L -74.141337585,40.5425688714 L -74.1413490138,40.5425775231 L -74.1414615159,40.5424839022 L -74.141276575,40.5423530792 L -74.1412944212,40.5423358759 L -74.1414809747,40.5424677091 L -74.1415310944,40.5424260008 L -74.1413485469,40.5422904649 L -74.1413633084,40.5422784514 L -74.1415495791,40.5424106175 L -74.141649113,40.5423215221 L -74.1417971996,40.5422004154 L -74.1408945109,40.5415711112 L -74.1408870279,40.5415840478 L -74.1408463314,40.5415555067 L -74.1406609522,40.5417093465 L -74.1406398417,40.541694542 L -74.1409581683,40.541432078 L -74.1409804859,40.5414476833 L -74.1408957869,40.5415165839 L -74.1408947758,40.5415370949 L -74.1418126777,40.5421867694 L -74.1418519289,40.5421517799 L -74.1418730797,40.5421666581 L -74.1416722624,40.5423354641 L -74.1417052364,40.5423553233 L -74.1418114595,40.5423620634 L -74.1419107125,40.5423446603 L -74.142119814,40.5422460976 L -74.1421526717,40.5422437041 L -74.1422573033,40.5422949843 L -74.1422989863,40.5422521115 L -74.1421892721,40.5420677825 L -74.1421834429,40.5420178611 L -74.1424766224,40.5413337098 L -74.1417864323,40.5401059225 L -74.1417766138,40.5400884563 L -74.1417838788,40.5400718697 L -74.1420045928,40.5395679592 L -74.1417294051,40.5393398807 L -74.1417289265,40.5393394841 L -74.1421458622,40.5391439211 L -74.1422284602,40.5393163784 L -74.1435910789,40.5405099711 L -74.144348,40.541173 L -74.147465,40.543497 L -74.148011,40.544114 L -74.150431,40.548195 L -74.150839,40.549963 L -74.151607,40.551113 L -74.15395,40.550143 L -74.15408,40.55045 L -74.156752,40.549077 L -74.157235,40.550218 L -74.161168,40.549191 L -74.166154,40.548605 L -74.167099,40.548448 L -74.1698225332,40.5610573199 L -74.169827,40.561078 L -74.164941,40.560112 L -74.163779,40.560317 L -74.16153,40.561269 L -74.157103,40.562627 L -74.1570292863,40.5626945316 L -74.155851,40.563774 L -74.154767,40.565419 L -74.152956,40.566776 L -74.1497979858,40.5636430284 L -74.1483061243,40.5649191596 L -74.1135961741,40.548061316 L -74.1137484151,40.5480187581 L -74.1138735453,40.5480914769 L -74.1147378117,40.5479966107 L -74.1149717566,40.5478947516 L -74.1152305895,40.5475994979 L -74.1152678421,40.5475710011 L -74.1153109031,40.54754775 L -74.1153585189,40.5475304214 L -74.1154093033,40.5475195198 L -74.115461778,40.5475153625 L -74.1155144153,40.5475180706 L -74.115565683,40.5475275652 L -74.1156140886,40.54754357 L -74.1158069996,40.5477388704 L -74.1160800475,40.5478649468 L -74.1163118574,40.547898748 L -74.1165453218,40.5478723931 L -74.1169770667,40.5476267112 L -74.1172998895,40.5474640262 L -74.1176598283,40.5473557675 L -74.1180413308,40.5473066129 L -74.1184134937,40.5470048462 L -74.118827062,40.5465517112 L -74.1191669179,40.5460625703 L -74.1194300946,40.545757525 L -74.1196206282,40.5455720381 L -74.1197781004,40.5454704567 L -74.1199551319,40.5453897636 L -74.1202469299,40.5453124231 L -74.1204638619,40.5452726309 L -74.1210570196,40.5452863714 L -74.1215807035,40.5452086039 L -74.1219440987,40.5450798155 L -74.1224530605,40.5447705456 L -74.1242444971,40.5431103809 L -74.1257509454,40.5413054255 L -74.128872573,40.5370452059 L -74.1307118427,40.5345350754 L -74.133564435,40.5315111748 L -74.1361884899,40.5296207967 L -74.1369079908,40.5292819189 L -74.1372850425,40.529740468 L -74.1382514072,40.529691337 L -74.138883373,40.5299606765 L -74.1391507601,40.5315201116 L -74.1401761179,40.5331504959 L -74.1402782687,40.5333197987 L -74.140610927,40.5341306002 L -74.140554446,40.5348117004 L -74.1404922828,40.5349986681 L -74.1403247539,40.5352845797 L -74.140152062,40.5354270671 L -74.1400032101,40.5354569123 L -74.1396314001,40.5354095648 L -74.1380116943,40.535203306 L -74.1350750933,40.5352411706 L -74.1341001749,40.5354944891 L -74.1335367162,40.5358089044 L -74.1330261157,40.5362403364 L -74.1332069625,40.5362906356 L -74.1332156759,40.5362786939 L -74.1333831292,40.5363244213 L -74.133369054,40.5363561952 L -74.1330120767,40.536256065 L -74.132971204,40.5362946886 L -74.1331723598,40.5363551982 L -74.1331612014,40.5363740027 L -74.1330906261,40.536352731 L -74.133075857,40.536397488 L -74.1329435811,40.536322251 L -74.1329426645,40.5363220331 L -74.1311954569,40.5378724088 L -74.1311973519,40.5378715257 L -74.1312833709,40.5379334908 L -74.1313327919,40.5378913299 L -74.1313210135,40.5378846181 L -74.1315130781,40.5377107057 L -74.1315256488,40.5377185426 L -74.1313541234,40.5378715149 L -74.1313765678,40.537887492 L -74.131292698,40.5379567019 L -74.131813872,40.5383073587 L -74.132112445,40.5380522967 L -74.1317657175,40.5378174463 L -74.1316953037,40.5378790291 L -74.1316840932,40.5378713532 L -74.1318462715,40.5377346438 L -74.1318566132,40.5377426188 L -74.1317852073,40.5378022913 L -74.1321356051,40.5380331272 L -74.1324243851,40.5377749607 L -74.1319981705,40.5374809844 L -74.1319219095,40.5375396624 L -74.1319118212,40.537532841 L -74.1320795228,40.5373950341 L -74.1320926021,40.5374046523 L -74.1320182118,40.5374646022 L -74.1324530276,40.5377602814 L -74.1327548049,40.5375045365 L -74.1323220559,40.537205222 L -74.1322471738,40.537270226 L -74.1322359627,40.5372625507 L -74.1323980158,40.5371188649 L -74.1324092253,40.5371256844 L -74.1323376971,40.5371881208 L -74.1327760371,40.5374840109 L -74.1330744557,40.5372291233 L -74.13264694,40.5369370388 L -74.1325668307,40.5369973767 L -74.1325578614,40.5369914078 L -74.1327356023,40.5368545352 L -74.1327434517,40.5368613597 L -74.1326672695,40.5369201896 L -74.1330945751,40.5372120179 L -74.1333918738,40.5369579843 L -74.1329557718,40.5366612387 L -74.1328863404,40.5367260424 L -74.1328743828,40.5367196323 L -74.1330350884,40.5365748756 L -74.1330440564,40.5365808446 L -74.1329725293,40.5366432825 L -74.1334100437,40.5369397219 L -74.1336895773,40.5367034248 L -74.1336657647,40.536687643 L -74.1338082326,40.5365621762 L -74.1338605414,40.5365979625 L -74.1300813626,40.5398488741 L -74.1300762089,40.5398451195 L -74.1300717234,40.5398511357 L -74.1300832539,40.5398594396 L -74.129969342,40.5399677696 L -74.1299384319,40.5399471356 L -74.1300492852,40.5398385081 L -74.1300583613,40.539843438 L -74.1300639275,40.5398381347 L -74.1300566787,40.5398326709 L -74.1302086936,40.5397026638 L -74.1297640562,40.5394152229 L -74.1296942741,40.5394782404 L -74.1296837551,40.5394717196 L -74.129845555,40.539326857 L -74.1298581996,40.5393352418 L -74.1297838486,40.5393986762 L -74.130227543,40.5396837176 L -74.1305216428,40.5394255581 L -74.1300844002,40.5391179264 L -74.1300114871,40.5391800417 L -74.1300027281,40.5391723937 L -74.130169358,40.539032878 L -74.1301780433,40.5390400048 L -74.1301050559,40.539101736 L -74.1305417652,40.5394093063 L -74.1308390685,40.5391475929 L -74.1304074353,40.5388474158 L -74.130333661,40.5389090004 L -74.130322449,40.5389004712 L -74.1304852836,40.5387589163 L -74.1304960179,40.5387659308 L -74.1304253151,40.5388303122 L -74.1308591885,40.5391313398 L -74.1311532872,40.5388735741 L -74.1307192581,40.5385813619 L -74.1306477472,40.5386421427 L -74.130637658,40.5386353213 L -74.130799719,40.5384924903 L -74.1308109302,40.5385001658 L -74.1307378246,40.5385644333 L -74.1311743699,40.5388551614 L -74.1314742422,40.5385983149 L -74.1310394537,40.53830498 L -74.130966688,40.5383676722 L -74.1309567807,40.5383607381 L -74.1311196228,40.5382188928 L -74.1311306476,40.5382269215 L -74.1310590667,40.5382889811 L -74.1314974007,40.5385813814 L -74.1317935082,40.538325992 L -74.1311649135,40.5379003054 L -74.1311646631,40.5379001359 L -74.1279872853,40.5407109775 L -74.1274061295,40.5420185755 L -74.1274065442,40.5425722684 L -74.1276014603,40.5432227822 L -74.127670033,40.5433813463 L -74.1277000134,40.5433741215 L -74.1277314343,40.5434230848 L -74.1278982496,40.5433661716 L -74.1278675677,40.5433151801 L -74.1278862638,40.5433080771 L -74.1279283051,40.5433732471 L -74.1275666076,40.5434993339 L -74.1276299404,40.5436088931 L -74.1279896839,40.5434843436 L -74.128030685,40.5435505583 L -74.1280105488,40.5435572506 L -74.1279800525,40.5435090302 L -74.1278189345,40.5435643996 L -74.1290186463,40.5450592418 L -74.1298719343,40.5458282048 L -74.1307265408,40.5462551904 L -74.1322862617,40.5466198277 L -74.1332590565,40.5468472513 L -74.1354231236,40.5465742985 L -74.1358195392,40.5464451763 L -74.1372714627,40.5472126803 L -74.137448,40.547306 L -74.138641,40.548475 L -74.137371,40.549578 L -74.136089,40.550424 L -74.128117,40.556535 L -74.1273,40.557295 L -74.119528,40.552267 L -74.11964,40.551817 L -74.119438,40.551352 L -74.116507,40.548647 L -74.11606,40.548653 L -74.11464,40.549112 L -74.1135961741,40.548061316 L -74.085899,40.619909 L -74.0859980775,40.6191459388 L -74.08608,40.618515 L -74.086187457,40.6182206422 L -74.0864175802,40.6175902639 L -74.086571,40.61717 L -74.08783,40.615318 L -74.08778,40.614943 L -74.087429,40.614419 L -74.08721,40.613307 L -74.089588,40.609848 L -74.090109,40.609403 L -74.09427,40.610806 L -74.09818,40.610742 L -74.0990679664,40.6120150449 L -74.09935,40.612419 L -74.0996232245,40.6126354497 L -74.10209,40.6146 L -74.103511,40.616414 L -74.102549,40.616853 L -74.099685,40.619653 L -74.097702,40.618809 L -74.094624,40.619654 L -74.094263,40.620108 L -74.0939,40.620255 L -74.09105,40.619718 L -74.090224,40.619409 L -74.08942,40.620307 L -74.0893850919,40.6202874434 L -74.088208,40.61963 L -74.087627,40.619543 L -74.088028,40.620243 L -74.087745,40.620114 L -74.087011,40.620501 L -74.087071,40.62008 L -74.086488,40.620449 L -74.086391,40.619998 L -74.085899,40.619909 L -74.0529319064,40.5799024747 L -74.0531403682,40.5777027145 L -74.0540604494,40.5771164452 L -74.0548977821,40.5777824409 L -74.0546931697,40.5796916322 L -74.0548513456,40.5797075931 L -74.0548456005,40.5799457914 L -74.0536862915,40.5805487596 L -74.0529319064,40.5799024747 L -74.1861566474,40.6432910801 L -74.180805,40.640818 L -74.1758948474,40.6411926664 L -74.1748000498,40.6410315891 L -74.174062,40.640923 L -74.172598,40.640315 L -74.171287,40.640518 L -74.171113,40.633467 L -74.16627,40.63365 L -74.166559,40.627367 L -74.1676,40.623125 L -74.167934,40.622401 L -74.16848,40.621562 L -74.173366,40.623677 L -74.177624,40.625774 L -74.178845,40.626106 L -74.18173,40.627922 L -74.1956552996,40.635002767 L -74.1955768806,40.6350042186 L -74.1953070436,40.6352338955 L -74.195200969,40.6357079446 L -74.1944225685,40.6365821062 L -74.1945421258,40.6370700276 L -74.1946247972,40.6370907939 L -74.1947868968,40.6371315117 L -74.1946231015,40.6373911836 L -74.1944288135,40.6373666532 L -74.1939730863,40.6373091142 L -74.1938870409,40.6373444237 L -74.1935831769,40.6374691169 L -74.1937196462,40.6375668142 L -74.1888339848,40.6415202338 L -74.1885663196,40.6417368253 L -74.1876376301,40.64248831 L -74.1870583418,40.6429570632 L -74.186524969,40.6433886622 L -74.1863797372,40.6432888567 L -74.1862320981,40.6431873969 L -74.1861566474,40.6432910801 L -74.151261746,40.5326660403 L -74.1517579883,40.532401794 L -74.1516824125,40.5322764228 L -74.1518533774,40.532164021 L -74.1524566094,40.532067944 L -74.1539803591,40.5308439995 L -74.1541311079,40.5307229113 L -74.1540509466,40.5306242888 L -74.1540474995,40.5305945648 L -74.154083403,40.5305862417 L -74.1542146777,40.5306653671 L -74.1543829491,40.5305290989 L -74.1543450727,40.5304806499 L -74.154535454,40.5303049094 L -74.15464112,40.5303346384 L -74.154697949,40.5302488801 L -74.1544965237,40.5301021669 L -74.1545435737,40.5300621363 L -74.1549289485,40.5302254836 L -74.1556478234,40.5296429841 L -74.1554708552,40.5294775055 L -74.1555035725,40.5294380263 L -74.1557315344,40.529600905 L -74.1559900032,40.5294196037 L -74.1564486815,40.5289318422 L -74.1561343743,40.5286493693 L -74.1561873185,40.5286113716 L -74.1566710521,40.5289933116 L -74.1567691791,40.5290231633 L -74.1570186195,40.5289776558 L -74.1572094846,40.5288415051 L -74.1582610311,40.5283004992 L -74.1579488662,40.528085104 L -74.1579723946,40.5280670858 L -74.1583264513,40.5282784268 L -74.1593946054,40.5274277521 L -74.1597013452,40.5272959928 L -74.1598760668,40.5273712681 L -74.1599436787,40.527364608 L -74.1600114616,40.5273428108 L -74.1600555468,40.5273449381 L -74.1600841923,40.527360901 L -74.1602258249,40.5275244489 L -74.1602645076,40.5275525336 L -74.1603409738,40.5275498281 L -74.1615266652,40.5270293818 L -74.1615821742,40.5270134778 L -74.1616914132,40.5270239035 L -74.1622719611,40.5271942628 L -74.1622751602,40.5271923977 L -74.1635640401,40.5264521667 L -74.1637200159,40.526350033 L -74.1637913363,40.5263312963 L -74.1647465707,40.5260803455 L -74.1651613303,40.5257441133 L -74.1688443182,40.5235906822 L -74.1699971116,40.5230457725 L -74.1704885981,40.5230841727 L -74.171102637,40.5235497067 L -74.1720632018,40.5233205694 L -74.1750826927,40.52145149 L -74.1760124548,40.5208759628 L -74.1768214653,40.5200285259 L -74.1775829552,40.5192308669 L -74.177845258,40.5194857217 L -74.1779522462,40.5195896721 L -74.179554,40.522875 L -74.179529,40.524854 L -74.180311,40.526089 L -74.18092,40.527455 L -74.18182,40.528342 L -74.186298,40.534095 L -74.1850035649,40.5345351029 L -74.18083,40.535925 L -74.178730877,40.5379053673 L -74.1776182268,40.5389755003 L -74.177348,40.539346 L -74.177231,40.539844 L -74.1772822778,40.540629564 L -74.169924,40.542225 L -74.165296,40.544273 L -74.15793,40.536618 L -74.1578177056,40.5365323961 L -74.1575810415,40.5363596737 L -74.157043,40.535967 L -74.151261746,40.5326660403 L -74.118891,40.580478 L -74.120996,40.579526 L -74.12144,40.580159 L -74.1233229858,40.5786390284 L -74.1238179858,40.5778330284 L -74.1237219858,40.5771050284 L -74.1241129858,40.5758050142 L -74.1256509858,40.5758600142 L -74.1259344519,40.5757701193 L -74.1256262341,40.5768652015 L -74.1264685632,40.5769794156 L -74.1266969915,40.5762370238 L -74.1269825268,40.5763940682 L -74.1271395713,40.5776218701 L -74.1270681874,40.5781643872 L -74.1268397592,40.5786355205 L -74.1269254198,40.5789496093 L -74.1274251066,40.5797919385 L -74.1260830906,40.5805771606 L -74.1263829027,40.5824902473 L -74.1270256546,40.5824958985 L -74.1278287226,40.5831502503 L -74.1291671695,40.5839533184 L -74.1303569,40.5828825609 L -74.1315466305,40.5820200063 L -74.1328255908,40.5822579524 L -74.1337178886,40.5817820602 L -74.1332122532,40.5800272077 L -74.1352645383,40.5798190049 L -74.135115822,40.5787482474 L -74.1355322277,40.5784508148 L -74.1434439355,40.5766067325 L -74.1432952192,40.575863151 L -74.1454664774,40.5756846914 L -74.1462695454,40.575982124 L -74.1466859511,40.5759523807 L -74.1470726135,40.5757441779 L -74.1479946547,40.5756846914 L -74.1468438675,40.5742274429 L -74.1472510731,40.5736324063 L -74.147013127,40.5732160006 L -74.1468979984,40.5722412576 L -74.1481349858,40.5721460284 L -74.1486969858,40.5716840284 L -74.1492809858,40.5717830284 L -74.15081,40.571216 L -74.151045,40.571644 L -74.151225,40.571644 L -74.1513769858,40.5710150284 L -74.1515569858,40.5709220284 L -74.1517509858,40.5709830284 L -74.1519529858,40.5714440284 L -74.1522479858,40.5714380284 L -74.1526869858,40.5711640284 L -74.1523059858,40.5708290284 L -74.1523489858,40.5706310284 L -74.1527019858,40.5705270284 L -74.153386,40.570893 L -74.153386,40.570278 L -74.153433099,40.5702495059 L -74.1535507991,40.5701782995 L -74.1536001685,40.5701484319 L -74.1538577606,40.5701411758 L -74.1541831126,40.5701977587 L -74.1549699858,40.5705880284 L -74.1552729858,40.5704340284 L -74.1553739858,40.5701820284 L -74.1556759858,40.5701440284 L -74.1560359858,40.5707420284 L -74.1563169858,40.5708190284 L -74.158269,40.569681 L -74.1618269858,40.5695440284 L -74.165214,40.568565 L -74.16645,40.567495 L -74.167977,40.567201 L -74.169605,40.56665 L -74.169835,40.570879 L -74.152528,40.580617 L -74.149632,40.58337 L -74.1463509858,40.5860120284 L -74.1458454982,40.5885072418 L -74.1458335228,40.5885076917 L -74.1386959858,40.5889620284 L -74.133775,40.596333 L -74.132813,40.597241 L -74.1323932288,40.5975260924 L -74.1314959144,40.5981355137 L -74.131239,40.59831 L -74.1310149171,40.5984083074 L -74.1305803085,40.5985989743 L -74.13046,40.59865 L -74.1302366825,40.5986575294 L -74.1298864534,40.5986691301 L -74.12983,40.598671 L -74.1254819858,40.5980790284 L -74.1249589858,40.5981530284 L -74.1248035805,40.5982351139 L -74.1246839863,40.5982982839 L -74.1226719858,40.5993610284 L -74.120772,40.600672 L -74.120596,40.60181 L -74.119576,40.601817 L -74.119428,40.59836 L -74.117817,40.598386 L -74.117816,40.599026 L -74.11664,40.599062 L -74.11684,40.601895 L -74.114871,40.602137 L -74.1113309858,40.5981500284 L -74.11131,40.597057 L -74.113251,40.596103 L -74.114138,40.596547 L -74.1154289858,40.5961070284 L -74.1159539858,40.5957610284 L -74.116477,40.594595 L -74.1205869858,40.5884470284 L -74.1202029858,40.5881580284 L -74.12311,40.585104 L -74.120973,40.583206 L -74.120364,40.582379 L -74.1192268009,40.5815637733 L -74.119212,40.581166 L -74.118891,40.580478 L -74.1259344519,40.5757701193 L -74.1331587628,40.5734790913 L -74.1418834895,40.5722327018 L -74.1415356598,40.5707834116 L -74.1419994327,40.57072544 L -74.1418834895,40.5704645678 L -74.1419704469,40.5702036956 L -74.1404631851,40.5695370221 L -74.1413037734,40.56837759 L -74.1389289858,40.5672640142 L -74.1396299858,40.5662060284 L -74.14252,40.563893 L -74.1468736715,40.566426075 L -74.1483061243,40.5649191596 L -74.1497979858,40.5636430284 L -74.152956,40.566776 L -74.1472639858,40.5714030284 L -74.1468979984,40.5722412576 L -74.147013127,40.5732160006 L -74.1472510731,40.5736324063 L -74.1468438675,40.5742274429 L -74.1479946547,40.5756846914 L -74.1470726135,40.5757441779 L -74.1466859511,40.5759523807 L -74.1462695454,40.575982124 L -74.1454664774,40.5756846914 L -74.1432952192,40.575863151 L -74.1434439355,40.5766067325 L -74.1355322277,40.5784508148 L -74.135115822,40.5787482474 L -74.1352645383,40.5798190049 L -74.1332122532,40.5800272077 L -74.1337178886,40.5817820602 L -74.1328255908,40.5822579524 L -74.1315466305,40.5820200063 L -74.1303569,40.5828825609 L -74.1291671695,40.5839533184 L -74.1278287226,40.5831502503 L -74.1270256546,40.5824958985 L -74.1263829027,40.5824902473 L -74.1260830906,40.5805771606 L -74.1274251066,40.5797919385 L -74.1269254198,40.5789496093 L -74.1268397592,40.5786355205 L -74.1270681874,40.5781643872 L -74.1271395713,40.5776218701 L -74.1269825268,40.5763940682 L -74.1266969915,40.5762370238 L -74.1264685632,40.5769794156 L -74.1256262341,40.5768652015 L -74.1259344519,40.5757701193 L -74.1609049077,40.6393861408 L -74.1607365487,40.6393510145 L -74.1610642807,40.6386812397 L -74.1610816176,40.6385677683 L -74.1608919896,40.6385411892 L -74.1608112684,40.6386329589 L -74.1607622195,40.6386236903 L -74.1607506031,40.6385184004 L -74.1604218697,40.6384654123 L -74.1603481999,40.6384437265 L -74.1599489963,40.6399401368 L -74.1598641047,40.6399278237 L -74.1602069192,40.6386095753 L -74.1602246645,40.6383390613 L -74.1601651513,40.6385649889 L -74.1600575407,40.6387223528 L -74.1599583519,40.6387443461 L -74.1598569777,40.6387292022 L -74.1597301047,40.6385784442 L -74.1596414653,40.6384142398 L -74.159577124,40.6379925832 L -74.1594477035,40.637928163 L -74.1593195404,40.6378104057 L -74.1590562238,40.6380393103 L -74.1589894137,40.6385789424 L -74.1590253286,40.6385838664 L -74.1590095789,40.6388225779 L -74.1588953235,40.6388152771 L -74.1589329916,40.6382640178 L -74.1586458001,40.6382490085 L -74.1586347244,40.6381284791 L -74.158152772,40.6381099656 L -74.1581488392,40.6379675114 L -74.1578926295,40.6379650512 L -74.1578412227,40.638873915 L -74.1577335257,40.6388790352 L -74.1577736594,40.6379571602 L -74.1571878278,40.6379508052 L -74.1571012669,40.6392777186 L -74.1569772329,40.6392754012 L -74.1570707731,40.6379471356 L -74.156368486,40.6379058477 L -74.1563655286,40.6379507423 L -74.1561027649,40.6379395909 L -74.1561148826,40.6375307472 L -74.1556986205,40.6375179389 L -74.1556851577,40.6377874824 L -74.1556182933,40.63847022 L -74.1554926893,40.6384667795 L -74.155552712,40.6377843302 L -74.1555891193,40.6377856225 L -74.1555864376,40.6377307759 L -74.1548293246,40.6377238554 L -74.1547593367,40.6391963273 L -74.1546927403,40.6391928745 L -74.1546926386,40.6391939681 L -74.1546927022,40.6391928751 L -74.1547782901,40.6377215456 L -74.1545967016,40.6373433441 L -74.154549199,40.6372964726 L -74.1544542572,40.6372298073 L -74.1543830826,40.6371937984 L -74.1542527007,40.6371723109 L -74.1541579188,40.6371742441 L -74.1540299724,40.6371816356 L -74.1538807216,40.6371980828 L -74.1537646409,40.6372126801 L -74.1536296526,40.6372489638 L -74.1535112232,40.6372725894 L -74.153414066,40.6372727191 L -74.1532759228,40.6372670048 L -74.153136661,40.6372062972 L -74.1530299679,40.6371811668 L -74.1529208675,40.6371397915 L -74.1527970351,40.6371327549 L -74.1527006075,40.6371924356 L -74.1526960389,40.6372664545 L -74.1527247452,40.6373844955 L -74.152725169,40.6375696904 L -74.1526970045,40.6376418417 L -74.1522180688,40.6376925817 L -74.1522978618,40.6382742883 L -74.152136759,40.638290748 L -74.1520463923,40.6376672153 L -74.1511954501,40.6377307885 L -74.1513396802,40.6389336748 L -74.1513951761,40.6393965131 L -74.1512482797,40.6394093429 L -74.1511875445,40.6389441289 L -74.1511296509,40.6385006801 L -74.150743546,40.6385401825 L -74.1505563884,40.6385593307 L -74.1504388642,40.6384273519 L -74.1503927537,40.6383381725 L -74.1503085589,40.6382810169 L -74.1501138044,40.6382672855 L -74.1499678209,40.6381500752 L -74.1497938613,40.6378927809 L -74.1496788983,40.6375176743 L -74.1494581822,40.6374103208 L -74.1493783222,40.6374118813 L -74.149312356,40.6375259581 L -74.1494519411,40.6378851566 L -74.1494188171,40.6382916405 L -74.1493170172,40.6383901208 L -74.1492912038,40.6385038809 L -74.1492818748,40.6385706864 L -74.1491941816,40.6386683314 L -74.1488817554,40.638705208 L -74.1485581509,40.6374378375 L -74.1485281668,40.6374452135 L -74.1485160249,40.6375470736 L -74.1487779201,40.6388762511 L -74.1476123725,40.6390370378 L -74.1474993974,40.6389095978 L -74.146021731,40.6390945497 L -74.1460573362,40.6392292577 L -74.1458545829,40.6392642576 L -74.1451927948,40.6393784977 L -74.144842046,40.6393538147 L -74.1446713323,40.6393042677 L -74.1441762692,40.6390497311 L -74.143861636,40.6388879625 L -74.1437495992,40.6389615778 L -74.1438419252,40.6390883551 L -74.1438173453,40.6392074789 L -74.1435730859,40.6392267853 L -74.1433610301,40.6397098452 L -74.1431365226,40.6396594867 L -74.143734,40.638187 L -74.143563,40.637957 L -74.144363,40.635959 L -74.14471,40.635797 L -74.144801,40.635581 L -74.145801,40.632194 L -74.145622,40.631421 L -74.145916,40.630968 L -74.145706,40.627176 L -74.146119831,40.6249309171 L -74.1461272769,40.6249307 L -74.1524225415,40.6255362445 L -74.1578004134,40.6261723175 L -74.1605,40.62653 L -74.163733,40.626874 L -74.166559,40.627367 L -74.16627,40.63365 L -74.171113,40.633467 L -74.171287,40.640518 L -74.1711928154,40.6417405534 L -74.1711926095,40.6417396265 L -74.1711852133,40.6417399177 L -74.1710343362,40.6417458582 L -74.1702863544,40.6417753083 L -74.1700787865,40.6420861606 L -74.1699410207,40.6420544209 L -74.1691529557,40.6418728599 L -74.1690643163,40.6421300168 L -74.1684023253,40.6419912415 L -74.1682434358,40.6419413504 L -74.1681254749,40.6418253315 L -74.1680168046,40.6418376668 L -74.1677409405,40.6417277745 L -74.1676403526,40.6417991685 L -74.1675760709,40.6418447936 L -74.1675197152,40.6418219685 L -74.1667738499,40.6415816382 L -74.1667169376,40.6414788092 L -74.1665337579,40.6414226379 L -74.1664797188,40.6414348717 L -74.1662159992,40.6424241002 L -74.166099899,40.642406587 L -74.1663188729,40.641436675 L -74.1661160867,40.6413708434 L -74.1660453491,40.6413005131 L -74.1658011076,40.6412245114 L -74.1656340976,40.6412143714 L -74.1654431008,40.6422805467 L -74.1649413904,40.6422089999 L -74.1651904176,40.6406423058 L -74.1647342654,40.640391467 L -74.164589249,40.6413056593 L -74.1645713237,40.6414186616 L -74.1644145965,40.6413967847 L -74.16448225,40.6409948706 L -74.164596566,40.640315746 L -74.1641688681,40.6399941102 L -74.1641073536,40.6403887054 L -74.16400179,40.64106586 L -74.1638624942,40.6410527973 L -74.1639946157,40.640262061 L -74.1640473152,40.6399466588 L -74.1638497659,40.6398915097 L -74.1635359943,40.6398637691 L -74.1634544568,40.6398565604 L -74.1632457793,40.6409574192 L -74.1628714809,40.6409374836 L -74.1628579941,40.6410281939 L -74.1628050279,40.6410381879 L -74.1627521293,40.6410246613 L -74.1626464138,40.6409673624 L -74.1625097637,40.640930176 L -74.1624347707,40.6409300541 L -74.1620690187,40.6407883225 L -74.1620691887,40.6407278349 L -74.1616753469,40.6406107848 L -74.1622846525,40.6387656528 L -74.1618185661,40.6386462788 L -74.1614491783,40.6394283367 L -74.161302218,40.6393937345 L -74.1616601071,40.6386649933 L -74.1612401582,40.6385950116 L -74.1611578955,40.6386940624 L -74.1609049077,40.6393861408 L -74.0808028167,40.5747228145 L -74.080802802,40.574722802 L -74.083136257,40.5727181025 L -74.0859529739,40.5702982271 L -74.0869126365,40.5689858427 L -74.0861924437,40.5685646206 L -74.0862163222,40.5685326981 L -74.0872507832,40.5690816782 L -74.0883009297,40.5683080141 L -74.0883569978,40.5682667076 L -74.0892490608,40.5670155705 L -74.0899825993,40.5673800115 L -74.0909990547,40.5667371291 L -74.0910644026,40.5666566824 L -74.091164,40.566718 L -74.092686,40.568065 L -74.093873,40.568409 L -74.1046985963,40.5740199848 L -74.1056775363,40.5745273765 L -74.1056458712,40.5745588202 L -74.10167,40.578623 L -74.1003447184,40.5797276807 L -74.0989090712,40.5789773222 L -74.0952119941,40.5770450032 L -74.0934430409,40.5790489967 L -74.091492,40.578007 L -74.091123035,40.578323 L -74.088974,40.577145 L -74.087152035,40.579358 L -74.085106035,40.578288 L -74.080933035,40.574833 L -74.080802837,40.574722802 L -74.0808028167,40.5747228145 L -74.087279,40.637812 L -74.08813,40.637626 L -74.088917,40.636528 L -74.092449,40.635619 L -74.09339,40.6366 L -74.09386,40.638025 L -74.094306,40.640156 L -74.09475,40.64077 L -74.09557,40.643423 L -74.0959992202,40.6453818409 L -74.0929882819,40.6459727808 L -74.093005073,40.6460763148 L -74.0928095859,40.6461503785 L -74.0926277683,40.6462192634 L -74.0913569794,40.6467007241 L -74.0895587192,40.647257705 L -74.089554,40.647221 L -74.0892,40.647032 L -74.08652,40.643897 L -74.08652,40.642564 L -74.087542,40.638449 L -74.087279,40.637812 L -74.1148263419,40.5791812624 L -74.105833,40.574373 L -74.1056775363,40.5745273765 L -74.1046985963,40.5740199848 L -74.10543,40.573206 L -74.105795,40.572541 L -74.106494,40.572112 L -74.108739,40.569992 L -74.10976,40.570468 L -74.1155,40.564775 L -74.116379457,40.5638983592 L -74.1249,40.568949 L -74.1249172172,40.568963435 L -74.1245419891,40.5692093695 L -74.1226893397,40.5705605142 L -74.1220131306,40.5711553245 L -74.1213149858,40.5720780142 L -74.1214229858,40.5729460142 L -74.1218889716,40.5741590284 L -74.1217989858,40.5750250142 L -74.1230479858,40.5756690142 L -74.1231192662,40.5756781167 L -74.1232059858,40.5757210142 L -74.1240636327,40.5758004435 L -74.1241129858,40.5758050142 L -74.1237219858,40.5771050284 L -74.1238179858,40.5778330284 L -74.1233229858,40.5786390284 L -74.12144,40.580159 L -74.120996,40.579526 L -74.118891,40.580478 L -74.118289,40.578192 L -74.117587,40.577581 L -74.117021,40.578197 L -74.115423,40.578631 L -74.1148263419,40.5791812624 L -74.0910644026,40.5666566824 L -74.0911168116,40.5665921643 L -74.0920763524,40.5654109203 L -74.0929202328,40.5643720602 L -74.0940496841,40.5629816476 L -74.0940707111,40.5627316195 L -74.094581663,40.5629486202 L -74.0951106336,40.5631732734 L -74.095423718,40.5631546356 L -74.0956719806,40.5627755982 L -74.0961184714,40.5625875745 L -74.0966136227,40.5620871455 L -74.097024833,40.561336439 L -74.0975227193,40.5607274427 L -74.097993487,40.5599671054 L -74.0981976726,40.5598364768 L -74.0982903082,40.5593326142 L -74.0980868632,40.5592027434 L -74.097998143,40.5591857062 L -74.097832303,40.5591204549 L -74.0977966532,40.5590872428 L -74.0978203907,40.5590534662 L -74.0978481599,40.5590336691 L -74.0979317272,40.5590414629 L -74.0986587047,40.5594075604 L -74.098801182,40.5593959472 L -74.0993277036,40.5590974137 L -74.0992959375,40.5590049724 L -74.0993803143,40.5589641934 L -74.0997178455,40.5591413 L -74.099929142,40.5590706857 L -74.100337,40.55908 L -74.105576,40.56199 L -74.11014,40.564311 L -74.110821,40.563421 L -74.11226,40.561458 L -74.116379457,40.5638983592 L -74.1155,40.564775 L -74.10976,40.570468 L -74.108739,40.569992 L -74.106494,40.572112 L -74.105795,40.572541 L -74.10543,40.573206 L -74.1046985963,40.5740199848 L -74.093873,40.568409 L -74.092686,40.568065 L -74.091164,40.566718 L -74.0910644026,40.5666566824 L -74.1458454982,40.5885072418 L -74.1463509858,40.5860120284 L -74.149632,40.58337 L -74.152528,40.580617 L -74.169835,40.570879 L -74.1697792036,40.5774381877 L -74.1688721038,40.5854185985 L -74.1703490795,40.5856864355 L -74.1698338593,40.5874102321 L -74.1690005859,40.5872501386 L -74.1688744895,40.5874390379 L -74.1685220271,40.5872817248 L -74.1682566092,40.5880828324 L -74.16839981,40.5881100058 L -74.1683394294,40.588314208 L -74.1692854954,40.5884957538 L -74.1690559913,40.5891815074 L -74.1685816859,40.5890915588 L -74.1684284025,40.5895849839 L -74.1680310463,40.5895118535 L -74.1681034234,40.58923222 L -74.1677466807,40.5891737046 L -74.1659451808,40.5908550058 L -74.163676605,40.5924883568 L -74.163440027,40.5929800834 L -74.1636,40.593374 L -74.162604,40.593157 L -74.161999,40.594342 L -74.1619,40.595299 L -74.160355,40.595342 L -74.160174,40.59617 L -74.159715,40.596113 L -74.159652,40.596467 L -74.155246,40.595479 L -74.145667,40.589966 L -74.145834,40.588564 L -74.1458454982,40.5885072418 L -74.116379457,40.5638983592 L -74.11226,40.561458 L -74.110821,40.563421 L -74.11014,40.564311 L -74.105576,40.56199 L -74.100337,40.55908 L -74.099929142,40.5590706857 L -74.1007996393,40.5583218211 L -74.1012435414,40.5576608313 L -74.1016930464,40.5565842282 L -74.1018463767,40.5562169888 L -74.1018403296,40.5559446392 L -74.101374776,40.5556923721 L -74.101345938,40.5556256773 L -74.1013542327,40.5555832999 L -74.1014051691,40.5555385262 L -74.1014744064,40.555533611 L -74.1026507636,40.5561344048 L -74.1028627441,40.5560255971 L -74.1030983911,40.5559046415 L -74.1046594349,40.5541204673 L -74.1050890795,40.553235468 L -74.1048624956,40.553080018 L -74.1048444764,40.5530258146 L -74.1049146376,40.5530162671 L -74.1064282207,40.5538533736 L -74.1064335898,40.5539696706 L -74.1064007673,40.5540613465 L -74.1064815081,40.5541568284 L -74.1066768196,40.5541878611 L -74.1070473845,40.5541954515 L -74.1073483128,40.554148152 L -74.1085392246,40.5532580257 L -74.1102845739,40.5514963574 L -74.1112223306,40.5501435593 L -74.1127884696,40.5478842632 L -74.113010461,40.5477800654 L -74.1133834062,40.5480733752 L -74.1135961741,40.548061316 L -74.11464,40.549112 L -74.11606,40.548653 L -74.116507,40.548647 L -74.119438,40.551352 L -74.11964,40.551817 L -74.119528,40.552267 L -74.1273,40.557295 L -74.128117,40.556535 L -74.1282029497,40.5565898001 L -74.129607,40.557485 L -74.134808,40.560799 L -74.133407,40.56213 L -74.13311,40.562868 L -74.1326135331,40.5634533624 L -74.1318523611,40.564350827 L -74.1318263037,40.5643815501 L -74.13156,40.564692 L -74.1315153784,40.5647159014 L -74.1313709433,40.5647883935 L -74.13047,40.564972 L -74.127144,40.567579 L -74.1249172172,40.568963435 L -74.1249,40.568949 L -74.116379457,40.5638983592 L -74.069244,40.619412 L -74.0672864302,40.6195138711 L -74.0666915792,40.6190857642 L -74.0666673622,40.6190208528 L -74.068656,40.617517 L -74.073454,40.615416 L -74.075592,40.614033 L -74.0757843853,40.6138256112 L -74.076156,40.613572 L -74.0774,40.612084 L -74.077557,40.612137 L -74.079429,40.609099 L -74.081297,40.606619 L -74.0812996272,40.6066193089 L -74.0813229186,40.606588434 L -74.082546,40.606667 L -74.0831631644,40.6068383969 L -74.083466,40.606874 L -74.0839369384,40.607053287 L -74.084368,40.607173 L -74.090109,40.609403 L -74.089588,40.609848 L -74.08721,40.613307 L -74.081103,40.617789 L -74.078756,40.615925 L -74.078056,40.615351 L -74.074979,40.617349 L -74.070954,40.620431 L -74.069244,40.619412 L -74.22414,40.532292 L -74.22389,40.531113 L -74.222278,40.529212 L -74.2219164388,40.528899368 L -74.2216999773,40.5287121998 L -74.221576,40.528605 L -74.2208675247,40.528333184 L -74.22022,40.528037 L -74.2200349185,40.5280137435 L -74.2198213787,40.5279864689 L -74.21925,40.527914 L -74.218167,40.528004 L -74.2182951499,40.5277146822 L -74.221183,40.526922 L -74.221534,40.526263 L -74.222128,40.525814 L -74.2222488963,40.5257742907 L -74.2224540028,40.5257069219 L -74.22288,40.525567 L -74.22366,40.525543 L -74.22397,40.523383 L -74.225043,40.52054 L -74.219479,40.522147 L -74.213909,40.523015 L -74.213546,40.521235 L -74.212156,40.516468 L -74.2117846539,40.5154472782 L -74.2104400247,40.5117512393 L -74.2104345415,40.5117361677 L -74.210435,40.511736 L -74.211813,40.51103 L -74.213735,40.51041 L -74.223215,40.508659 L -74.222903,40.508936 L -74.226634,40.517251 L -74.22691,40.519172 L -74.229299,40.519984 L -74.231597,40.520879 L -74.233537,40.52064 L -74.235112,40.520917 L -74.23946,40.521279 L -74.2398225832,40.5200907114 L -74.2407328455,40.5205691517 L -74.2411729355,40.5210601314 L -74.2413321958,40.5208945176 L -74.2429323504,40.5212271611 L -74.2425837564,40.522198649 L -74.2427624678,40.5227267891 L -74.2426139784,40.5230809375 L -74.2427535377,40.5237701043 L -74.2428015701,40.5240072963 L -74.2433579269,40.5248189138 L -74.2436352264,40.5248584032 L -74.2439650076,40.5249053663 L -74.2434251859,40.525723018 L -74.2433852504,40.5257835069 L -74.2433388388,40.5258538052 L -74.2428286082,40.5274188808 L -74.2428435072,40.5276192031 L -74.2428867138,40.5282001308 L -74.2426098375,40.5283809312 L -74.2425640496,40.5284108307 L -74.228563,40.527566 L -74.227853,40.527631 L -74.2275808265,40.5277757225 L -74.227336,40.527828 L -74.226939,40.528117 L -74.225693,40.529911 L -74.224846,40.5324 L -74.22414,40.532292 L -74.1711928154,40.6417405534 L -74.171287,40.640518 L -74.172598,40.640315 L -74.174062,40.640923 L -74.1748000498,40.6410315891 L -74.1758948474,40.6411926664 L -74.180805,40.640818 L -74.1861566474,40.6432910801 L -74.1859089667,40.6436314395 L -74.1855741947,40.6438022226 L -74.1855011655,40.6438154358 L -74.1853454296,40.6437862913 L -74.1853033201,40.6437666467 L -74.1851143161,40.6438062383 L -74.185247936,40.6439435262 L -74.184981813,40.6440716368 L -74.1848359458,40.6441282663 L -74.1846596165,40.6439118582 L -74.1844721981,40.6437719546 L -74.1844244497,40.6436506916 L -74.1842004768,40.6435904066 L -74.1841131906,40.6435300836 L -74.1840637751,40.6433945377 L -74.1840648323,40.6433239904 L -74.1841923922,40.6431724538 L -74.1841974353,40.643171361 L -74.1842069893,40.6431739258 L -74.1842166409,40.6431823769 L -74.184221965,40.6431938411 L -74.1842223269,40.6432071779 L -74.1842266905,40.6432143799 L -74.1842328134,40.6432285447 L -74.1842396156,40.6432344192 L -74.1842497041,40.6432322358 L -74.1842601014,40.6432280701 L -74.1842731009,40.6432241368 L -74.1842832708,40.6432227355 L -74.1842920253,40.6432225974 L -74.1842979494,40.6432249891 L -74.1843143685,40.6432291002 L -74.1843217088,40.643230227 L -74.1843285569,40.6432266692 L -74.1843320876,40.6432209539 L -74.1843272518,40.6432141749 L -74.1843152413,40.6432078305 L -74.1843051996,40.6432005817 L -74.1843051813,40.6431954748 L -74.1843107605,40.6431896354 L -74.1843229626,40.6431830036 L -74.1843328238,40.6431835829 L -74.1843475662,40.6431815105 L -74.1843615741,40.6431724105 L -74.1843626447,40.6431629156 L -74.1843592245,40.6431548729 L -74.1843523402,40.6431482168 L -74.1843417439,40.6431406082 L -74.1843335892,40.6431316744 L -74.1843327734,40.6431238645 L -74.1843393767,40.6431179648 L -74.1843704677,40.6430995769 L -74.1843590105,40.6430935914 L -74.1843387351,40.6430920709 L -74.1842576582,40.6431158467 L -74.1842418913,40.6431179804 L -74.1842228857,40.6431187405 L -74.18421444,40.6431168958 L -74.1842070656,40.6431055557 L -74.1841913357,40.6430735046 L -74.1839549067,40.6424941607 L -74.1839035841,40.6424324438 L -74.1837275016,40.6423071746 L -74.1837208435,40.6422977564 L -74.1837193919,40.6422888069 L -74.183726124,40.6422742548 L -74.1836506706,40.6422396411 L -74.1836330058,40.6422606383 L -74.1836216377,40.6422801868 L -74.1836150046,40.6423006274 L -74.1836127166,40.642323161 L -74.183616725,40.6423417779 L -74.1836269837,40.6423659086 L -74.183636317,40.6423959903 L -74.1836564249,40.6424403469 L -74.1836860864,40.6424872701 L -74.1837372296,40.6425423181 L -74.1837954853,40.6426012577 L -74.1838066514,40.6426143331 L -74.183808772,40.642634635 L -74.1837906864,40.6427182424 L -74.1839143097,40.6428400117 L -74.1839445054,40.6428821865 L -74.1839480793,40.6429114375 L -74.1840261119,40.6431004086 L -74.1839201359,40.6432215623 L -74.1839158617,40.6432398957 L -74.1838956829,40.6432650944 L -74.1838457594,40.6432661568 L -74.1838008104,40.6432457004 L -74.1837601691,40.6432171256 L -74.1836917269,40.6431544814 L -74.1835617274,40.6430358482 L -74.1834742717,40.6429492096 L -74.1833095392,40.6429128342 L -74.1832421228,40.6429636781 L -74.1834167004,40.6432226261 L -74.1834698867,40.6433663474 L -74.1834630019,40.6434732422 L -74.183398328,40.6436095716 L -74.1834836064,40.6437049855 L -74.1837644456,40.6443372224 L -74.1838004494,40.6444319012 L -74.1837621688,40.6445147678 L -74.1836597466,40.6446156675 L -74.1833256914,40.6446767807 L -74.1832093571,40.6447235166 L -74.182980001,40.6447943916 L -74.1827975701,40.6447960218 L -74.1825109236,40.6447678198 L -74.1822209079,40.6447468951 L -74.1816676335,40.6447093143 L -74.1813810666,40.644612741 L -74.1811843424,40.6445861592 L -74.1810865231,40.644627449 L -74.1810287157,40.644718385 L -74.1809952879,40.6447712796 L -74.1809444506,40.6448277947 L -74.1808721251,40.6448514297 L -74.1808068654,40.6448192376 L -74.1808018322,40.6448006842 L -74.1808073995,40.6447453394 L -74.1807999936,40.6446102376 L -74.1807519272,40.6445550007 L -74.1806757979,40.6445273952 L -74.1806050729,40.6445120367 L -74.1805271909,40.6444846956 L -74.1805032392,40.6444574517 L -74.1804991784,40.6444271457 L -74.1804817395,40.6442789248 L -74.1800407795,40.6442881407 L -74.1800477218,40.6443716807 L -74.1799067146,40.6443787217 L -74.1799240477,40.644655012 L -74.1799365601,40.6446548992 L -74.1799650727,40.6452669823 L -74.1798956834,40.6452687965 L -74.1798840636,40.6451102404 L -74.1798437695,40.6451103034 L -74.1798483941,40.6451648599 L -74.1797745273,40.6451666798 L -74.1797298775,40.6443807021 L -74.1793311725,40.6444005118 L -74.1793315381,40.6444866191 L -74.179314325,40.6445155656 L -74.1792994218,40.644559878 L -74.1792984193,40.6445827972 L -74.1793110942,40.6446383607 L -74.1793156765,40.644671713 L -74.1793346796,40.6447216611 L -74.1793102523,40.6447594145 L -74.1792916601,40.6448030468 L -74.1792810016,40.6448592723 L -74.179284661,40.6448844735 L -74.1792933539,40.6449089486 L -74.1793068746,40.6449321177 L -74.1793249026,40.6449534321 L -74.1793366877,40.6449642622 L -74.179339738,40.6449700045 L -74.1793380677,40.644982163 L -74.1792512334,40.645041877 L -74.1791715197,40.6450307536 L -74.1791443308,40.6449884066 L -74.1791061326,40.6448768145 L -74.1790746658,40.6446465071 L -74.1790814414,40.644505697 L -74.1790564783,40.6444028699 L -74.1790448441,40.6436919751 L -74.1790355593,40.643394787 L -74.179404828,40.6431289665 L -74.1793852836,40.6427991039 L -74.1793951255,40.6427496806 L -74.1794015786,40.6427416744 L -74.1794084471,40.6426807332 L -74.1794284438,40.6426114317 L -74.1794840262,40.6425227201 L -74.1795291402,40.6423772751 L -74.1795561161,40.6422430116 L -74.1795820775,40.64218653 L -74.1795915013,40.6421743503 L -74.1796043799,40.6421214831 L -74.1796022936,40.6420778035 L -74.1796121357,40.6420440738 L -74.1796096734,40.6420328921 L -74.1796018182,40.6419314992 L -74.1795975821,40.6419218716 L -74.1795871372,40.6419176835 L -74.1795688886,40.6419171943 L -74.1795575357,40.6419240016 L -74.1795490463,40.6419620401 L -74.1795339821,40.6421478525 L -74.179507179,40.642222333 L -74.1794856068,40.6422639854 L -74.1794721304,40.6423416994 L -74.1793401762,40.6426895473 L -74.1793141071,40.6428128142 L -74.1792935358,40.6429124344 L -74.1792440481,40.642968345 L -74.1791872807,40.64298754 L -74.1791228647,40.6429854412 L -74.1790505833,40.6429596952 L -74.1790188165,40.6429239047 L -74.1787907844,40.6424985035 L -74.1786761243,40.642564174 L -74.1786406201,40.6425723741 L -74.1785990982,40.6425714257 L -74.1785135615,40.6425479638 L -74.1784831383,40.6425211757 L -74.1783699015,40.6422802243 L -74.1783339635,40.6422328193 L -74.1783203219,40.642208296 L -74.1782726125,40.6421398177 L -74.1782566215,40.6421292279 L -74.1782449477,40.6421318205 L -74.1782360066,40.6421472876 L -74.1782391,40.6421810519 L -74.1783476171,40.6424778816 L -74.1783683086,40.642545429 L -74.1783613096,40.6425651326 L -74.1783412701,40.642589476 L -74.1783171292,40.6426029898 L -74.1782887449,40.6426041048 L -74.1782021766,40.6425806963 L -74.1781099265,40.6425291846 L -74.1780076346,40.642543303 L -74.1779595219,40.6425778174 L -74.1779400336,40.6426194898 L -74.1779307085,40.6426251141 L -74.1778907932,40.6426303937 L -74.1778123761,40.6425998441 L -74.1777431052,40.6428895573 L -74.177686363,40.6429485965 L -74.1775312841,40.6430140479 L -74.1774586452,40.6430352687 L -74.1774413846,40.643033426 L -74.1773857436,40.643012091 L -74.1773282685,40.6430640495 L -74.1772589893,40.6430993588 L -74.1772111857,40.6431227786 L -74.1771735256,40.6431139633 L -74.1770577629,40.6430592007 L -74.1769808825,40.6430007227 L -74.176823869,40.642859146 L -74.1767673853,40.6426498683 L -74.1767481455,40.6425116208 L -74.1767361217,40.6424642604 L -74.1767261157,40.6424394238 L -74.1767048915,40.6424169113 L -74.1766955768,40.6424190907 L -74.1767010144,40.6424384232 L -74.1766993183,40.6424546487 L -74.1766942888,40.6424674702 L -74.1766834552,40.6424726904 L -74.1764825728,40.6423915395 L -74.1763907773,40.6423437146 L -74.1763688011,40.642330038 L -74.1763578662,40.6423272206 L -74.1763495067,40.6423366398 L -74.1763588356,40.6423490918 L -74.1763835688,40.6423618259 L -74.1766521155,40.6425116717 L -74.1766757134,40.6425303446 L -74.1766872379,40.6425521386 L -74.1767167439,40.6427898202 L -74.176724425,40.6429713861 L -74.1767168531,40.6431102281 L -74.1767058828,40.6431725199 L -74.1767084883,40.6432140172 L -74.1767077905,40.6432813727 L -74.1766839051,40.6433622111 L -74.1766679554,40.6433868448 L -74.1766164517,40.6434185943 L -74.1765848919,40.643426869 L -74.1765387716,40.6434194333 L -74.1764965409,40.643405116 L -74.1763366671,40.6434598102 L -74.1761039226,40.6434718142 L -74.1759818319,40.6434636223 L -74.1758500275,40.6434400826 L -74.175779647,40.6434162205 L -74.1757312283,40.6433914036 L -74.1756896488,40.6433602111 L -74.1756647877,40.6433101791 L -74.1756268458,40.6433065059 L -74.1756025095,40.6433112987 L -74.1755279766,40.6433826984 L -74.1754857933,40.643471004 L -74.1755198581,40.6436958465 L -74.1755395486,40.6437067709 L -74.1755719013,40.6437335513 L -74.1755845623,40.6437494051 L -74.1755864903,40.6437785193 L -74.175502139,40.6438669233 L -74.1754925512,40.6440922413 L -74.1754716626,40.6441231055 L -74.175477113,40.64415707 L -74.1754942398,40.6441703863 L -74.1755469212,40.6441765876 L -74.1756235236,40.6443492068 L -74.175707685,40.6445717247 L -74.1757087996,40.6446455249 L -74.1756900921,40.6446710997 L -74.1756847074,40.6447102849 L -74.175669408,40.6447180426 L -74.175624776,40.6446783052 L -74.1755903183,40.6446355935 L -74.1755589231,40.6446160551 L -74.1755270697,40.6446148406 L -74.175499313,40.644622822 L -74.1754669116,40.6446465211 L -74.1753505323,40.6448558917 L -74.175346604,40.6449278831 L -74.1753274915,40.6450303022 L -74.1752969155,40.6450750768 L -74.1752587961,40.6450845852 L -74.1751555178,40.6451001202 L -74.1749533546,40.6451497115 L -74.1748962053,40.645146048 L -74.1747883545,40.6451148171 L -74.1747200385,40.6450629965 L -74.1746801817,40.6450448388 L -74.1745862148,40.6450169325 L -74.174522623,40.6450371725 L -74.1744976148,40.6450648826 L -74.1744475845,40.6451233965 L -74.1743657294,40.6451362586 L -74.1741537399,40.6450800942 L -74.1740548409,40.6450218755 L -74.1735986927,40.644702759 L -74.1729412389,40.6442045229 L -74.1729528098,40.6440857354 L -74.1730015459,40.6435854051 L -74.1724478449,40.6434215708 L -74.172386384,40.6433036967 L -74.1723616539,40.6432562676 L -74.1727214531,40.642948499 L -74.1724402786,40.6428120482 L -74.1719633057,40.6428581327 L -74.1717938552,40.6430583988 L -74.1717503385,40.6430924608 L -74.1716583274,40.6431229243 L -74.1715720074,40.6431383229 L -74.171508111,40.6431344421 L -74.1714459876,40.6430931186 L -74.1714296152,40.6430709651 L -74.1714236936,40.6430406939 L -74.1714332784,40.6430187444 L -74.1714488616,40.6430058464 L -74.1714829855,40.6429951815 L -74.1714911523,40.6429843136 L -74.1714726102,40.6429820796 L -74.1714537864,40.6429849853 L -74.1714321947,40.6429742035 L -74.1714064038,40.6429461886 L -74.1713478695,40.6428738644 L -74.1713358728,40.6428557651 L -74.171347933,40.6428380152 L -74.1714405829,40.6427760446 L -74.1716459422,40.6426513004 L -74.1717694871,40.6425833049 L -74.1718583449,40.6425362565 L -74.1718604258,40.6425229285 L -74.1717898807,40.6425268755 L -74.171760784,40.6425247172 L -74.1717501279,40.6425167567 L -74.1717544925,40.6425061795 L -74.1717959169,40.6424708146 L -74.1718233683,40.6424387166 L -74.1718462485,40.6424011178 L -74.1718492725,40.6423804027 L -74.1718401246,40.6423547691 L -74.1718225139,40.6423305149 L -74.1718027201,40.6423115506 L -74.1717829403,40.6423072137 L -74.1717555552,40.6423034607 L -74.1717343453,40.6422955787 L -74.1717231159,40.6422832719 L -74.1717281302,40.6422558203 L -74.1717583377,40.6422227784 L -74.1717702965,40.6421969903 L -74.1717645796,40.6421827973 L -74.1717462155,40.6421673792 L -74.1717187278,40.6421555886 L -74.1716960887,40.6421441559 L -74.1716821666,40.6420969431 L -74.1716712816,40.642043644 L -74.1716799981,40.6420078614 L -74.1716942411,40.6419848229 L -74.1717122849,40.6419614932 L -74.1717218695,40.6419395442 L -74.1716975976,40.6419084852 L -74.1716044794,40.64186515 L -74.1715913611,40.641867619 L -74.1715798619,40.641875084 L -74.1715618947,40.6418771924 L -74.1715506645,40.6418648856 L -74.1715266619,40.6418140555 L -74.1715085795,40.641793496 L -74.171494964,40.6417704002 L -74.1714787899,40.64170251 L -74.1714835302,40.6416875158 L -74.1714875067,40.6416667274 L -74.1714680089,40.641548249 L -74.1714650684,40.6415005605 L -74.171453871,40.641470328 L -74.1714522887,40.6414547212 L -74.1714630212,40.6414414616 L -74.1714762292,40.6414324022 L -74.1714831642,40.6414267497 L -74.1714911412,40.641414434 L -74.1714963733,40.6413631897 L -74.1714952193,40.641347186 L -74.1714866379,40.6413185811 L -74.1714846221,40.6412960587 L -74.1714849353,40.641272991 L -74.1714932807,40.6412489419 L -74.1715070445,40.6412222826 L -74.1715157344,40.6412117406 L -74.1715405942,40.6412072734 L -74.1715768987,40.6411913231 L -74.1715896745,40.6411753469 L -74.1715927999,40.6411626701 L -74.1716021029,40.6411458636 L -74.1716061756,40.6411257991 L -74.1715995519,40.6411083845 L -74.1715811381,40.6410889482 L -74.1715732841,40.6410767477 L -74.171574272,40.6410660646 L -74.1715802447,40.6410458563 L -74.1715872192,40.6410295934 L -74.171600708,40.641015391 L -74.1717056689,40.6410102684 L -74.1719130762,40.6410064359 L -74.1719707814,40.640999817 L -74.1720231585,40.6409892157 L -74.1720897732,40.6409482619 L -74.1722577931,40.6408607617 L -74.1723321531,40.6408166529 L -74.1723921695,40.640787544 L -74.1724160191,40.6407718151 L -74.172440711,40.6407406605 L -74.1724607915,40.6407072987 L -74.1724794616,40.640692333 L -74.1725100621,40.6406768196 L -74.1725452306,40.6406668071 L -74.1726175742,40.6406546758 L -74.1727523314,40.6406388556 L -74.1727962479,40.640629634 L -74.1729038434,40.6405935848 L -74.1729389618,40.6405795527 L -74.1729666154,40.640563532 L -74.1729879888,40.6405436045 L -74.1729992382,40.6405233563 L -74.1730038838,40.6405076381 L -74.1729992642,40.6404981157 L -74.172987988,40.6404891051 L -74.1729799058,40.6404860672 L -74.1729675457,40.6404870157 L -74.1729591881,40.6404964347 L -74.172941232,40.6405131742 L -74.1729191436,40.6405313268 L -74.1728894996,40.6405540835 L -74.1728534884,40.6405795242 L -74.1727994132,40.6406063491 L -74.1727561144,40.6406166182 L -74.172713665,40.6406187767 L -74.1726278212,40.6406304799 L -74.1725570483,40.6406435893 L -74.1725012509,40.6406573777 L -74.1724611419,40.6406736207 L -74.1724373885,40.6406900739 L -74.1723726427,40.6407488069 L -74.1723079887,40.6408009495 L -74.1722154326,40.6408563282 L -74.1720620051,40.6409416134 L -74.1720244617,40.6409554654 L -74.1719924762,40.6409641358 L -74.1719367666,40.6409713335 L -74.1717762886,40.6409851025 L -74.1716934884,40.6409980344 L -74.1716231713,40.6409946485 L -74.1716010727,40.6409963432 L -74.1715849608,40.6410016015 L -74.1715699469,40.6410115321 L -74.1715590748,40.6410273605 L -74.1715539569,40.6410467738 L -74.1715474161,40.6410699535 L -74.1715491453,40.641090303 L -74.1715663401,40.6411295854 L -74.1715654522,40.6411483079 L -74.1715588563,40.6411601538 L -74.1715466942,40.6411698639 L -74.1715293446,40.641173022 L -74.1715117084,40.6411740096 L -74.1714932695,40.6411798122 L -74.1714558851,40.6412130376 L -74.1714420387,40.641253602 L -74.1714396572,40.6413591269 L -74.1714310172,40.6413736888 L -74.1714086451,40.6413969837 L -74.1713974413,40.6414139369 L -74.1713865186,40.6414227365 L -74.1713861468,40.6414797233 L -74.1714017616,40.6414994609 L -74.1713738235,40.6420850153 L -74.1713274014,40.6420850844 L -74.1711541245,40.6423991757 L -74.1711773464,40.6424035614 L -74.1710501724,40.6425938191 L -74.1709920875,40.6425718045 L -74.1712752445,40.6421116828 L -74.1712113011,40.6420675759 L -74.1711928154,40.6417405534 L -74.1309350041,40.6410684039 L -74.131563,40.640356 L -74.130431,40.639997 L -74.129523,40.639181 L -74.12867,40.637348 L -74.129001,40.634334 L -74.130166,40.632371 L -74.13061,40.63132 L -74.130247,40.629609 L -74.13131,40.626328 L -74.13333,40.626393 L -74.13473,40.625772 L -74.137227,40.624296 L -74.138266,40.624248 L -74.14128,40.624594 L -74.144025,40.624992 L -74.146119831,40.6249309171 L -74.145706,40.627176 L -74.145916,40.630968 L -74.145622,40.631421 L -74.145801,40.632194 L -74.144801,40.635581 L -74.14471,40.635797 L -74.144363,40.635959 L -74.143563,40.637957 L -74.143734,40.638187 L -74.1431365226,40.6396594867 L -74.1429372879,40.6396323164 L -74.142859747,40.6395693045 L -74.1425776934,40.6395341375 L -74.1423879515,40.6396412108 L -74.1423196971,40.639792267 L -74.142346607,40.6398995796 L -74.1423855831,40.6400550106 L -74.1424046384,40.6401982513 L -74.1423806146,40.6402524561 L -74.1422976698,40.6403058071 L -74.1421542003,40.6403432478 L -74.1420986416,40.6403280521 L -74.1420543148,40.6402967597 L -74.1415562297,40.6403667688 L -74.141480474,40.6400921943 L -74.1412862402,40.6401452752 L -74.1411922184,40.6403886751 L -74.1410243055,40.6405066688 L -74.1407625365,40.6405893969 L -74.1391832804,40.640854892 L -74.1376417952,40.6409926187 L -74.1374378576,40.6410546146 L -74.1373440153,40.6411483228 L -74.1373700175,40.6412954635 L -74.1345129639,40.6418553881 L -74.1343526957,40.6418867974 L -74.1343028119,40.6417537949 L -74.1334971977,40.6417169015 L -74.1334153923,40.6415471166 L -74.1329917239,40.6414169367 L -74.1324028358,40.641704389 L -74.1312558118,40.6415968308 L -74.1314619976,40.6413101041 L -74.1309350041,40.6410684039 L -74.186298,40.534095 L -74.18182,40.528342 L -74.18092,40.527455 L -74.180311,40.526089 L -74.179529,40.524854 L -74.179554,40.522875 L -74.1779522462,40.5195896721 L -74.1783187669,40.5199457856 L -74.1792438137,40.5199842167 L -74.1793913756,40.5202782789 L -74.1798101695,40.5205523377 L -74.1810408121,40.5207050363 L -74.1821287773,40.5204085822 L -74.1823355562,40.5203522381 L -74.1830832996,40.5199092297 L -74.1831481096,40.5198708323 L -74.1831899426,40.5198736999 L -74.1834237058,40.5198897246 L -74.1848311648,40.5193413586 L -74.1865673319,40.5181158504 L -74.1884935372,40.5163400246 L -74.1892687556,40.5153449769 L -74.1888461439,40.5151048449 L -74.1888429782,40.5150871663 L -74.1888580327,40.5150820197 L -74.1894948529,40.5153583096 L -74.189712185,40.5153203785 L -74.1917892268,40.5130516446 L -74.1934431835,40.5115673096 L -74.1940964374,40.5106412424 L -74.1952134,40.509977653 L -74.1960861749,40.5099409212 L -74.1964993699,40.5099235314 L -74.198608317,40.5111970231 L -74.1996720536,40.5114268505 L -74.1996747834,40.5114362031 L -74.1997444096,40.5116747465 L -74.199960032,40.5124134813 L -74.2000371231,40.5126775998 L -74.1997299188,40.5127051599 L -74.1997193136,40.5127061114 L -74.1989257279,40.512777306 L -74.1993612741,40.5130101944 L -74.2008289825,40.513030704 L -74.2068426334,40.5119684152 L -74.2069070528,40.5119570358 L -74.2075970173,40.5118351562 L -74.2086186569,40.5114482352 L -74.2094463769,40.5109443856 L -74.209687894,40.5107973693 L -74.2091899683,40.510499057 L -74.2093220046,40.5103986289 L -74.2097137421,40.5107777032 L -74.2098533813,40.5106719253 L -74.2101549009,40.5103638688 L -74.210085,40.51079 L -74.2104039195,40.511651994 L -74.2104345415,40.5117361677 L -74.2104400247,40.5117512393 L -74.2117846539,40.5154472782 L -74.212156,40.516468 L -74.213546,40.521235 L -74.213909,40.523015 L -74.219479,40.522147 L -74.225043,40.52054 L -74.22397,40.523383 L -74.22366,40.525543 L -74.22288,40.525567 L -74.2224540028,40.5257069219 L -74.2222488963,40.5257742907 L -74.222128,40.525814 L -74.221534,40.526263 L -74.221183,40.526922 L -74.2182951499,40.5277146822 L -74.21468,40.528707 L -74.214678,40.528597 L -74.21328,40.528818 L -74.20289,40.531712 L -74.20302,40.532206 L -74.19557,40.534304 L -74.193418,40.535127 L -74.191744,40.531917 L -74.189465,40.533092 L -74.186298,40.534095 L -74.0959992202,40.6453818409 L -74.09557,40.643423 L -74.09475,40.64077 L -74.094306,40.640156 L -74.09386,40.638025 L -74.09339,40.6366 L -74.092449,40.635619 L -74.09348,40.634944 L -74.095889,40.635644 L -74.096454,40.635334 L -74.097267,40.633998 L -74.099414,40.634106 L -74.10253,40.634663 L -74.114538,40.634763 L -74.12596,40.633859 L -74.125474,40.632637 L -74.1231690871,40.6292117483 L -74.123034,40.629011 L -74.121257,40.627823 L -74.122162,40.627477 L -74.13131,40.626328 L -74.130247,40.629609 L -74.13061,40.63132 L -74.130166,40.632371 L -74.129001,40.634334 L -74.12867,40.637348 L -74.129523,40.639181 L -74.130431,40.639997 L -74.131563,40.640356 L -74.1309350041,40.6410684039 L -74.1301837001,40.6407238261 L -74.1296778517,40.6413853126 L -74.1294905764,40.6413548352 L -74.1299774026,40.6407298729 L -74.1298775074,40.6406868185 L -74.1299208858,40.640628983 L -74.1293071319,40.6403374112 L -74.1292297726,40.6404843724 L -74.1289330121,40.6404139295 L -74.1289949631,40.6411893132 L -74.1289072903,40.6411948276 L -74.1288120185,40.6402269775 L -74.1281321492,40.6402499994 L -74.1281090049,40.6401396743 L -74.1275267724,40.6401553047 L -74.1273956855,40.6399747222 L -74.1273911938,40.639829799 L -74.1273477032,40.6398014864 L -74.1272448184,40.6397668909 L -74.1271477456,40.6393110569 L -74.1270273602,40.639319079 L -74.1270985553,40.6396270414 L -74.1271244301,40.6398631838 L -74.1270815607,40.6401610292 L -74.1270536221,40.6402417376 L -74.1265152929,40.6403717529 L -74.1264482392,40.6403779942 L -74.1263463338,40.6403763018 L -74.1262752004,40.6403547169 L -74.1261922059,40.6403277307 L -74.1260698286,40.6402544737 L -74.1261999629,40.6412643143 L -74.1263418044,40.6412527842 L -74.1263680869,40.6413323805 L -74.1256402687,40.6414184921 L -74.1256326581,40.6413417182 L -74.1261327655,40.641264388 L -74.1259954242,40.6402312426 L -74.1258081254,40.6401798479 L -74.1256981163,40.6401559332 L -74.1254624989,40.64015484 L -74.1253309403,40.6401820251 L -74.12508374,40.6402106855 L -74.124877699,40.6402402499 L -74.1246972888,40.6402393511 L -74.1241557845,40.6401347166 L -74.1235440461,40.6404055351 L -74.123540398,40.640451039 L -74.1235479371,40.6404908434 L -74.123514397,40.6405221612 L -74.12340727,40.6405889576 L -74.1228563056,40.6408205083 L -74.1227797698,40.6407705498 L -74.1226517406,40.6406267656 L -74.122603636,40.6405970739 L -74.1225728048,40.6406223401 L -74.1227968836,40.6409005198 L -74.1228795964,40.6409563676 L -74.122907249,40.6410192666 L -74.1229058179,40.6410728728 L -74.1228569841,40.6411381839 L -74.1228662546,40.6411882834 L -74.1228586834,40.6412302434 L -74.1228239765,40.6412947381 L -74.1227944519,40.6413315058 L -74.1227815318,40.6413392291 L -74.1227211445,40.6413476235 L -74.1227256087,40.6413748591 L -74.1227457037,40.6413730711 L -74.1227620351,40.6414266353 L -74.1227110308,40.6414337553 L -74.1226954679,40.6413772457 L -74.122703196,40.6413766489 L -74.1226955589,40.6413530267 L -74.1219585006,40.6414469831 L -74.1219412972,40.6414419081 L -74.1219020586,40.6414012023 L -74.12184147,40.6414058948 L -74.1218439075,40.641465296 L -74.121865618,40.6415559498 L -74.12194831,40.6415464404 L -74.1219428261,40.6415064085 L -74.1219814638,40.6415010668 L -74.1219908381,40.6415546395 L -74.1218718277,40.6415700744 L -74.1218741619,40.6415783157 L -74.121853296,40.6415806923 L -74.1218455081,40.6415489055 L -74.1218339181,40.6415518612 L -74.1218066108,40.6414121591 L -74.121757647,40.6414234245 L -74.1217875486,40.6415566216 L -74.121771322,40.6415595822 L -74.121779112,40.6415925471 L -74.1217644293,40.6415949188 L -74.1217597788,40.6415878575 L -74.1215588656,40.6416216323 L -74.1215534361,40.6416116283 L -74.121760526,40.6415743151 L -74.1217237532,40.6414286644 L -74.1214475337,40.6415027381 L -74.1213869069,40.6414853321 L -74.1213261711,40.6416065692 L -74.1213052908,40.6416007031 L -74.1213733294,40.6414764752 L -74.1213119483,40.6414525313 L -74.1211948896,40.6416750101 L -74.1211724628,40.6416691456 L -74.1212807479,40.641432496 L -74.1212147025,40.64139684 L -74.1211012474,40.6416132823 L -74.1210772741,40.6416074206 L -74.1211803951,40.6413834454 L -74.1208402316,40.6411376064 L -74.1207131759,40.6410457822 L -74.1199348009,40.6411976044 L -74.1199711121,40.6413148146 L -74.1196071675,40.6413803094 L -74.1199569988,40.6422094534 L -74.1198544394,40.6422356139 L -74.1195298611,40.6414699143 L -74.119465613,40.6414788742 L -74.1194263129,40.6414235247 L -74.1190972049,40.6414734665 L -74.1194808716,40.6423551017 L -74.1194002953,40.6423793785 L -74.119003482,40.6414646145 L -74.1186163524,40.641530365 L -74.1186048615,40.6415632512 L -74.118688341,40.6417976436 L -74.118651716,40.6418088466 L -74.1188750593,40.642387366 L -74.1188994831,40.6423836187 L -74.118960774,40.642504516 L -74.1188362462,40.6425418641 L -74.1186447972,40.6420396091 L -74.1185836462,40.6419968717 L -74.1184018508,40.6415298005 L -74.1181553652,40.6415936843 L -74.1182083155,40.6417502354 L -74.1180076709,40.6418054975 L -74.1181563574,40.6421312983 L -74.1180489116,40.642157461 L -74.1179172868,40.641825877 L -74.1178553485,40.6418375795 L -74.117801503,40.6418094693 L -74.1177347839,40.6417966985 L -74.1176284161,40.6416215829 L -74.117456896,40.6416448018 L -74.1173028283,40.6416092495 L -74.1172881448,40.6415943772 L -74.1171709328,40.641624271 L -74.117112357,40.6416559671 L -74.1175070252,40.6424204084 L -74.1174191249,40.6424484122 L -74.117137064,40.6418980646 L -74.1167218766,40.6420317561 L -74.1172247008,40.64302736 L -74.1171490053,40.6430497687 L -74.1167396726,40.6422816203 L -74.1166660765,40.6421067663 L -74.1166099195,40.6421254324 L -74.1165997592,40.642109983 L -74.1163000008,40.6422026651 L -74.1163316698,40.6422708668 L -74.1163048137,40.6422801988 L -74.1167534287,40.6431618267 L -74.1166704138,40.6431898249 L -74.1162462971,40.6423472516 L -74.1162194379,40.6423547233 L -74.1161420864,40.6422164542 L -74.1157191704,40.6423518192 L -74.1162269191,40.6433071059 L -74.1161484301,40.6433311126 L -74.1156482343,40.6423746833 L -74.1153508218,40.6424705402 L -74.1151171475,40.6427849927 L -74.1148073507,40.6429769681 L -74.1147807643,40.6429576159 L -74.1137966609,40.6436095158 L -74.1140405315,40.6440425021 L -74.1139509407,40.6441365917 L -74.1128880651,40.6445324446 L -74.1128296089,40.6444624287 L -74.1137915289,40.6440752218 L -74.1138049365,40.6440427355 L -74.1138520521,40.6440409806 L -74.1138901082,40.6439896691 L -74.1138159033,40.6438957413 L -74.1137665322,40.6438906635 L -74.113690301,40.6439232119 L -74.1136386769,40.6439130084 L -74.1135445086,40.6439541201 L -74.1133302319,40.6437234976 L -74.1118079914,40.6446106745 L -74.1119033369,40.6447060272 L -74.1111612947,40.6450964232 L -74.1111163367,40.6450469023 L -74.1117664665,40.6447061603 L -74.1117253,40.6446593617 L -74.11101111,40.6450530953 L -74.1097393256,40.6454637282 L -74.108864899,40.6455791288 L -74.104722216,40.6455636574 L -74.1046457778,40.6456304703 L -74.1043961356,40.6456699411 L -74.1043405874,40.6457211664 L -74.104123563,40.6457404322 L -74.1040223722,40.6456380521 L -74.1039864479,40.6456227028 L -74.1039146325,40.6456142221 L -74.1037642882,40.6456092312 L -74.1037283985,40.6456160997 L -74.1036992614,40.645636635 L -74.103650488,40.6456548133 L -74.1030729668,40.6456381494 L -74.1023167934,40.6455426002 L -74.1016826444,40.645406733 L -74.1016785523,40.6454157604 L -74.1016648035,40.6454153833 L -74.1016294176,40.6454889589 L -74.1017082678,40.6455186317 L -74.1016990659,40.6455364853 L -74.1016251896,40.6455095129 L -74.1016182895,40.6455265389 L -74.1015783397,40.6455144213 L -74.1016442031,40.6454078303 L -74.1016378287,40.6454055984 L -74.1016426644,40.6453965489 L -74.1006054201,40.6451323333 L -74.1001000736,40.6450594161 L -74.0995195282,40.6450538842 L -74.0988006689,40.6450470343 L -74.0984998163,40.645370362 L -74.0960455528,40.6453727474 L -74.0959992202,40.6453818409 L -74.1241129858,40.5758050142 L -74.1240636327,40.5758004435 L -74.1232059858,40.5757210142 L -74.1231192662,40.5756781167 L -74.1230479858,40.5756690142 L -74.1217989858,40.5750250142 L -74.1218889716,40.5741590284 L -74.1214229858,40.5729460142 L -74.1213149858,40.5720780142 L -74.1220131306,40.5711553245 L -74.1226893397,40.5705605142 L -74.1245419891,40.5692093695 L -74.1249172172,40.568963435 L -74.127144,40.567579 L -74.13047,40.564972 L -74.1313709433,40.5647883935 L -74.1315153784,40.5647159014 L -74.13156,40.564692 L -74.1318263037,40.5643815501 L -74.1318523611,40.564350827 L -74.1326135331,40.5634533624 L -74.1347679858,40.5645140142 L -74.1346169858,40.5652470142 L -74.1389289858,40.5672640142 L -74.1413037734,40.56837759 L -74.1404631851,40.5695370221 L -74.1419704469,40.5702036956 L -74.1418834895,40.5704645678 L -74.1419994327,40.57072544 L -74.1415356598,40.5707834116 L -74.1418834895,40.5722327018 L -74.1331587628,40.5734790913 L -74.1259344519,40.5757701193 L -74.1256509858,40.5758600142 L -74.1241129858,40.5758050142 L -74.0628153434,40.615670935 L -74.07415,40.610014 L -74.07497,40.609513 L -74.075769,40.608742 L -74.07609,40.608188 L -74.0761380543,40.6079818243 L -74.076254,40.607743 L -74.076443,40.606774 L -74.077538,40.606886 L -74.0783391569,40.6068768474 L -74.079995081,40.606503139 L -74.0813229186,40.606588434 L -74.0812996272,40.6066193089 L -74.081297,40.606619 L -74.079429,40.609099 L -74.077557,40.612137 L -74.0774,40.612084 L -74.076156,40.613572 L -74.0757843853,40.6138256112 L -74.075592,40.614033 L -74.073454,40.615416 L -74.068656,40.617517 L -74.0666673622,40.6190208528 L -74.066493353,40.6188976016 L -74.0659606527,40.6193590156 L -74.0659100323,40.6193158004 L -74.0664098895,40.6188644676 L -74.0661990795,40.6187224813 L -74.0655728084,40.6192745436 L -74.0654458607,40.6192026283 L -74.0666820798,40.6180674959 L -74.0664155872,40.6178724982 L -74.0660499154,40.6181954104 L -74.0656986474,40.6179564156 L -74.0654654995,40.6181070703 L -74.0650105734,40.6178047501 L -74.0649618928,40.6177723996 L -74.0647623171,40.6179286523 L -74.0643570516,40.6182459449 L -74.0642622987,40.618175467 L -74.0642572175,40.6181716876 L -74.0642751585,40.6181576068 L -74.0643332456,40.6181120177 L -74.0650990841,40.6175109561 L -74.0650275385,40.617462514 L -74.0644366201,40.6170624146 L -74.064012117,40.6174022266 L -74.0639089224,40.6173288251 L -74.0643274586,40.616988503 L -74.0643235496,40.6169871929 L -74.0641981287,40.6169009346 L -74.0639106023,40.6168676138 L -74.0638681679,40.616857711 L -74.0638284392,40.6168426391 L -74.0637924921,40.6168228065 L -74.0637612998,40.61679875 L -74.0637357071,40.6167711211 L -74.063730279,40.6167283699 L -74.0637337263,40.6166854995 L -74.0637459634,40.6166435732 L -74.0637666868,40.6166036308 L -74.063559545,40.6164443669 L -74.0628153434,40.615670935 L -74.19769,40.558887 L -74.1924169382,40.5537544772 L -74.1905683942,40.552002318 L -74.1893180262,40.5511334962 L -74.1885761783,40.5507141156 L -74.187573,40.550147 L -74.188588,40.548944 L -74.1902898242,40.5477650568 L -74.19153,40.546908 L -74.195862,40.544318 L -74.197308,40.543262 L -74.20024,40.542847 L -74.2045,40.541962 L -74.212813,40.541322 L -74.21579,40.54131 L -74.22104,40.540748 L -74.223956,40.540778 L -74.22188,40.54628 L -74.220544,40.548324 L -74.221315,40.550253 L -74.21777,40.553245 L -74.21784,40.554432 L -74.217209,40.554715 L -74.217537232,40.5550733701 L -74.2174509008,40.5551005584 L -74.2160424606,40.5555441188 L -74.2151150068,40.5560415451 L -74.214740532,40.5562423891 L -74.2147664998,40.5562993185 L -74.2149925696,40.5567949328 L -74.2148567455,40.5568385057 L -74.2146234048,40.5569133622 L -74.2142269885,40.5565573179 L -74.2141020579,40.5566032388 L -74.2139553745,40.5566571553 L -74.2137646732,40.5563969433 L -74.2132745729,40.5566249343 L -74.2131412972,40.5570435027 L -74.212643438,40.5572897276 L -74.2126730267,40.55764756 L -74.2123665644,40.5579453391 L -74.2118224833,40.5572470764 L -74.2115850431,40.5571689761 L -74.2112869657,40.55721884 L -74.210456838,40.5575751338 L -74.207872703,40.5581111526 L -74.206133306,40.5582028737 L -74.205696,40.558516 L -74.2047802339,40.5589229315 L -74.2019375504,40.5595072701 L -74.20089,40.56001 L -74.199907,40.560854 L -74.19938,40.560408 L -74.19769,40.558887 L -74.0568491973,40.6080387336 L -74.057787,40.60745 L -74.060379,40.606277 L -74.057496,40.602363 L -74.059556,40.601925 L -74.064638,40.600183 L -74.0665028883,40.6033363768 L -74.0733386104,40.6060978968 L -74.076443,40.606774 L -74.076254,40.607743 L -74.0761380543,40.6079818243 L -74.07609,40.608188 L -74.075769,40.608742 L -74.07497,40.609513 L -74.07415,40.610014 L -74.0628153434,40.615670935 L -74.0618326375,40.6147873106 L -74.0613070955,40.6141922508 L -74.0609581079,40.6133684631 L -74.0608085317,40.6130317338 L -74.0607377938,40.6130466771 L -74.0606494059,40.6128078509 L -74.0606742615,40.6125779981 L -74.0606123893,40.6123056767 L -74.0605035922,40.6121005541 L -74.0603368079,40.6119018802 L -74.0600902769,40.6120145679 L -74.0600796732,40.6119982414 L -74.0600045732,40.6120331955 L -74.0600085045,40.6120383806 L -74.0598544433,40.6121029586 L -74.0600473682,40.6127215941 L -74.0600044761,40.612726585 L -74.0600162512,40.6127636879 L -74.060197728,40.6127863759 L -74.060195941,40.6128017746 L -74.0599991971,40.6127838996 L -74.0597693074,40.6120566471 L -74.0600343233,40.6119427346 L -74.0600204844,40.6119285742 L -74.0602722481,40.6118196399 L -74.060077549,40.6118301798 L -74.0599011043,40.6117491731 L -74.0595330675,40.6117142551 L -74.0594513277,40.6116738075 L -74.0592707622,40.6114931325 L -74.0589216346,40.6110560554 L -74.0589013342,40.6110022865 L -74.0589274475,40.6109383775 L -74.0591233394,40.6108222891 L -74.0591088202,40.6107492555 L -74.0590858431,40.6106336773 L -74.0587605773,40.6103136763 L -74.0571638388,40.6087427831 L -74.0568491973,40.6080387336 L -74.08942,40.620307 L -74.090224,40.619409 L -74.09105,40.619718 L -74.0939,40.620255 L -74.094263,40.620108 L -74.094624,40.619654 L -74.097702,40.618809 L -74.099685,40.619653 L -74.102549,40.616853 L -74.103511,40.616414 L -74.1058,40.618829 L -74.1077220337,40.6196767012 L -74.110015,40.620688 L -74.1099161537,40.6207222387 L -74.10682,40.621794 L -74.104453,40.622913 L -74.102285,40.623245 L -74.101802,40.623147 L -74.10203,40.623796 L -74.100064,40.624173 L -74.100844,40.628444 L -74.099022,40.628684 L -74.099257,40.629933 L -74.098177,40.630007 L -74.098421,40.631598 L -74.097155,40.631898 L -74.0889,40.630292 L -74.088077,40.631081 L -74.086823,40.630318 L -74.08851,40.628913 L -74.08872,40.625899 L -74.0885098343,40.623661201 L -74.0885264904,40.6233532543 L -74.0885968436,40.6220525254 L -74.088675,40.621031 L -74.08942,40.620307 L -74.085875,40.59589 L -74.083752,40.595491 L -74.08241,40.593207 L -74.08024,40.590067 L -74.0704848376,40.5850794429 L -74.0694160919,40.5846512953 L -74.0694200199,40.5846475646 L -74.0709631018,40.5831819904 L -74.071448376,40.582434068 L -74.0714918052,40.5821687827 L -74.0713496009,40.5820929208 L -74.0705953373,40.5816905434 L -74.0706578154,40.581625625 L -74.0714667093,40.5820272439 L -74.0716429662,40.5819414654 L -74.0717763843,40.5818765352 L -74.0719773611,40.5817116452 L -74.073723461,40.5803692092 L -74.0748926415,40.5793174362 L -74.0749941307,40.5792365574 L -74.074929091,40.5791712603 L -74.0748231878,40.579098933 L -74.0747015774,40.5790621241 L -74.0746614231,40.5790543951 L -74.0746236181,40.5790415 L -74.0746002866,40.5790302179 L -74.0745893011,40.5790238248 L -74.0745788171,40.5790169597 L -74.0745594944,40.5790019021 L -74.0745043275,40.5789452407 L -74.0744395771,40.5788948172 L -74.0743621514,40.5788565884 L -74.0743111022,40.5788401454 L -74.0742606642,40.5788299679 L -74.074216809,40.5788199311 L -74.0741756966,40.5788045582 L -74.0741503642,40.5787915466 L -74.0741380861,40.5787836 L -74.0741042013,40.5787573652 L -74.0740842862,40.578738054 L -74.0740322085,40.5786848296 L -74.0739390341,40.5786305881 L -74.0738632636,40.5786033869 L -74.0738226158,40.5785931201 L -74.0737599335,40.5785824989 L -74.0737212143,40.5785655131 L -74.0736976967,40.5785515583 L -74.0736763585,40.5785356965 L -74.0736574647,40.5785181249 L -74.073603107,40.5784638488 L -74.0735628721,40.5784340936 L -74.073505913,40.5784017518 L -74.0734523503,40.578381464 L -74.0734082682,40.5784253179 L -74.0733823557,40.5784564194 L -74.0733722357,40.5784616761 L -74.0733606957,40.5784647971 L -74.0733484931,40.5784655779 L -74.0733364324,40.5784639639 L -74.0733307032,40.5784622889 L -74.073320325,40.5784573335 L -74.073311942,40.5784505284 L -74.073306104,40.5784423202 L -74.0733031991,40.5784332495 L -74.073303414,40.5784239153 L -74.073304695,40.5784193401 L -74.0733142035,40.5784045921 L -74.0733246345,40.5783902104 L -74.0733481591,40.578362682 L -74.0733400791,40.578321037 L -74.0733408134,40.5783086755 L -74.0733446948,40.5782966623 L -74.0733515726,40.5782854564 L -74.0733611847,40.5782754883 L -74.0733731619,40.5782671397 L -74.0733798956,40.5782636781 L -74.0733945333,40.5782583383 L -74.0734262483,40.5782537583 L -74.0734417752,40.5782503866 L -74.0734596099,40.5782328969 L -74.0734971064,40.5781990503 L -74.0735085233,40.5781947776 L -74.0735146684,40.5781934929 L -74.073527349,40.5781927305 L -74.0735398771,40.578194399 L -74.0735514666,40.578198393 L -74.0735566781,40.5782011887 L -74.0735655198,40.5782081594 L -74.0735718093,40.5782165884 L -74.0735751468,40.5782259467 L -74.0735753216,40.5782356433 L -74.0735561953,40.5782636032 L -74.0735343346,40.578290373 L -74.0734966968,40.5783279597 L -74.0750828819,40.5791601588 L -74.0757981954,40.5783092507 L -74.0752345362,40.5779988033 L -74.0753462258,40.5778879696 L -74.0760159698,40.5782449123 L -74.076031,40.578301 L -74.1009310554,40.5910331461 L -74.10098,40.591832 L -74.10083,40.592632 L -74.10041,40.593343 L -74.099796,40.593871 L -74.09722,40.595365 L -74.094276,40.596449 L -74.093364,40.597033 L -74.090292,40.596196 L -74.085875,40.59589 L -74.0725822579,40.6379467649 L -74.07684,40.63775 L -74.078132,40.638172 L -74.07879,40.638269 L -74.08178,40.636623 L -74.0825607831,40.6362689704 L -74.083734,40.635737 L -74.085879,40.636692 L -74.087279,40.637812 L -74.087542,40.638449 L -74.08652,40.642564 L -74.08652,40.643897 L -74.0892,40.647032 L -74.089554,40.647221 L -74.0895587192,40.647257705 L -74.0894035156,40.6473057767 L -74.0876744268,40.6482352936 L -74.0863731175,40.6486622039 L -74.0857075438,40.6488805534 L -74.0848440322,40.6488911473 L -74.0822127291,40.6482801623 L -74.081422282,40.6485047259 L -74.0807283876,40.6482748738 L -74.0798099643,40.648383313 L -74.0789954633,40.6481425544 L -74.0765065715,40.6469688182 L -74.0756271956,40.6462112838 L -74.0744528256,40.6450674887 L -74.0740781209,40.6450843289 L -74.0739583998,40.6451932054 L -74.0735910792,40.644998928 L -74.0734985137,40.6450833735 L -74.073758613,40.6453133523 L -74.0738008832,40.6452857071 L -74.0738291123,40.6453117721 L -74.0737788034,40.6453562985 L -74.0738565368,40.6454248161 L -74.0733381386,40.6457831162 L -74.0732453946,40.6457049253 L -74.0734869413,40.6455498077 L -74.0734183875,40.6454884792 L -74.0736901181,40.6453057251 L -74.0734642982,40.6451079436 L -74.0733332876,40.6450343807 L -74.0733493882,40.6450220963 L -74.0732385381,40.6449638639 L -74.0730574497,40.6451450274 L -74.0730252051,40.6451312383 L -74.0732022595,40.6449439412 L -74.0730124003,40.6448386797 L -74.0730555988,40.6448079178 L -74.0734138383,40.6450159185 L -74.0734259075,40.6450005685 L -74.073272729,40.64491628 L -74.0733451713,40.6448502579 L -74.0731218418,40.6447147995 L -74.0729258504,40.644864074 L -74.0728796413,40.6448441794 L -74.0727985034,40.6449101238 L -74.0725877555,40.6447908632 L -74.0727030827,40.6446455956 L -74.0726922655,40.6446373703 L -74.0725961713,40.6447354725 L -74.0725646823,40.6447197489 L -74.072612328,40.6446752906 L -74.0725993493,40.6446670649 L -74.0725726394,40.6446938034 L -74.0725258752,40.64467004 L -74.0725755172,40.6446176854 L -74.0726274241,40.6446439976 L -74.0726166244,40.6446505892 L -74.0726231122,40.6446538788 L -74.0726663077,40.6446209207 L -74.0725538388,40.6445600723 L -74.0725430349,40.6445633712 L -74.0725322203,40.6445567922 L -74.0725862304,40.6445304142 L -74.0725992077,40.6445369924 L -74.072584087,40.6445468805 L -74.0727246715,40.6446208838 L -74.0727904222,40.6445520183 L -74.07274586,40.6445240311 L -74.0727826061,40.64449184 L -74.072698288,40.6444412735 L -74.0723310089,40.6445998732 L -74.0717067165,40.6450226498 L -74.0717164118,40.6450318657 L -74.0716873738,40.6450503282 L -74.0716582976,40.6450337464 L -74.0716824805,40.6450042194 L -74.0716873341,40.6450134395 L -74.0723091905,40.6445777541 L -74.0722558844,40.6445464311 L -74.0721614838,40.6445815348 L -74.0720184321,40.6444119329 L -74.0721128181,40.6443639174 L -74.0720982619,40.6443381042 L -74.0722919028,40.6442660478 L -74.072184886,40.6441104654 L -74.0719770185,40.6441813991 L -74.0719624776,40.6441703417 L -74.0718608087,40.6442017618 L -74.0717564809,40.6440118455 L -74.071870251,40.643974885 L -74.071862968,40.6439582897 L -74.0719380006,40.6439268858 L -74.0719476958,40.6439361022 L -74.0720581751,40.6439004277 L -74.0720008016,40.643781133 L -74.0717925924,40.6438163086 L -74.0717707521,40.6437720548 L -74.0716496941,40.6437868857 L -74.0715889166,40.6435913154 L -74.0716278763,40.6435783412 L -74.071596792,40.6434601575 L -74.0713561218,40.6434973046 L -74.0713410942,40.6434562255 L -74.0714909006,40.6434287406 L -74.0714728471,40.6433602727 L -74.0715020641,40.643354866 L -74.0714820243,40.6432926251 L -74.0712534144,40.6433309497 L -74.0712577512,40.6433441198 L -74.0709832823,40.643388744 L -74.0709724481,40.6433640532 L -74.0709508352,40.643365714 L -74.0709378447,40.6433459638 L -74.0709680946,40.6433344199 L -74.0709594217,40.643309727 L -74.0712576598,40.6432585017 L -74.0712728314,40.6432963611 L -74.0714433171,40.6432705613 L -74.0714165972,40.6431931096 L -74.0713048729,40.6432120038 L -74.0713078799,40.6432211327 L -74.0711430929,40.6432509097 L -74.0711310572,40.6432052637 L -74.0715026315,40.6431293042 L -74.0714777732,40.6428082938 L -74.071645409,40.6428003597 L -74.071648922,40.6426799317 L -74.0717028612,40.6426798981 L -74.0717035197,40.6427963353 L -74.0721843497,40.6427140933 L -74.0721095244,40.6424632168 L -74.0703743099,40.6426914031 L -74.0703292372,40.6425261281 L -74.0732382918,40.6421847361 L -74.0731440059,40.6418529745 L -74.070246587,40.6422069743 L -74.0701939956,40.6420075028 L -74.0730868982,40.641636815 L -74.0728900561,40.6409226729 L -74.0719628096,40.6409955798 L -74.0719817687,40.6410124012 L -74.0718050037,40.6410293438 L -74.0718114182,40.6411231242 L -74.0700184915,40.6412781322 L -74.0699835465,40.6410689431 L -74.0717764807,40.6409259595 L -74.0717766573,40.6409203595 L -74.0717780435,40.6409148584 L -74.0717806014,40.6409096067 L -74.0717842608,40.640904748 L -74.0717889218,40.6409004154 L -74.0717944566,40.6408967275 L -74.0718007139,40.6408937851 L -74.0718075224,40.6408916688 L -74.0718146957,40.6408904365 L -74.0718220376,40.6408901219 L -74.0718293472,40.6408907337 L -74.0718364242,40.640892255 L -74.0718364346,40.6409018738 L -74.0728504119,40.6408036884 L -74.0728073845,40.640642888 L -74.0727769001,40.6405289631 L -74.0730772584,40.6405133118 L -74.0730903558,40.6386189997 L -74.0730326596,40.6385906103 L -74.0729293338,40.6385926498 L -74.0729260114,40.6384411546 L -74.0730161803,40.6384266339 L -74.0730144456,40.6384093846 L -74.0729319987,40.6384144884 L -74.0729227839,40.6383762298 L -74.0727933689,40.6383859306 L -74.0727207646,40.6383859765 L -74.0726702464,40.6383763896 L -74.0726133813,40.6383355452 L -74.0725880905,40.6383018942 L -74.0725817301,40.638258614 L -74.0726093387,40.6382268953 L -74.0723885295,40.638245266 L -74.0723794113,40.6381627261 L -74.072606328,40.6381363083 L -74.0725822579,40.6379467649 L -74.0725822579,40.6379467649 L -74.0725727521,40.6378719099 L -74.073483538,40.6377873579 L -74.0734563616,40.6376539457 L -74.0735344759,40.6376417226 L -74.073487373,40.6372335292 L -74.0705395971,40.6374714046 L -74.0704941221,40.6371618868 L -74.0705271983,40.6371320587 L -74.0734156263,40.636893951 L -74.0733734289,40.6366107256 L -74.0732402072,40.6366189198 L -74.0732385788,40.6366327974 L -74.0725102522,40.6366928747 L -74.0725042147,40.6366768286 L -74.0723958663,40.6366837747 L -74.0723958812,40.6366975322 L -74.0721039516,40.636725231 L -74.0720948381,40.6366472776 L -74.0724108425,40.6366172712 L -74.0724108549,40.6366287362 L -74.07250717,40.6366263814 L -74.0725041424,40.6366103329 L -74.0728231571,40.6365803234 L -74.0728291972,40.6365986625 L -74.072901424,40.6365894458 L -74.0729014065,40.6365733954 L -74.073223434,40.6365456754 L -74.0732311601,40.6365664255 L -74.073316049,40.6365587634 L -74.0733582205,40.6365360942 L -74.073116033,40.6352155695 L -74.0728318441,40.6336660328 L -74.0733282132,40.632058443 L -74.0729847461,40.630308979 L -74.0680217354,40.6287875852 L -74.0681301925,40.6285390461 L -74.0729117794,40.6299963794 L -74.0728382045,40.6296585589 L -74.0722922308,40.6271517077 L -74.072783822,40.6270485552 L -74.0727663962,40.6269681568 L -74.074152,40.626816 L -74.073976,40.626114 L -74.07524,40.626006 L -74.075031,40.625603 L -74.077413,40.625288 L -74.0853303767,40.622770929 L -74.084962,40.624625 L -74.084154,40.626267 L -74.083577,40.627927 L -74.08303,40.628725 L -74.07936,40.632225 L -74.078303,40.635287 L -74.077982,40.637864 L -74.0780884744,40.6380826274 L -74.078132,40.638172 L -74.07684,40.63775 L -74.0725822579,40.6379467649 L -74.09818,40.610742 L -74.09427,40.610806 L -74.090109,40.609403 L -74.0924,40.607072 L -74.09268,40.605912 L -74.092609,40.60323 L -74.092837,40.601089 L -74.091779,40.599239 L -74.09178,40.598719 L -74.09272,40.597464 L -74.093364,40.597033 L -74.094276,40.596449 L -74.09722,40.595365 L -74.099796,40.593871 L -74.10041,40.593343 L -74.10083,40.592632 L -74.10098,40.591832 L -74.1009310554,40.5910331461 L -74.100883,40.590179 L -74.1018638453,40.5889997314 L -74.102079,40.588741 L -74.104549035,40.5865 L -74.1079738332,40.5837151194 L -74.109248,40.582679 L -74.111276,40.581792 L -74.112987,40.580819 L -74.1142353419,40.5797382624 L -74.1148263419,40.5791812624 L -74.115423,40.578631 L -74.117021,40.578197 L -74.117587,40.577581 L -74.118289,40.578192 L -74.118891,40.580478 L -74.119212,40.581166 L -74.1192268009,40.5815637733 L -74.120364,40.582379 L -74.120973,40.583206 L -74.12311,40.585104 L -74.1202029858,40.5881580284 L -74.1205869858,40.5884470284 L -74.116477,40.594595 L -74.1159539858,40.5957610284 L -74.1154289858,40.5961070284 L -74.114138,40.596547 L -74.113251,40.596103 L -74.11131,40.597057 L -74.1113309858,40.5981500284 L -74.114871,40.602137 L -74.11538,40.603984 L -74.115791,40.606862 L -74.116563,40.609404 L -74.1167562833,40.6108137178 L -74.11438,40.611193 L -74.11125,40.610759 L -74.10998,40.610456 L -74.109783,40.610254 L -74.10667,40.610418 L -74.10535,40.610215 L -74.097658,40.610503 L -74.09818,40.610742 L -74.078132,40.638172 L -74.0780884744,40.6380826274 L -74.077982,40.637864 L -74.078303,40.635287 L -74.07936,40.632225 L -74.08303,40.628725 L -74.083577,40.627927 L -74.084154,40.626267 L -74.084962,40.624625 L -74.0853303767,40.622770929 L -74.085899,40.619909 L -74.086391,40.619998 L -74.086488,40.620449 L -74.087071,40.62008 L -74.087011,40.620501 L -74.087745,40.620114 L -74.088028,40.620243 L -74.087627,40.619543 L -74.088208,40.61963 L -74.0893850919,40.6202874434 L -74.08942,40.620307 L -74.088675,40.621031 L -74.0885968436,40.6220525254 L -74.0885264904,40.6233532543 L -74.0885098343,40.623661201 L -74.08872,40.625899 L -74.08851,40.628913 L -74.086823,40.630318 L -74.088077,40.631081 L -74.0889,40.630292 L -74.097155,40.631898 L -74.097267,40.633998 L -74.096454,40.635334 L -74.095889,40.635644 L -74.09348,40.634944 L -74.092449,40.635619 L -74.088917,40.636528 L -74.08813,40.637626 L -74.087279,40.637812 L -74.085879,40.636692 L -74.083734,40.635737 L -74.0825607831,40.6362689704 L -74.08178,40.636623 L -74.07879,40.638269 L -74.078132,40.638172 L -74.235112,40.520917 L -74.233537,40.52064 L -74.231597,40.520879 L -74.229299,40.519984 L -74.22691,40.519172 L -74.226634,40.517251 L -74.222903,40.508936 L -74.223215,40.508659 L -74.213735,40.51041 L -74.211813,40.51103 L -74.210435,40.511736 L -74.2104345415,40.5117361677 L -74.2104039195,40.511651994 L -74.210085,40.51079 L -74.2101549009,40.5103638688 L -74.2105194964,40.5099913689 L -74.2116546706,40.5083692694 L -74.211791832,40.5081732735 L -74.2119153046,40.5080640039 L -74.2133816997,40.5067662882 L -74.213531308,40.5063974772 L -74.2138553385,40.5066070247 L -74.2143425013,40.5065189113 L -74.2151081586,40.5060597557 L -74.2159124205,40.5053710884 L -74.2175824016,40.5033413927 L -74.2179457026,40.5033600902 L -74.2197701642,40.5027426885 L -74.2230465785,40.5024781791 L -74.225002322,40.5017702951 L -74.2272941351,40.5022974995 L -74.2297158424,40.5020856876 L -74.230338925,40.5018041784 L -74.2305540178,40.5019468547 L -74.2312444324,40.5018268603 L -74.2335990412,40.5009125316 L -74.2352649595,40.5006060286 L -74.2363513066,40.5001255811 L -74.2364278402,40.5000774125 L -74.2364725699,40.5001130393 L -74.2367884562,40.5000008353 L -74.2376886264,40.4991727563 L -74.2376677036,40.4991232549 L -74.2377480525,40.4991008454 L -74.2377714601,40.4991803514 L -74.2379873738,40.4991659808 L -74.2385132164,40.4988960764 L -74.2398485124,40.4975830132 L -74.2443279825,40.4975467402 L -74.2454893898,40.4970447739 L -74.2467610277,40.4961339876 L -74.2479155295,40.4961850825 L -74.2480274742,40.4961900369 L -74.2481352521,40.4962255762 L -74.2491715687,40.4965672971 L -74.2508548942,40.4980061636 L -74.2511677325,40.4989930907 L -74.2521004657,40.4994164305 L -74.2525998274,40.4996430759 L -74.2531612449,40.5001253765 L -74.2538459062,40.5016356693 L -74.2540881999,40.5019330464 L -74.2542581064,40.5021415797 L -74.2542740766,40.5021611805 L -74.2553096977,40.5041364107 L -74.2553088096,40.5049580786 L -74.2553071038,40.5065364541 L -74.2555913632,40.5077129507 L -74.2554527294,40.5080327763 L -74.2552481775,40.5082432307 L -74.2550429372,40.5083974074 L -74.2548988821,40.5084336858 L -74.2546285671,40.5086748257 L -74.2547027248,40.5087160631 L -74.2549018718,40.5087643834 L -74.2549041226,40.5087563679 L -74.2549813001,40.5087711728 L -74.2549729037,40.5088056621 L -74.2548963651,40.5087865843 L -74.2548996178,40.5087768055 L -74.2547152382,40.5087360907 L -74.2546841499,40.5087241175 L -74.2546185073,40.5086839093 L -74.2544871166,40.5088043748 L -74.2543454322,40.5087916527 L -74.2541200084,40.5089911676 L -74.2541001064,40.5089831905 L -74.2540499813,40.5089531135 L -74.2539975308,40.508970315 L -74.2539768114,40.509020207 L -74.2541112132,40.5091670472 L -74.2540380457,40.5092526716 L -74.2543071301,40.5093762638 L -74.2543487444,40.5093290171 L -74.2543887774,40.5093441841 L -74.2543145417,40.5094136946 L -74.2542817708,40.5093971242 L -74.2542908356,40.5093915568 L -74.2540206951,40.5092729758 L -74.2538916994,40.5094239325 L -74.2537335512,40.5093768927 L -74.2536891188,40.5094255964 L -74.2537053551,40.5094344137 L -74.253676047,40.5094673902 L -74.2545681551,40.5098801103 L -74.254623362,40.5098146021 L -74.2546465126,40.5098262459 L -74.2545262173,40.5099730159 L -74.2545003879,40.5099631967 L -74.2545533364,40.5098959737 L -74.2536481252,40.5094705304 L -74.2533157981,40.5098615045 L -74.2532832735,40.5100001743 L -74.2531498424,40.5103884965 L -74.2531273084,40.510712581 L -74.2530639455,40.5110552574 L -74.2532600827,40.5110786438 L -74.2532580689,40.5110886894 L -74.2530627481,40.5110676535 L -74.2530377993,40.5111360772 L -74.2530084728,40.5111939897 L -74.2530203792,40.5112851461 L -74.2530819503,40.5113928394 L -74.2534335045,40.5116366883 L -74.2534860296,40.5115951979 L -74.2534930057,40.5115989923 L -74.2534586368,40.5116304384 L -74.253487407,40.5116494452 L -74.2535239695,40.5116189891 L -74.2535319502,40.5116227215 L -74.2534951779,40.5116558872 L -74.2535268508,40.511677766 L -74.2535021125,40.5117009179 L -74.2530928696,40.5114107659 L -74.2530363538,40.5114331605 L -74.2530000872,40.51183227 L -74.2530192883,40.5119376667 L -74.2530764161,40.5119977774 L -74.2530903676,40.5120166851 L -74.2530998453,40.5120371439 L -74.2531045662,40.5120585426 L -74.2531043891,40.5120802421 L -74.2530993195,40.5121015943 L -74.2530895087,40.5121219614 L -74.2530752498,40.512140735 L -74.2519519749,40.5129970025 L -74.2521437889,40.5135534708 L -74.252125914,40.5137103798 L -74.2513533142,40.5143928976 L -74.250545005,40.5147168397 L -74.2503397826,40.514896915 L -74.2501926245,40.5150131246 L -74.2501126246,40.5150307456 L -74.2500458776,40.5151085105 L -74.250040115,40.5151824907 L -74.2501813106,40.5153277653 L -74.2501708666,40.5153339969 L -74.2502808361,40.5154411672 L -74.2502741616,40.5154455603 L -74.2502856752,40.5154572073 L -74.2502933064,40.5154528132 L -74.2505552641,40.5157163424 L -74.2504550992,40.5157720071 L -74.2501960157,40.5155099311 L -74.2502751831,40.5154630668 L -74.2502617535,40.5154506934 L -74.2502522097,40.5154550921 L -74.2501562652,40.5153611882 L -74.2498882488,40.5155215452 L -74.2504762731,40.5161172993 L -74.2505350705,40.5160860435 L -74.2505600727,40.5161067415 L -74.2504153592,40.516188335 L -74.2503948748,40.5161641686 L -74.2504513933,40.5161294594 L -74.2498437459,40.5155180502 L -74.2493566092,40.5150059282 L -74.2492773432,40.5150500962 L -74.2493572627,40.5151288709 L -74.2493377524,40.5151408144 L -74.2492561503,40.5150611951 L -74.2492152868,40.5150848613 L -74.2494448919,40.5153260197 L -74.2495248093,40.5154099583 L -74.2496322011,40.515545378 L -74.249622703,40.5155747304 L -74.2495004712,40.5156464886 L -74.2495330306,40.5156821642 L -74.2495139368,40.515693981 L -74.2499415881,40.5161374882 L -74.249898619,40.5161600624 L -74.2494822976,40.5157165316 L -74.2494642034,40.5157252177 L -74.249430969,40.5156878856 L -74.2490558651,40.5159040961 L -74.2490305596,40.5158812361 L -74.2486476463,40.5161126285 L -74.2487158364,40.516169549 L -74.2487067982,40.5161764856 L -74.2488432366,40.5163058896 L -74.2488296661,40.516312836 L -74.2486818927,40.5161817279 L -74.2486246694,40.5162157516 L -74.2487595832,40.5163562211 L -74.2487369563,40.5163649169 L -74.2485458929,40.5161699171 L -74.2485501336,40.5161957473 L -74.248512456,40.5162257184 L -74.2486008082,40.5163133319 L -74.2482842208,40.5164869496 L -74.2489462467,40.5171945398 L -74.2493781404,40.5169514963 L -74.2494077079,40.5169808314 L -74.2485144906,40.5174756263 L -74.2484872033,40.5174497462 L -74.2489191065,40.5172084337 L -74.2475181184,40.5157358648 L -74.2469304801,40.5160664544 L -74.2468714784,40.5160368818 L -74.2465949994,40.5160724435 L -74.2464403965,40.5159650285 L -74.2461285768,40.5161373926 L -74.2463008511,40.516140611 L -74.2465299242,40.5163777006 L -74.2465987344,40.5163582023 L -74.2467499719,40.5164956132 L -74.2465933924,40.5165868266 L -74.2465104027,40.5166698553 L -74.2466976943,40.5168793845 L -74.2466932358,40.5168818628 L -74.2467070672,40.5168954321 L -74.246710339,40.5168939813 L -74.24699557,40.5171820852 L -74.2469689278,40.5171982421 L -74.246682586,40.5169069564 L -74.2466952762,40.5169014966 L -74.2466816267,40.5168850065 L -74.2466652169,40.5168916172 L -74.2464789971,40.5166873272 L -74.2463773644,40.5167390934 L -74.2465643992,40.5169457922 L -74.2465368283,40.5169599604 L -74.246349698,40.5167533719 L -74.2459817689,40.5169432424 L -74.2459527699,40.5169319931 L -74.2452086153,40.5172897436 L -74.24566989,40.5177897081 L -74.2455993875,40.5178572955 L -74.2457127669,40.5179844216 L -74.2456642715,40.5180494691 L -74.2456347317,40.5180755807 L -74.2455687984,40.5180898621 L -74.2455266715,40.518080863 L -74.2454905567,40.518060023 L -74.2453056843,40.5180293748 L -74.2450880446,40.5180668394 L -74.2442983522,40.5185150031 L -74.2436522851,40.5182946146 L -74.2426242475,40.5183193264 L -74.2423247783,40.518326525 L -74.2412596868,40.5191804698 L -74.2410312292,40.5195425127 L -74.2404906969,40.519191629 L -74.2398225832,40.5200907114 L -74.23946,40.521279 L -74.235112,40.520917 L -74.097267,40.633998 L -74.097155,40.631898 L -74.098421,40.631598 L -74.098177,40.630007 L -74.099257,40.629933 L -74.099022,40.628684 L -74.100844,40.628444 L -74.100064,40.624173 L -74.10203,40.623796 L -74.101802,40.623147 L -74.102285,40.623245 L -74.104453,40.622913 L -74.10682,40.621794 L -74.1099161537,40.6207222387 L -74.110015,40.620688 L -74.1105746491,40.6210251158 L -74.1112385183,40.6214250107 L -74.111534,40.621603 L -74.11331,40.623042 L -74.11846,40.625269 L -74.120129,40.626536 L -74.121257,40.627823 L -74.123034,40.629011 L -74.1231690871,40.6292117483 L -74.125474,40.632637 L -74.12596,40.633859 L -74.114538,40.634763 L -74.10253,40.634663 L -74.099414,40.634106 L -74.097267,40.633998 L -74.13131,40.626328 L -74.13192,40.624546 L -74.132076,40.622702 L -74.131258,40.617578 L -74.13072,40.612558 L -74.13604,40.612262 L -74.14602,40.610344 L -74.14579,40.611932 L -74.144025,40.624992 L -74.14128,40.624594 L -74.138266,40.624248 L -74.137227,40.624296 L -74.13473,40.625772 L -74.13333,40.626393 L -74.13131,40.626328 L -74.147066,40.605504 L -74.142028,40.603372 L -74.14046,40.60307 L -74.137234,40.603249 L -74.132507,40.599632 L -74.13099,40.599503 L -74.13092,40.598856 L -74.12983,40.598671 L -74.1298864534,40.5986691301 L -74.1302366825,40.5986575294 L -74.13046,40.59865 L -74.1305803085,40.5985989743 L -74.1310149171,40.5984083074 L -74.131239,40.59831 L -74.1314959144,40.5981355137 L -74.1323932288,40.5975260924 L -74.132813,40.597241 L -74.133775,40.596333 L -74.13608,40.597254 L -74.137873,40.597556 L -74.138836,40.597311 L -74.140761,40.597553 L -74.141873,40.596054 L -74.146376676,40.5961510113 L -74.146581,40.59627 L -74.1462414006,40.5967056949 L -74.1461929114,40.5969970409 L -74.1461527118,40.5974310024 L -74.146613,40.599666 L -74.1462,40.601135 L -74.146173,40.602143 L -74.14645,40.602996 L -74.147237,40.603727 L -74.14757,40.604597 L -74.147894,40.604878 L -74.14829,40.604951 L -74.148281,40.60567 L -74.147066,40.605504 L -74.1772822778,40.540629564 L -74.177231,40.539844 L -74.177348,40.539346 L -74.1776182268,40.5389755003 L -74.178730877,40.5379053673 L -74.18083,40.535925 L -74.1850035649,40.5345351029 L -74.186298,40.534095 L -74.189465,40.533092 L -74.191744,40.531917 L -74.193418,40.535127 L -74.19557,40.534304 L -74.20302,40.532206 L -74.20289,40.531712 L -74.21328,40.528818 L -74.214678,40.528597 L -74.21468,40.528707 L -74.2182951499,40.5277146822 L -74.218167,40.528004 L -74.21925,40.527914 L -74.2198213787,40.5279864689 L -74.2200349185,40.5280137435 L -74.22022,40.528037 L -74.2208675247,40.528333184 L -74.221576,40.528605 L -74.2216999773,40.5287121998 L -74.2219164388,40.528899368 L -74.222278,40.529212 L -74.22389,40.531113 L -74.22414,40.532292 L -74.224583,40.537017 L -74.224397,40.537318 L -74.223956,40.540778 L -74.22104,40.540748 L -74.21579,40.54131 L -74.212813,40.541322 L -74.2045,40.541962 L -74.20024,40.542847 L -74.197308,40.543262 L -74.195862,40.544318 L -74.19153,40.546908 L -74.1902898242,40.5477650568 L -74.188588,40.548944 L -74.187573,40.550147 L -74.1885761783,40.5507141156 L -74.187074,40.552424 L -74.18781,40.552821 L -74.188265,40.553275 L -74.186093,40.554549 L -74.185657,40.554096 L -74.185508,40.55424 L -74.18464,40.553807 L -74.183181,40.555201 L -74.18209,40.551104 L -74.17933,40.549888 L -74.178814,40.54966 L -74.17959,40.548066 L -74.180721,40.546673 L -74.176498,40.544487 L -74.177403,40.542479 L -74.177331,40.540619 L -74.1772822778,40.540629564 L -74.169827,40.561078 z\" /></g></svg>"
      ],
      "text/plain": [
       "<shapely.geometry.polygon.Polygon at 0x117c339d0>"
      ]
     },
     "execution_count": 324,
     "metadata": {},
     "output_type": "execute_result"
    }
   ],
   "source": [
    "Staten_Island"
   ]
  },
  {
   "cell_type": "code",
   "execution_count": 325,
   "metadata": {
    "collapsed": true
   },
   "outputs": [],
   "source": [
    "def getborough(lon, lat):\n",
    "    # build a shapely point from your geopoint\n",
    "    point = Point(lon, lat)\n",
    "\n",
    "    # the contains function does exactly what you want\n",
    "    if Bronx.contains(point):\n",
    "        return \"Bronx\"\n",
    "    elif Brooklyn.contains(point):\n",
    "        return \"Brooklyn\"\n",
    "    elif Manhattan.contains(point):\n",
    "        return \"Manhattan\"\n",
    "    elif Queens.contains(point):\n",
    "        return \"Queens\"\n",
    "    elif Staten_Island.contains(point):\n",
    "        return \"Staten Island\"\n",
    "    else:\n",
    "        return \"Outside NYC\"\n",
    "        "
   ]
  },
  {
   "cell_type": "code",
   "execution_count": 326,
   "metadata": {
    "collapsed": false
   },
   "outputs": [
    {
     "data": {
      "text/plain": [
       "Index([u'VendorID', u'tpep_pickup_datetime', u'tpep_dropoff_datetime',\n",
       "       u'passenger_count', u'trip_distance', u'pickup_longitude',\n",
       "       u'pickup_latitude', u'RateCodeID', u'store_and_fwd_flag',\n",
       "       u'dropoff_longitude', u'dropoff_latitude', u'payment_type',\n",
       "       u'fare_amount', u'extra', u'mta_tax', u'tip_amount', u'tolls_amount',\n",
       "       u'improvement_surcharge', u'total_amount', u'pickup_day',\n",
       "       u'pickup_hour', u'hour_seg', u'trip_time', u'lat_long_distance'],\n",
       "      dtype='object')"
      ]
     },
     "execution_count": 326,
     "metadata": {},
     "output_type": "execute_result"
    }
   ],
   "source": [
    "data.columns"
   ]
  },
  {
   "cell_type": "code",
   "execution_count": 328,
   "metadata": {
    "collapsed": false
   },
   "outputs": [],
   "source": [
    "data['pickup_borough'] = data[['pickup_longitude','pickup_latitude']].apply(lambda x: getborough(*x),axis=1)"
   ]
  },
  {
   "cell_type": "code",
   "execution_count": 329,
   "metadata": {
    "collapsed": false
   },
   "outputs": [
    {
     "data": {
      "text/plain": [
       "Outside NYC      205408\n",
       "Manhattan        193501\n",
       "Queens            14799\n",
       "Brooklyn           3303\n",
       "Bronx               201\n",
       "Staten Island         1\n",
       "Name: pickup_borough, dtype: int64"
      ]
     },
     "execution_count": 329,
     "metadata": {},
     "output_type": "execute_result"
    }
   ],
   "source": [
    "data.pickup_borough.value_counts()"
   ]
  },
  {
   "cell_type": "code",
   "execution_count": 330,
   "metadata": {
    "collapsed": true
   },
   "outputs": [],
   "source": [
    "data['dropoff_borough'] = data[['dropoff_longitude','dropoff_latitude']].apply(lambda x: getborough(*x),axis=1)"
   ]
  },
  {
   "cell_type": "code",
   "execution_count": 331,
   "metadata": {
    "collapsed": false
   },
   "outputs": [
    {
     "data": {
      "text/plain": [
       "Outside NYC      201303\n",
       "Manhattan        190472\n",
       "Queens            12260\n",
       "Brooklyn          11670\n",
       "Bronx              1455\n",
       "Staten Island        53\n",
       "Name: dropoff_borough, dtype: int64"
      ]
     },
     "execution_count": 331,
     "metadata": {},
     "output_type": "execute_result"
    }
   ],
   "source": [
    "data.dropoff_borough.value_counts()"
   ]
  },
  {
   "cell_type": "markdown",
   "metadata": {},
   "source": [
    "## Tip Amount"
   ]
  },
  {
   "cell_type": "code",
   "execution_count": 342,
   "metadata": {
    "collapsed": true
   },
   "outputs": [],
   "source": [
    "data['tip_paid'] = (data.tip_amount >0).astype(int)"
   ]
  },
  {
   "cell_type": "code",
   "execution_count": 343,
   "metadata": {
    "collapsed": false
   },
   "outputs": [
    {
     "data": {
      "text/html": [
       "<div>\n",
       "<table border=\"1\" class=\"dataframe\">\n",
       "  <thead>\n",
       "    <tr style=\"text-align: right;\">\n",
       "      <th></th>\n",
       "      <th>tip_paid</th>\n",
       "      <th>tip_amount</th>\n",
       "    </tr>\n",
       "  </thead>\n",
       "  <tbody>\n",
       "    <tr>\n",
       "      <th>1145198</th>\n",
       "      <td>1</td>\n",
       "      <td>1.00</td>\n",
       "    </tr>\n",
       "    <tr>\n",
       "      <th>1145199</th>\n",
       "      <td>0</td>\n",
       "      <td>0.00</td>\n",
       "    </tr>\n",
       "    <tr>\n",
       "      <th>1145200</th>\n",
       "      <td>1</td>\n",
       "      <td>3.86</td>\n",
       "    </tr>\n",
       "    <tr>\n",
       "      <th>1145201</th>\n",
       "      <td>0</td>\n",
       "      <td>0.00</td>\n",
       "    </tr>\n",
       "    <tr>\n",
       "      <th>1145202</th>\n",
       "      <td>0</td>\n",
       "      <td>0.00</td>\n",
       "    </tr>\n",
       "  </tbody>\n",
       "</table>\n",
       "</div>"
      ],
      "text/plain": [
       "         tip_paid  tip_amount\n",
       "1145198         1        1.00\n",
       "1145199         0        0.00\n",
       "1145200         1        3.86\n",
       "1145201         0        0.00\n",
       "1145202         0        0.00"
      ]
     },
     "execution_count": 343,
     "metadata": {},
     "output_type": "execute_result"
    }
   ],
   "source": [
    "data[['tip_paid','tip_amount']].head()"
   ]
  },
  {
   "cell_type": "markdown",
   "metadata": {},
   "source": [
    "## <font color='blue'>More than half trips during the day, paid at least some tip to drivers - 62% precisely"
   ]
  },
  {
   "cell_type": "code",
   "execution_count": 397,
   "metadata": {
    "collapsed": false
   },
   "outputs": [
    {
     "data": {
      "text/plain": [
       "<matplotlib.axes._subplots.AxesSubplot at 0x12801ef50>"
      ]
     },
     "execution_count": 397,
     "metadata": {},
     "output_type": "execute_result"
    },
    {
     "data": {
      "image/png": "[encoded data removed]",
      "text/plain": [
       "<matplotlib.figure.Figure at 0x128ca5c50>"
      ]
     },
     "metadata": {},
     "output_type": "display_data"
    }
   ],
   "source": [
    "data.tip_paid.value_counts(normalize=True).plot(kind='bar')"
   ]
  },
  {
   "cell_type": "markdown",
   "metadata": {},
   "source": [
    "## <font color='blue'> Tip % (of other cost) probably makes more sense than absolute tip amount - for further analysis"
   ]
  },
  {
   "cell_type": "code",
   "execution_count": 380,
   "metadata": {
    "collapsed": true
   },
   "outputs": [],
   "source": [
    "data['tip_percent'] = data.tip_amount/(data.total_amount - data.tip_amount)"
   ]
  },
  {
   "cell_type": "code",
   "execution_count": 399,
   "metadata": {
    "collapsed": false
   },
   "outputs": [
    {
     "data": {
      "text/plain": [
       "196"
      ]
     },
     "execution_count": 399,
     "metadata": {},
     "output_type": "execute_result"
    }
   ],
   "source": [
    "(data.tip_percent>1).sum()"
   ]
  },
  {
   "cell_type": "code",
   "execution_count": 398,
   "metadata": {
    "collapsed": false
   },
   "outputs": [
    {
     "data": {
      "text/html": [
       "<div>\n",
       "<table border=\"1\" class=\"dataframe\">\n",
       "  <thead>\n",
       "    <tr style=\"text-align: right;\">\n",
       "      <th></th>\n",
       "      <th>tip_paid</th>\n",
       "      <th>tip_amount</th>\n",
       "      <th>tip_percent</th>\n",
       "      <th>fare_amount</th>\n",
       "      <th>total_amount</th>\n",
       "    </tr>\n",
       "  </thead>\n",
       "  <tbody>\n",
       "    <tr>\n",
       "      <th>1160766</th>\n",
       "      <td>1</td>\n",
       "      <td>22.0</td>\n",
       "      <td>1.111111</td>\n",
       "      <td>18.5</td>\n",
       "      <td>41.8</td>\n",
       "    </tr>\n",
       "    <tr>\n",
       "      <th>1163837</th>\n",
       "      <td>1</td>\n",
       "      <td>21.0</td>\n",
       "      <td>1.640625</td>\n",
       "      <td>11.5</td>\n",
       "      <td>33.8</td>\n",
       "    </tr>\n",
       "    <tr>\n",
       "      <th>1181713</th>\n",
       "      <td>1</td>\n",
       "      <td>10.0</td>\n",
       "      <td>1.075269</td>\n",
       "      <td>8.0</td>\n",
       "      <td>19.3</td>\n",
       "    </tr>\n",
       "    <tr>\n",
       "      <th>1182098</th>\n",
       "      <td>1</td>\n",
       "      <td>6.3</td>\n",
       "      <td>1.188679</td>\n",
       "      <td>4.0</td>\n",
       "      <td>11.6</td>\n",
       "    </tr>\n",
       "    <tr>\n",
       "      <th>1183191</th>\n",
       "      <td>1</td>\n",
       "      <td>15.0</td>\n",
       "      <td>1.086957</td>\n",
       "      <td>12.5</td>\n",
       "      <td>28.8</td>\n",
       "    </tr>\n",
       "  </tbody>\n",
       "</table>\n",
       "</div>"
      ],
      "text/plain": [
       "         tip_paid  tip_amount  tip_percent  fare_amount  total_amount\n",
       "1160766         1        22.0     1.111111         18.5          41.8\n",
       "1163837         1        21.0     1.640625         11.5          33.8\n",
       "1181713         1        10.0     1.075269          8.0          19.3\n",
       "1182098         1         6.3     1.188679          4.0          11.6\n",
       "1183191         1        15.0     1.086957         12.5          28.8"
      ]
     },
     "execution_count": 398,
     "metadata": {},
     "output_type": "execute_result"
    }
   ],
   "source": [
    "data.loc[data.tip_percent>1,['tip_paid','tip_amount','tip_percent','fare_amount','total_amount']].head()"
   ]
  },
  {
   "cell_type": "markdown",
   "metadata": {},
   "source": [
    "## <font color='blue'>196 cases where tip % is more than 100%; these are likely data issues; best to remove to avoid weird conclusion"
   ]
  },
  {
   "cell_type": "code",
   "execution_count": 403,
   "metadata": {
    "collapsed": false
   },
   "outputs": [],
   "source": [
    "data = data[data.tip_percent<=1]"
   ]
  },
  {
   "cell_type": "code",
   "execution_count": 404,
   "metadata": {
    "collapsed": false
   },
   "outputs": [
    {
     "data": {
      "text/plain": [
       "(417017, 28)"
      ]
     },
     "execution_count": 404,
     "metadata": {},
     "output_type": "execute_result"
    }
   ],
   "source": [
    "data.shape"
   ]
  },
  {
   "cell_type": "markdown",
   "metadata": {},
   "source": [
    "## <font color='blue'> Distribution of tip %"
   ]
  },
  {
   "cell_type": "code",
   "execution_count": 411,
   "metadata": {
    "collapsed": false
   },
   "outputs": [
    {
     "data": {
      "text/plain": [
       "<matplotlib.axes._subplots.AxesSubplot at 0x12c4922d0>"
      ]
     },
     "execution_count": 411,
     "metadata": {},
     "output_type": "execute_result"
    },
    {
     "data": {
      "image/png": "[encoded data removed]",
      "text/plain": [
       "<matplotlib.figure.Figure at 0x12c4a6310>"
      ]
     },
     "metadata": {},
     "output_type": "display_data"
    }
   ],
   "source": [
    "data.tip_percent[data.tip_percent>0].hist(bins=20)"
   ]
  },
  {
   "cell_type": "markdown",
   "metadata": {},
   "source": [
    "## Based on distribution, makese sense to define 5 segments\n",
    "* NA         - 0%\n",
    "* Very Low   - 0-5%\n",
    "* Low        - 5-10%\n",
    "* Medium     - 10-20%\n",
    "* High       - 20-30%\n",
    "* Very High  - 30-100%"
   ]
  },
  {
   "cell_type": "code",
   "execution_count": 449,
   "metadata": {
    "collapsed": true
   },
   "outputs": [],
   "source": [
    "tip_bins = [-1,0,0.05,0.1,0.2,0.3,1]\n",
    "tip_labels = ['00-na','01-very low','02-low','03-medium','04-high','05-very high']"
   ]
  },
  {
   "cell_type": "code",
   "execution_count": 450,
   "metadata": {
    "collapsed": false
   },
   "outputs": [],
   "source": [
    "data['tip_segment'] = pd.cut(data.tip_percent,tip_bins, labels=tip_labels)"
   ]
  },
  {
   "cell_type": "code",
   "execution_count": 454,
   "metadata": {
    "collapsed": false
   },
   "outputs": [
    {
     "data": {
      "text/plain": [
       "<matplotlib.axes._subplots.AxesSubplot at 0x12d636150>"
      ]
     },
     "execution_count": 454,
     "metadata": {},
     "output_type": "execute_result"
    },
    {
     "data": {
      "image/png": "[encoded data removed]",
      "text/plain": [
       "<matplotlib.figure.Figure at 0x12d63fc10>"
      ]
     },
     "metadata": {},
     "output_type": "display_data"
    }
   ],
   "source": [
    "data.tip_segment.value_counts().sort_index().plot(kind='bar')"
   ]
  },
  {
   "cell_type": "code",
   "execution_count": 445,
   "metadata": {
    "collapsed": false
   },
   "outputs": [
    {
     "data": {
      "text/plain": [
       "<matplotlib.axes._subplots.AxesSubplot at 0x11e6d13d0>"
      ]
     },
     "execution_count": 445,
     "metadata": {},
     "output_type": "execute_result"
    },
    {
     "data": {
      "image/png": "[encoded data removed]",
      "text/plain": [
       "<matplotlib.figure.Figure at 0x12955c410>"
      ]
     },
     "metadata": {},
     "output_type": "display_data"
    }
   ],
   "source": [
    "sns.boxplot(x=data.tip_percent,y=data.tip_segment)"
   ]
  },
  {
   "cell_type": "markdown",
   "metadata": {},
   "source": [
    "## Bivariate analysis of tip with neighborhood & other features"
   ]
  },
  {
   "cell_type": "markdown",
   "metadata": {},
   "source": [
    "* <font color='blue'> People who get picked or dropped off at Bronx, seem to pay less tip; understandable as Bronx is a poorer area\n",
    "* <font color='blue'> Staten Island pickup & drop off tip their drivers at a substantially higher rate\n",
    "* <font color='blue'> Rest seems to behave similarly and tip at a rate of 12% more or less\n",
    "\n",
    "\n",
    "\n"
   ]
  },
  {
   "cell_type": "code",
   "execution_count": 524,
   "metadata": {
    "collapsed": false
   },
   "outputs": [
    {
     "data": {
      "text/plain": [
       "<matplotlib.axes._subplots.AxesSubplot at 0x136131b90>"
      ]
     },
     "execution_count": 524,
     "metadata": {},
     "output_type": "execute_result"
    },
    {
     "data": {
      "image/png": "[encoded data removed]",
      "text/plain": [
       "<matplotlib.figure.Figure at 0x12f412650>"
      ]
     },
     "metadata": {},
     "output_type": "display_data"
    }
   ],
   "source": [
    "fig, axs = plt.subplots(1,2,sharey='all',sharex='all')\n",
    "\n",
    "data.groupby('pickup_borough').tip_percent.mean().plot(kind='barh',ax=axs[0],title='pickup_borough')\n",
    "data.groupby('dropoff_borough').tip_percent.mean().plot(kind='barh',ax=axs[1],title='dropoff_borough')"
   ]
  },
  {
   "cell_type": "markdown",
   "metadata": {},
   "source": [
    "## <font color='blue'>As we are interested to see effect of area on high tip, lets plot what % of tips of each of the boroughs are either high or very high\n",
    "\n",
    "* similar conclusion as previous graph, Staten Island has most high tippers and Bronx least. Except that Queens also come across as higher vs. other 3 boroughs in terms of tips"
   ]
  },
  {
   "cell_type": "code",
   "execution_count": 525,
   "metadata": {
    "collapsed": false
   },
   "outputs": [
    {
     "data": {
      "text/plain": [
       "<matplotlib.axes._subplots.AxesSubplot at 0x138a83fd0>"
      ]
     },
     "execution_count": 525,
     "metadata": {},
     "output_type": "execute_result"
    },
    {
     "data": {
      "image/png": "[encoded data removed]",
      "text/plain": [
       "<matplotlib.figure.Figure at 0x138979c90>"
      ]
     },
     "metadata": {},
     "output_type": "display_data"
    }
   ],
   "source": [
    "fig, axs = plt.subplots(1,2,sharey='all',sharex='all')\n",
    "\n",
    "data.groupby(['pickup_borough']).tip_segment.value_counts(normalize=True).unstack()[['04-high','05-very high']].plot(kind='barh',stacked='True',ax=axs[0],title='pickup_borough')\n",
    "data.groupby(['dropoff_borough']).tip_segment.value_counts(normalize=True).unstack()[['04-high','05-very high']].plot(kind='barh',stacked='True',ax=axs[1],title='dropoff_borough')"
   ]
  },
  {
   "cell_type": "markdown",
   "metadata": {},
   "source": [
    "## <font color='blue'>If we look outside neighborhood, there are other factors as well that influence tip amount. Ex - if actual trip distance is much more than lat,long distance then people pay less tip"
   ]
  },
  {
   "cell_type": "code",
   "execution_count": 540,
   "metadata": {
    "collapsed": false
   },
   "outputs": [
    {
     "data": {
      "text/plain": [
       "<matplotlib.axes._subplots.AxesSubplot at 0x13a425c50>"
      ]
     },
     "execution_count": 540,
     "metadata": {},
     "output_type": "execute_result"
    },
    {
     "data": {
      "image/png": "[encoded data removed]",
      "text/plain": [
       "<matplotlib.figure.Figure at 0x13a0bac10>"
      ]
     },
     "metadata": {},
     "output_type": "display_data"
    }
   ],
   "source": [
    "fig, axs = plt.subplots(1,2,sharey='all',sharex='all')\n",
    "\n",
    "data.loc[(data.trip_distance - data.lat_long_distance)>10,'tip_segment'].value_counts(normalize=True).sort_index().plot(kind='bar',ax=axs[0])\n",
    "data.loc[(data.lat_long_distance - data.trip_distance)>10,'tip_segment'].value_counts(normalize=True).sort_index().plot(kind='bar',ax=axs[1])"
   ]
  },
  {
   "cell_type": "markdown",
   "metadata": {},
   "source": [
    "## <font color='blue'>As can be seen tip also varies with time of day, being slightly more at early morning and late night"
   ]
  },
  {
   "cell_type": "code",
   "execution_count": 33,
   "metadata": {
    "collapsed": false
   },
   "outputs": [
    {
     "data": {
      "text/plain": [
       "<matplotlib.axes._subplots.AxesSubplot at 0x115281fd0>"
      ]
     },
     "execution_count": 33,
     "metadata": {},
     "output_type": "execute_result"
    },
    {
     "data": {
      "image/png": "[encoded data removed]",
      "text/plain": [
       "<matplotlib.figure.Figure at 0x117c7f3d0>"
      ]
     },
     "metadata": {},
     "output_type": "display_data"
    }
   ],
   "source": [
    "data.groupby('pickup_hour').tip_percent.mean().plot(kind='bar')"
   ]
  },
  {
   "cell_type": "markdown",
   "metadata": {},
   "source": [
    "## So there are a lot of confounding variables, and it is difficult to isolate true effect of area on tip behaviour just based on bivariate analysis; though we get an indication that there is an impact"
   ]
  },
  {
   "cell_type": "markdown",
   "metadata": {},
   "source": [
    "## Machine Learning to see the effect of all variables together\n",
    "\n",
    "To truly evaluate the effect of area on tip behaviour, we need to see how tip changes with area when other confounding variables are constant. A machine learning model can help us isolate this effect.\n",
    "\n",
    "We can model our problem in many different ways. Example -\n",
    "\n",
    "1. Binary classification: To predict whether or not a tip was paid for a trip.\n",
    "2. Multiclass classification: To predict the range of tip amounts paid for the trip, using the previously defined classes.\n",
    "3. Regression task: To predict the amount of tip paid for a trip.\n",
    "\n",
    "However, in this case, since we are particular interested in modelling the effect of area on high tip behaviour, so we could just mark high and very high as positive cases and rest as negative. So it will become a binary classification problem wherein we predict whether or not a high tip was paid for a trip."
   ]
  },
  {
   "cell_type": "code",
   "execution_count": 100,
   "metadata": {
    "collapsed": true
   },
   "outputs": [],
   "source": [
    "data_M = data.copy()"
   ]
  },
  {
   "cell_type": "code",
   "execution_count": 101,
   "metadata": {
    "collapsed": true
   },
   "outputs": [
    {
     "data": {
      "text/plain": [
       "0         2015-06-03 00:06:43\n",
       "1         2015-06-03 00:03:37\n",
       "2         2015-06-03 00:18:00\n",
       "3         2015-06-03 00:18:06\n",
       "4         2015-06-03 00:18:50\n",
       "5         2015-06-03 00:12:11\n",
       "6         2015-06-03 00:20:07\n",
       "7         2015-06-03 00:06:47\n",
       "8         2015-06-03 00:05:26\n",
       "9         2015-06-03 00:16:48\n",
       "10        2015-06-03 00:04:24\n",
       "11        2015-06-03 00:12:03\n",
       "12        2015-06-03 00:03:25\n",
       "13        2015-06-03 00:09:40\n",
       "14        2015-06-03 00:02:09\n",
       "15        2015-06-03 00:06:10\n",
       "16        2015-06-03 00:02:05\n",
       "17        2015-06-03 00:02:02\n",
       "18        2015-06-03 00:16:50\n",
       "19        2015-06-03 00:08:25\n",
       "20        2015-06-03 00:04:34\n",
       "21        2015-06-03 00:15:46\n",
       "22        2015-06-03 00:02:44\n",
       "23        2015-06-03 00:07:54\n",
       "24        2015-06-03 00:09:02\n",
       "25        2015-06-03 00:03:31\n",
       "26        2015-06-03 00:25:40\n",
       "27        2015-06-03 00:39:49\n",
       "28        2015-06-03 00:23:37\n",
       "29        2015-06-03 00:11:14\n",
       "                 ...         \n",
       "416987    2015-06-04 00:02:22\n",
       "416988    2015-06-04 00:06:13\n",
       "416989    2015-06-04 00:09:21\n",
       "416990    2015-06-04 00:11:41\n",
       "416991    2015-06-04 00:10:02\n",
       "416992    2015-06-04 00:07:09\n",
       "416993    2015-06-04 00:14:22\n",
       "416994    2015-06-04 00:14:11\n",
       "416995    2015-06-04 00:10:54\n",
       "416996    2015-06-04 00:06:26\n",
       "416997    2015-06-04 00:09:41\n",
       "416998    2015-06-04 00:36:27\n",
       "416999    2015-06-04 00:08:28\n",
       "417000    2015-06-04 00:06:22\n",
       "417001    2015-06-04 00:16:13\n",
       "417002    2015-06-04 00:22:29\n",
       "417003    2015-06-04 00:06:58\n",
       "417004    2015-06-04 00:07:09\n",
       "417005    2015-06-04 00:03:42\n",
       "417006    2015-06-04 00:22:30\n",
       "417007    2015-06-04 00:05:57\n",
       "417008    2015-06-04 00:12:30\n",
       "417009    2015-06-04 00:06:50\n",
       "417010    2015-06-04 00:16:26\n",
       "417011    2015-06-04 00:11:52\n",
       "417012    2015-06-04 00:08:40\n",
       "417013    2015-06-04 00:04:41\n",
       "417014    2015-06-04 00:12:25\n",
       "417015    2015-06-04 00:07:18\n",
       "417016    2015-06-04 00:05:07\n",
       "Name: tpep_dropoff_datetime, dtype: object"
      ]
     },
     "execution_count": 101,
     "metadata": {},
     "output_type": "execute_result"
    }
   ],
   "source": [
    "data_M.pop('tip_amount')\n",
    "data_M.pop('tip_percent')\n",
    "data_M.pop('tip_paid')\n",
    "data_M.pop('tpep_pickup_datetime')\n",
    "data_M.pop('tpep_dropoff_datetime')"
   ]
  },
  {
   "cell_type": "code",
   "execution_count": 102,
   "metadata": {
    "collapsed": false
   },
   "outputs": [
    {
     "data": {
      "text/plain": [
       "0    350884\n",
       "1     66133\n",
       "Name: tip_segment, dtype: int64"
      ]
     },
     "execution_count": 102,
     "metadata": {},
     "output_type": "execute_result"
    }
   ],
   "source": [
    "data_M.loc[(data_M.tip_segment == '04-high') | (data_M.tip_segment == '05-very high'),'tip_segment'] = 1\n",
    "data_M.loc[~(data_M.tip_segment == 1),'tip_segment'] = 0\n",
    "data_M.tip_segment.value_counts()"
   ]
  },
  {
   "cell_type": "code",
   "execution_count": 103,
   "metadata": {
    "collapsed": false
   },
   "outputs": [],
   "source": [
    "data_M['high_tip'] = data_M['tip_segment'].astype(int)"
   ]
  },
  {
   "cell_type": "code",
   "execution_count": 104,
   "metadata": {
    "collapsed": true
   },
   "outputs": [
    {
     "data": {
      "text/plain": [
       "0         0\n",
       "1         0\n",
       "2         0\n",
       "3         0\n",
       "4         0\n",
       "5         0\n",
       "6         0\n",
       "7         0\n",
       "8         0\n",
       "9         0\n",
       "10        0\n",
       "11        1\n",
       "12        0\n",
       "13        0\n",
       "14        1\n",
       "15        1\n",
       "16        0\n",
       "17        0\n",
       "18        0\n",
       "19        0\n",
       "20        0\n",
       "21        1\n",
       "22        0\n",
       "23        0\n",
       "24        1\n",
       "25        0\n",
       "26        1\n",
       "27        0\n",
       "28        1\n",
       "29        1\n",
       "         ..\n",
       "416987    0\n",
       "416988    1\n",
       "416989    0\n",
       "416990    0\n",
       "416991    1\n",
       "416992    1\n",
       "416993    0\n",
       "416994    0\n",
       "416995    0\n",
       "416996    0\n",
       "416997    1\n",
       "416998    0\n",
       "416999    0\n",
       "417000    0\n",
       "417001    0\n",
       "417002    1\n",
       "417003    1\n",
       "417004    0\n",
       "417005    1\n",
       "417006    0\n",
       "417007    1\n",
       "417008    0\n",
       "417009    0\n",
       "417010    0\n",
       "417011    0\n",
       "417012    0\n",
       "417013    0\n",
       "417014    0\n",
       "417015    0\n",
       "417016    0\n",
       "Name: tip_segment, dtype: object"
      ]
     },
     "execution_count": 104,
     "metadata": {},
     "output_type": "execute_result"
    }
   ],
   "source": [
    "data_M.pop('tip_segment')"
   ]
  },
  {
   "cell_type": "code",
   "execution_count": 105,
   "metadata": {
    "collapsed": false
   },
   "outputs": [
    {
     "data": {
      "text/plain": [
       "0    350884\n",
       "1     66133\n",
       "Name: high_tip, dtype: int64"
      ]
     },
     "execution_count": 105,
     "metadata": {},
     "output_type": "execute_result"
    }
   ],
   "source": [
    "data_M.high_tip.value_counts()"
   ]
  },
  {
   "cell_type": "markdown",
   "metadata": {},
   "source": [
    "## One hot encode categorical variables"
   ]
  },
  {
   "cell_type": "code",
   "execution_count": 35,
   "metadata": {
    "collapsed": false
   },
   "outputs": [],
   "source": [
    "def dropSomeAndOneHotEncodeSomeCatCols(df):\n",
    "    df = df.copy()\n",
    "    \n",
    "    # split categorical and numerical features\n",
    "    df_cat = df.select_dtypes(include=['object'])\n",
    "    df_num = df.select_dtypes(exclude=['object'])\n",
    "\n",
    "    # define 'low cardinality' as having no more than 25 unique values\n",
    "    n_uniques = df_cat.apply(pd.Series.nunique)\n",
    "    low_cardinality = n_uniques <= 25\n",
    "\n",
    "    # keep only low-cardinality features\n",
    "    df_cat = df_cat.loc[:, low_cardinality].copy()\n",
    "\n",
    "    # record all the categories\n",
    "    categories = {n: c.unique() for n, c in df_cat.iteritems()}\n",
    "\n",
    "    # perform the one-hot encoding\n",
    "    df_1hot = pd.DataFrame(index=df_cat.index)\n",
    "    for feat, cats in categories.iteritems():\n",
    "        for cat in cats:\n",
    "            key = \"{}={}\".format(feat, cat)\n",
    "            df_1hot[key] = (df_cat[feat] == cat).astype(float)\n",
    "\n",
    "    # combine (one-hot encoded) categorical and numerical columns\n",
    "    df = pd.concat((df_num, df_1hot), axis=1)\n",
    "    \n",
    "    return df"
   ]
  },
  {
   "cell_type": "code",
   "execution_count": 73,
   "metadata": {
    "collapsed": true
   },
   "outputs": [],
   "source": [
    "data_M = dropSomeAndOneHotEncodeSomeCatCols(data_M)"
   ]
  },
  {
   "cell_type": "markdown",
   "metadata": {},
   "source": [
    "## Train and Test split for Model validation"
   ]
  },
  {
   "cell_type": "code",
   "execution_count": 75,
   "metadata": {
    "collapsed": true
   },
   "outputs": [],
   "source": [
    "from sklearn.cross_validation import train_test_split\n",
    "trainData, testData = train_test_split(data_M, test_size = 0.2, random_state=42, stratify=data_M.high_tip)"
   ]
  },
  {
   "cell_type": "code",
   "execution_count": 76,
   "metadata": {
    "collapsed": false
   },
   "outputs": [
    {
     "data": {
      "text/plain": [
       "(333613, 40)"
      ]
     },
     "execution_count": 76,
     "metadata": {},
     "output_type": "execute_result"
    }
   ],
   "source": [
    "trainData.shape"
   ]
  },
  {
   "cell_type": "code",
   "execution_count": 77,
   "metadata": {
    "collapsed": false
   },
   "outputs": [
    {
     "data": {
      "text/plain": [
       "(83404, 40)"
      ]
     },
     "execution_count": 77,
     "metadata": {},
     "output_type": "execute_result"
    }
   ],
   "source": [
    "testData.shape"
   ]
  },
  {
   "cell_type": "code",
   "execution_count": 78,
   "metadata": {
    "collapsed": false
   },
   "outputs": [
    {
     "name": "stdout",
     "output_type": "stream",
     "text": [
      "0    0.841415\n",
      "1    0.158585\n",
      "Name: high_tip, dtype: float64\n",
      "0    0.84141\n",
      "1    0.15859\n",
      "Name: high_tip, dtype: float64\n"
     ]
    }
   ],
   "source": [
    "print trainData.high_tip.value_counts(normalize=True)\n",
    "print testData.high_tip.value_counts(normalize=True)"
   ]
  },
  {
   "cell_type": "code",
   "execution_count": 79,
   "metadata": {
    "collapsed": true
   },
   "outputs": [],
   "source": [
    "X_train_M1 = trainData.drop('high_tip',axis=1)\n",
    "y_train_M1 = trainData['high_tip']\n",
    "X_test_M1 = testData.drop('high_tip',axis=1)\n",
    "y_test_M1 = testData['high_tip']"
   ]
  },
  {
   "cell_type": "code",
   "execution_count": 80,
   "metadata": {
    "collapsed": false
   },
   "outputs": [
    {
     "name": "stdout",
     "output_type": "stream",
     "text": [
      "Train M1:\t(333613, 39) (333613,)\n",
      "Test M1:\t(83404, 39) (83404,)\n"
     ]
    }
   ],
   "source": [
    "print 'Train M1:\\t',X_train_M1.shape, y_train_M1.shape\n",
    "print 'Test M1:\\t',X_test_M1.shape, y_test_M1.shape"
   ]
  },
  {
   "cell_type": "markdown",
   "metadata": {},
   "source": [
    "## Random Forest Model"
   ]
  },
  {
   "cell_type": "code",
   "execution_count": 87,
   "metadata": {
    "collapsed": true
   },
   "outputs": [],
   "source": [
    "from sklearn.ensemble import RandomForestClassifier"
   ]
  },
  {
   "cell_type": "code",
   "execution_count": 97,
   "metadata": {
    "collapsed": false
   },
   "outputs": [
    {
     "data": {
      "text/plain": [
       "RandomForestClassifier(bootstrap=True, class_weight='balanced',\n",
       "            criterion='gini', max_depth=10, max_features='auto',\n",
       "            max_leaf_nodes=None, min_samples_leaf=1, min_samples_split=2,\n",
       "            min_weight_fraction_leaf=0.0, n_estimators=10, n_jobs=1,\n",
       "            oob_score=False, random_state=None, verbose=0,\n",
       "            warm_start=False)"
      ]
     },
     "execution_count": 97,
     "metadata": {},
     "output_type": "execute_result"
    }
   ],
   "source": [
    "randfor_M1 = RandomForestClassifier(class_weight='balanced',max_depth=10)\n",
    "randfor_M1.fit(X_train_M1,y_train_M1)"
   ]
  },
  {
   "cell_type": "code",
   "execution_count": 95,
   "metadata": {
    "collapsed": false
   },
   "outputs": [
    {
     "name": "stdout",
     "output_type": "stream",
     "text": [
      "train roc auc score:\t0.89659667234\n"
     ]
    }
   ],
   "source": [
    "y_train_M1_pred = randfor_M1.predict(X_train_M1)\n",
    "y_train_M1_pred_proba = randfor_M1.predict_proba(X_train_M1)[:,1]\n",
    "train_roc_auc = roc_auc_score(y_train_M1,y_train_M1_pred_proba)\n",
    "print 'train roc auc score:\\t',train_roc_auc"
   ]
  },
  {
   "cell_type": "code",
   "execution_count": 96,
   "metadata": {
    "collapsed": false
   },
   "outputs": [
    {
     "name": "stdout",
     "output_type": "stream",
     "text": [
      "test roc auc score:\t0.888855569244\n"
     ]
    }
   ],
   "source": [
    "y_test_M1_pred = randfor_M1.predict(X_test_M1)\n",
    "y_test_M1_pred_proba = randfor_M1.predict_proba(X_test_M1)[:,1]\n",
    "test_roc_auc = roc_auc_score(y_test_M1,y_test_M1_pred_proba)\n",
    "print 'test roc auc score:\\t',test_roc_auc"
   ]
  },
  {
   "cell_type": "code",
   "execution_count": 99,
   "metadata": {
    "collapsed": false
   },
   "outputs": [
    {
     "name": "stdout",
     "output_type": "stream",
     "text": [
      "Top 10 features for Random Forest Model\n",
      "\n",
      "('payment_type', 0.5856570964711818)\n",
      "('total_amount', 0.17105759120200414)\n",
      "('fare_amount', 0.055877264169616546)\n",
      "('trip_distance', 0.04031026910101413)\n",
      "('trip_time', 0.035470152093489853)\n",
      "('lat_long_distance', 0.02298910209761711)\n",
      "('tolls_amount', 0.021427469806758269)\n",
      "('VendorID', 0.017631812128304596)\n",
      "('dropoff_longitude', 0.0096653894967585734)\n",
      "('pickup_longitude', 0.0078058607532743036)\n"
     ]
    }
   ],
   "source": [
    "randfor_feature_imp = zip(X_train_M1.columns, randfor_M1.feature_importances_)\n",
    "randfor_feature_imp = sorted(randfor_feature_imp,key=lambda x: x[1],reverse=True)\n",
    "print \"Top 10 features for Random Forest Model\\n\"\n",
    "print '\\n'.join(str(x) for x in randfor_feature_imp[:10])"
   ]
  },
  {
   "cell_type": "markdown",
   "metadata": {},
   "source": [
    "## <font color='blue'>I quickly built a random forest model to predict whether or not high tip will be paid for a trip. Model has a high roc auc score of 0.9.\n",
    "\n",
    "## <font color='blue'>It turns out payment type (cash, credit) is the most important factor, followed by total amount paid, trip distance and time.\n",
    "\n",
    "## <font color='blue'>Also dropoff & pickup longitude is in top-10, showing that area indeed has an important effect on tip behaviour"
   ]
  },
  {
   "cell_type": "markdown",
   "metadata": {},
   "source": [
    "## Conclusion"
   ]
  },
  {
   "cell_type": "markdown",
   "metadata": {
    "collapsed": true
   },
   "source": [
    "If I had more time for this project, I would do the following:\n",
    "\n",
    "- Instead of using high-level 5 boroughs for NYC, I would have used more granular 266 neighborhoods for analysis\n",
    "- I would have spend more time feature engineering and exploring the data\n",
    "- Especially in Machine Learning section, I would have spend more time to do:\n",
    "    * k-fold cross validation instead of just train/test split\n",
    "    * explore decision tree to get explicit rules around neighborhood lat, long\n",
    "    * more models"
   ]
  }
 ],
 "metadata": {
  "anaconda-cloud": {},
  "kernelspec": {
   "display_name": "Python [conda root]",
   "language": "python",
   "name": "conda-root-py"
  },
  "language_info": {
   "codemirror_mode": {
    "name": "ipython",
    "version": 2
   },
   "file_extension": ".py",
   "mimetype": "text/x-python",
   "name": "python",
   "nbconvert_exporter": "python",
   "pygments_lexer": "ipython2",
   "version": "2.7.12"
  }
 },
 "nbformat": 4,
 "nbformat_minor": 1
}
